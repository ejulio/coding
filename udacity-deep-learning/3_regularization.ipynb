{
 "cells": [
  {
   "cell_type": "markdown",
   "metadata": {
    "colab_type": "text",
    "deletable": true,
    "editable": true,
    "id": "kR-4eNdK6lYS"
   },
   "source": [
    "Deep Learning\n",
    "=============\n",
    "\n",
    "Assignment 3\n",
    "------------\n",
    "\n",
    "Previously in `2_fullyconnected.ipynb`, you trained a logistic regression and a neural network model.\n",
    "\n",
    "The goal of this assignment is to explore regularization techniques."
   ]
  },
  {
   "cell_type": "code",
   "execution_count": 1,
   "metadata": {
    "cellView": "both",
    "colab": {
     "autoexec": {
      "startup": false,
      "wait_interval": 0
     }
    },
    "colab_type": "code",
    "collapsed": true,
    "deletable": true,
    "editable": true,
    "id": "JLpLa8Jt7Vu4"
   },
   "outputs": [],
   "source": [
    "# These are all the modules we'll be using later. Make sure you can import them\n",
    "# before proceeding further.\n",
    "from __future__ import print_function\n",
    "import numpy as np\n",
    "import tensorflow as tf\n",
    "from six.moves import cPickle as pickle"
   ]
  },
  {
   "cell_type": "markdown",
   "metadata": {
    "colab_type": "text",
    "deletable": true,
    "editable": true,
    "id": "1HrCK6e17WzV"
   },
   "source": [
    "First reload the data we generated in `1_notmnist.ipynb`."
   ]
  },
  {
   "cell_type": "code",
   "execution_count": 2,
   "metadata": {
    "cellView": "both",
    "colab": {
     "autoexec": {
      "startup": false,
      "wait_interval": 0
     },
     "output_extras": [
      {
       "item_id": 1
      }
     ]
    },
    "colab_type": "code",
    "collapsed": false,
    "deletable": true,
    "editable": true,
    "executionInfo": {
     "elapsed": 11777,
     "status": "ok",
     "timestamp": 1449849322348,
     "user": {
      "color": "",
      "displayName": "",
      "isAnonymous": false,
      "isMe": true,
      "permissionId": "",
      "photoUrl": "",
      "sessionId": "0",
      "userId": ""
     },
     "user_tz": 480
    },
    "id": "y3-cj1bpmuxc",
    "outputId": "e03576f1-ebbe-4838-c388-f1777bcc9873"
   },
   "outputs": [
    {
     "name": "stdout",
     "output_type": "stream",
     "text": [
      "Training set (200000, 28, 28) (200000,)\n",
      "Validation set (10000, 28, 28) (10000,)\n",
      "Test set (10000, 28, 28) (10000,)\n"
     ]
    }
   ],
   "source": [
    "pickle_file = 'notMNIST.pickle'\n",
    "\n",
    "with open(pickle_file, 'rb') as f:\n",
    "  save = pickle.load(f)\n",
    "  train_dataset = save['train_dataset']\n",
    "  train_labels = save['train_labels']\n",
    "  valid_dataset = save['valid_dataset']\n",
    "  valid_labels = save['valid_labels']\n",
    "  test_dataset = save['test_dataset']\n",
    "  test_labels = save['test_labels']\n",
    "  del save  # hint to help gc free up memory\n",
    "  print('Training set', train_dataset.shape, train_labels.shape)\n",
    "  print('Validation set', valid_dataset.shape, valid_labels.shape)\n",
    "  print('Test set', test_dataset.shape, test_labels.shape)"
   ]
  },
  {
   "cell_type": "markdown",
   "metadata": {
    "colab_type": "text",
    "deletable": true,
    "editable": true,
    "id": "L7aHrm6nGDMB"
   },
   "source": [
    "Reformat into a shape that's more adapted to the models we're going to train:\n",
    "- data as a flat matrix,\n",
    "- labels as float 1-hot encodings."
   ]
  },
  {
   "cell_type": "code",
   "execution_count": 3,
   "metadata": {
    "cellView": "both",
    "colab": {
     "autoexec": {
      "startup": false,
      "wait_interval": 0
     },
     "output_extras": [
      {
       "item_id": 1
      }
     ]
    },
    "colab_type": "code",
    "collapsed": false,
    "deletable": true,
    "editable": true,
    "executionInfo": {
     "elapsed": 11728,
     "status": "ok",
     "timestamp": 1449849322356,
     "user": {
      "color": "",
      "displayName": "",
      "isAnonymous": false,
      "isMe": true,
      "permissionId": "",
      "photoUrl": "",
      "sessionId": "0",
      "userId": ""
     },
     "user_tz": 480
    },
    "id": "IRSyYiIIGIzS",
    "outputId": "3f8996ee-3574-4f44-c953-5c8a04636582"
   },
   "outputs": [
    {
     "name": "stdout",
     "output_type": "stream",
     "text": [
      "Training set (200000, 784) (200000, 10)\n",
      "Validation set (10000, 784) (10000, 10)\n",
      "Test set (10000, 784) (10000, 10)\n"
     ]
    }
   ],
   "source": [
    "image_size = 28\n",
    "num_labels = 10\n",
    "\n",
    "def reformat(dataset, labels):\n",
    "  dataset = dataset.reshape((-1, image_size * image_size)).astype(np.float32)\n",
    "  # Map 1 to [0.0, 1.0, 0.0 ...], 2 to [0.0, 0.0, 1.0 ...]\n",
    "  labels = (np.arange(num_labels) == labels[:,None]).astype(np.float32)\n",
    "  return dataset, labels\n",
    "train_dataset, train_labels = reformat(train_dataset, train_labels)\n",
    "valid_dataset, valid_labels = reformat(valid_dataset, valid_labels)\n",
    "test_dataset, test_labels = reformat(test_dataset, test_labels)\n",
    "print('Training set', train_dataset.shape, train_labels.shape)\n",
    "print('Validation set', valid_dataset.shape, valid_labels.shape)\n",
    "print('Test set', test_dataset.shape, test_labels.shape)"
   ]
  },
  {
   "cell_type": "code",
   "execution_count": 4,
   "metadata": {
    "cellView": "both",
    "colab": {
     "autoexec": {
      "startup": false,
      "wait_interval": 0
     }
    },
    "colab_type": "code",
    "collapsed": true,
    "deletable": true,
    "editable": true,
    "id": "RajPLaL_ZW6w"
   },
   "outputs": [],
   "source": [
    "def accuracy(predictions, labels):\n",
    "  return (100.0 * np.sum(np.argmax(predictions, 1) == np.argmax(labels, 1))\n",
    "          / predictions.shape[0])"
   ]
  },
  {
   "cell_type": "markdown",
   "metadata": {
    "colab_type": "text",
    "deletable": true,
    "editable": true,
    "id": "sgLbUAQ1CW-1"
   },
   "source": [
    "---\n",
    "Problem 1\n",
    "---------\n",
    "\n",
    "Introduce and tune L2 regularization for both logistic and neural network models. Remember that L2 amounts to adding a penalty on the norm of the weights to the loss. In TensorFlow, you can compute the L2 loss for a tensor `t` using `nn.l2_loss(t)`. The right amount of regularization should improve your validation / test accuracy.\n",
    "\n",
    "---"
   ]
  },
  {
   "cell_type": "code",
   "execution_count": 5,
   "metadata": {
    "collapsed": true,
    "deletable": true,
    "editable": true
   },
   "outputs": [],
   "source": [
    "batch_size = 128\n",
    "size = image_size * image_size\n",
    "\n",
    "beta = 0.01\n",
    "\n",
    "graph = tf.Graph()\n",
    "with graph.as_default():\n",
    "    tf_train_dataset = tf.placeholder(tf.float32, \n",
    "        shape = (batch_size, image_size * image_size))\n",
    "    tf_train_labels = tf.placeholder(tf.float32, \n",
    "        shape = (batch_size, num_labels))\n",
    "    tf_valid_dataset = tf.constant(valid_dataset)\n",
    "    tf_test_dataset = tf.constant(test_dataset)\n",
    "    \n",
    "    w_1 = tf.Variable(\n",
    "        tf.truncated_normal([size, size]))\n",
    "    b_1 = tf.Variable(tf.zeros([size]))\n",
    "    layer_1 = tf.matmul(tf_train_dataset, w_1) + b_1\n",
    "    relu_1 = tf.nn.relu(layer_1)\n",
    "    \n",
    "    w_2 = tf.Variable(\n",
    "        tf.truncated_normal([size, num_labels]))\n",
    "    b_2 = tf.Variable(tf.zeros([num_labels]))\n",
    "    logits = tf.matmul(relu_1, w_2) + b_2\n",
    "    \n",
    "    loss = tf.reduce_mean(\n",
    "        tf.nn.softmax_cross_entropy_with_logits(labels = tf_train_labels, \n",
    "        logits = logits) + \n",
    "        beta * tf.nn.l2_loss(w_1) +\n",
    "        beta * tf.nn.l2_loss(w_2))\n",
    "    \n",
    "    optimizer = tf.train.GradientDescentOptimizer(0.5).minimize(loss)\n",
    "    \n",
    "    train_prediction = tf.nn.softmax(logits)\n",
    "    valid_prediction = tf.nn.softmax(\n",
    "        tf.matmul(\n",
    "            tf.nn.relu(\n",
    "                tf.matmul(tf_valid_dataset, w_1) + b_1), w_2) + b_2)\n",
    "    test_prediction = tf.nn.softmax(\n",
    "        tf.matmul(\n",
    "            tf.nn.relu(\n",
    "                tf.matmul(tf_test_dataset, w_1) + b_1), w_2) + b_2)"
   ]
  },
  {
   "cell_type": "code",
   "execution_count": 6,
   "metadata": {
    "collapsed": false,
    "deletable": true,
    "editable": true
   },
   "outputs": [
    {
     "name": "stdout",
     "output_type": "stream",
     "text": [
      "Initialized\n",
      "Minibatch loss at step 0: 2702.079834\n",
      "Minibatch accuracy: 14%\n",
      "Validation accuracy: 30.4%\n",
      "Minibatch loss at step 500: 16.509079\n",
      "Minibatch accuracy: 84%\n",
      "Validation accuracy: 83.9%\n",
      "Minibatch loss at step 1000: 0.770987\n",
      "Minibatch accuracy: 87%\n",
      "Validation accuracy: 82.9%\n",
      "Minibatch loss at step 1500: 0.710028\n",
      "Minibatch accuracy: 83%\n",
      "Validation accuracy: 83.3%\n",
      "Minibatch loss at step 2000: 0.709954\n",
      "Minibatch accuracy: 84%\n",
      "Validation accuracy: 82.8%\n",
      "Minibatch loss at step 2500: 0.699707\n",
      "Minibatch accuracy: 84%\n",
      "Validation accuracy: 83.6%\n",
      "Minibatch loss at step 3000: 0.853878\n",
      "Minibatch accuracy: 79%\n",
      "Validation accuracy: 82.7%\n",
      "Test accuracy: 89.6%\n"
     ]
    }
   ],
   "source": [
    "num_steps = 3001\n",
    "\n",
    "with tf.Session(graph = graph) as session:\n",
    "    tf.global_variables_initializer().run()\n",
    "    print('Initialized')\n",
    "    for step in range(num_steps):\n",
    "        offset = (step * batch_size) % (train_labels.shape[0] - batch_size)\n",
    "        batch_data = train_dataset[offset:(offset + batch_size), :]\n",
    "        batch_labels = train_labels[offset:(offset + batch_size), :]\n",
    "        \n",
    "        feed_dict = {tf_train_dataset: batch_data, tf_train_labels: batch_labels}\n",
    "        _, l, predictions = session.run([optimizer, loss, train_prediction], \n",
    "            feed_dict = feed_dict)\n",
    "        if step % 500 == 0:\n",
    "            print('Minibatch loss at step %d: %f' % (step, l))\n",
    "            print('Minibatch accuracy: %.f%%' % accuracy(predictions, batch_labels))\n",
    "            print('Validation accuracy: %.1f%%' % accuracy(\n",
    "            valid_prediction.eval(), valid_labels))\n",
    "    \n",
    "    print('Test accuracy: %.1f%%' % accuracy(\n",
    "        test_prediction.eval(), test_labels))"
   ]
  },
  {
   "cell_type": "markdown",
   "metadata": {
    "colab_type": "text",
    "deletable": true,
    "editable": true,
    "id": "na8xX2yHZzNF"
   },
   "source": [
    "---\n",
    "Problem 2\n",
    "---------\n",
    "Let's demonstrate an extreme case of overfitting. Restrict your training data to just a few batches. What happens?\n",
    "\n",
    "---"
   ]
  },
  {
   "cell_type": "code",
   "execution_count": 7,
   "metadata": {
    "collapsed": false,
    "deletable": true,
    "editable": true
   },
   "outputs": [
    {
     "name": "stdout",
     "output_type": "stream",
     "text": [
      "Initialized\n",
      "Minibatch loss at step 0: 2716.024414\n",
      "Minibatch accuracy: 7%\n",
      "Validation accuracy: 37.7%\n",
      "Minibatch loss at step 500: 16.074089\n",
      "Minibatch accuracy: 100%\n",
      "Validation accuracy: 71.9%\n",
      "Minibatch loss at step 1000: 1.270627\n",
      "Minibatch accuracy: 69%\n",
      "Validation accuracy: 75.0%\n",
      "Minibatch loss at step 1500: 0.194639\n",
      "Minibatch accuracy: 100%\n",
      "Validation accuracy: 69.8%\n",
      "Minibatch loss at step 2000: 1.216130\n",
      "Minibatch accuracy: 69%\n",
      "Validation accuracy: 70.7%\n",
      "Minibatch loss at step 2500: 0.198988\n",
      "Minibatch accuracy: 100%\n",
      "Validation accuracy: 72.1%\n",
      "Minibatch loss at step 3000: 1.084490\n",
      "Minibatch accuracy: 71%\n",
      "Validation accuracy: 62.9%\n",
      "Test accuracy: 69.0%\n"
     ]
    }
   ],
   "source": [
    "num_steps = 3001\n",
    "\n",
    "with tf.Session(graph = graph) as session:\n",
    "    tf.global_variables_initializer().run()\n",
    "    print('Initialized')\n",
    "    for step in range(num_steps):\n",
    "        offset = (int(step / 1000) * batch_size) % (train_labels.shape[0] - batch_size)\n",
    "        batch_data = train_dataset[offset:(offset + batch_size), :]\n",
    "        batch_labels = train_labels[offset:(offset + batch_size), :]\n",
    "        \n",
    "        feed_dict = {tf_train_dataset: batch_data, tf_train_labels: batch_labels}\n",
    "        _, l, predictions = session.run([optimizer, loss, train_prediction], \n",
    "            feed_dict = feed_dict)\n",
    "        if step % 500 == 0:\n",
    "            print('Minibatch loss at step %d: %f' % (step, l))\n",
    "            print('Minibatch accuracy: %.f%%' % accuracy(predictions, batch_labels))\n",
    "            print('Validation accuracy: %.1f%%' % accuracy(\n",
    "            valid_prediction.eval(), valid_labels))\n",
    "    \n",
    "    print('Test accuracy: %.1f%%' % accuracy(\n",
    "        test_prediction.eval(), test_labels))"
   ]
  },
  {
   "cell_type": "markdown",
   "metadata": {
    "colab_type": "text",
    "deletable": true,
    "editable": true,
    "id": "ww3SCBUdlkRc"
   },
   "source": [
    "---\n",
    "Problem 3\n",
    "---------\n",
    "Introduce Dropout on the hidden layer of the neural network. Remember: Dropout should only be introduced during training, not evaluation, otherwise your evaluation results would be stochastic as well. TensorFlow provides `nn.dropout()` for that, but you have to make sure it's only inserted during training.\n",
    "\n",
    "What happens to our extreme overfitting case?\n",
    "\n",
    "---"
   ]
  },
  {
   "cell_type": "code",
   "execution_count": 12,
   "metadata": {
    "collapsed": true,
    "deletable": true,
    "editable": true
   },
   "outputs": [],
   "source": [
    "batch_size = 128\n",
    "size = image_size * image_size\n",
    "\n",
    "beta = 0.01\n",
    "\n",
    "graph = tf.Graph()\n",
    "with graph.as_default():\n",
    "    tf_train_dataset = tf.placeholder(tf.float32, \n",
    "        shape = (batch_size, image_size * image_size))\n",
    "    tf_train_labels = tf.placeholder(tf.float32, \n",
    "        shape = (batch_size, num_labels))\n",
    "    tf_valid_dataset = tf.constant(valid_dataset)\n",
    "    tf_test_dataset = tf.constant(test_dataset)\n",
    "    \n",
    "    drop_1 = tf.nn.dropout(tf_train_dataset, 0.5)\n",
    "    w_1 = tf.Variable(\n",
    "        tf.truncated_normal([size, size]))\n",
    "    b_1 = tf.Variable(tf.zeros([size]))\n",
    "    layer_1 = tf.matmul(drop_1, w_1) + b_1\n",
    "    relu_1 = tf.nn.relu(layer_1)\n",
    "    \n",
    "    drop_2 = tf.nn.dropout(relu_1, 0.5)\n",
    "    w_2 = tf.Variable(\n",
    "        tf.truncated_normal([size, num_labels]))\n",
    "    b_2 = tf.Variable(tf.zeros([num_labels]))\n",
    "    logits = tf.matmul(drop_2, w_2) + b_2\n",
    "    \n",
    "    loss = tf.reduce_mean(\n",
    "        tf.nn.softmax_cross_entropy_with_logits(labels = tf_train_labels, \n",
    "        logits = logits) + \n",
    "        beta * tf.nn.l2_loss(w_1) +\n",
    "        beta * tf.nn.l2_loss(w_2))\n",
    "    \n",
    "    optimizer = tf.train.GradientDescentOptimizer(0.5).minimize(loss)\n",
    "    \n",
    "    train_prediction = tf.nn.softmax(logits)\n",
    "    valid_prediction = tf.nn.relu(tf.matmul(tf_valid_dataset, w_1) + b_1)\n",
    "    valid_prediction = tf.nn.softmax(tf.matmul(valid_prediction, w_2) + b_2)\n",
    "    \n",
    "    test_prediction = tf.nn.relu(tf.matmul(tf_test_dataset, w_1) + b_1)\n",
    "    test_prediction = tf.nn.softmax(tf.matmul(test_prediction, w_2) + b_2)"
   ]
  },
  {
   "cell_type": "code",
   "execution_count": 13,
   "metadata": {
    "collapsed": false,
    "deletable": true,
    "editable": true
   },
   "outputs": [
    {
     "name": "stdout",
     "output_type": "stream",
     "text": [
      "Initialized\n",
      "Minibatch loss at step 0: 3042.482422\n",
      "Minibatch accuracy: 14%\n",
      "Validation accuracy: 35.6%\n",
      "Minibatch loss at step 500: 16.408140\n",
      "Minibatch accuracy: 100%\n",
      "Validation accuracy: 72.3%\n",
      "Minibatch loss at step 1000: 1.389917\n",
      "Minibatch accuracy: 66%\n",
      "Validation accuracy: 75.1%\n",
      "Minibatch loss at step 1500: 0.258620\n",
      "Minibatch accuracy: 100%\n",
      "Validation accuracy: 69.8%\n",
      "Minibatch loss at step 2000: 1.210892\n",
      "Minibatch accuracy: 69%\n",
      "Validation accuracy: 70.6%\n",
      "Minibatch loss at step 2500: 0.265186\n",
      "Minibatch accuracy: 100%\n",
      "Validation accuracy: 72.1%\n",
      "Minibatch loss at step 3000: 1.306665\n",
      "Minibatch accuracy: 64%\n",
      "Validation accuracy: 67.7%\n",
      "Test accuracy: 74.1%\n"
     ]
    }
   ],
   "source": [
    "num_steps = 3001\n",
    "\n",
    "with tf.Session(graph = graph) as session:\n",
    "    tf.global_variables_initializer().run()\n",
    "    print('Initialized')\n",
    "    for step in range(num_steps):\n",
    "        offset = (int(step / 1000) * batch_size) % (train_labels.shape[0] - batch_size)\n",
    "        batch_data = train_dataset[offset:(offset + batch_size), :]\n",
    "        batch_labels = train_labels[offset:(offset + batch_size), :]\n",
    "        \n",
    "        feed_dict = {tf_train_dataset: batch_data, tf_train_labels: batch_labels}\n",
    "        _, l, predictions = session.run([optimizer, loss, train_prediction], \n",
    "            feed_dict = feed_dict)\n",
    "        if step % 500 == 0:\n",
    "            print('Minibatch loss at step %d: %f' % (step, l))\n",
    "            print('Minibatch accuracy: %.f%%' % accuracy(predictions, batch_labels))\n",
    "            print('Validation accuracy: %.1f%%' % accuracy(\n",
    "            valid_prediction.eval(), valid_labels))\n",
    "    \n",
    "    print('Test accuracy: %.1f%%' % accuracy(\n",
    "        test_prediction.eval(), test_labels))"
   ]
  },
  {
   "cell_type": "markdown",
   "metadata": {
    "colab_type": "text",
    "deletable": true,
    "editable": true,
    "id": "-b1hTz3VWZjw"
   },
   "source": [
    "---\n",
    "Problem 4\n",
    "---------\n",
    "\n",
    "Try to get the best performance you can using a multi-layer model! The best reported test accuracy using a deep network is [97.1%](http://yaroslavvb.blogspot.com/2011/09/notmnist-dataset.html?showComment=1391023266211#c8758720086795711595).\n",
    "\n",
    "One avenue you can explore is to add multiple layers.\n",
    "\n",
    "Another one is to use learning rate decay:\n",
    "\n",
    "    global_step = tf.Variable(0)  # count the number of steps taken.\n",
    "    learning_rate = tf.train.exponential_decay(0.5, global_step, ...)\n",
    "    optimizer = tf.train.GradientDescentOptimizer(learning_rate).minimize(loss, global_step=global_step)\n",
    " \n",
    " ---\n"
   ]
  },
  {
   "cell_type": "code",
   "execution_count": 91,
   "metadata": {
    "collapsed": false,
    "deletable": true,
    "editable": true
   },
   "outputs": [],
   "source": [
    "batch_size = 128\n",
    "size = image_size * image_size\n",
    "beta = 0.0005\n",
    "\n",
    "graph = tf.Graph()\n",
    "with graph.as_default():\n",
    "    tf_train_dataset = tf.placeholder(tf.float32, \n",
    "        shape = (batch_size, image_size * image_size))\n",
    "    tf_train_labels = tf.placeholder(tf.float32, \n",
    "        shape = (batch_size, num_labels))\n",
    "    tf_valid_dataset = tf.constant(valid_dataset)\n",
    "    tf_test_dataset = tf.constant(test_dataset)\n",
    "    \n",
    "    w_1 = tf.Variable(\n",
    "        tf.truncated_normal([size, size], stddev = 0.01))\n",
    "    b_1 = tf.Variable(tf.zeros([size]))\n",
    "    layer_1 = tf.matmul(tf_train_dataset, w_1) + b_1\n",
    "    relu_1 = tf.nn.relu(layer_1)\n",
    "    \n",
    "    size_layer_2 = 512\n",
    "    w_2 = tf.Variable(\n",
    "        tf.truncated_normal([size, size_layer_2], stddev = 0.01))\n",
    "    b_2 = tf.Variable(tf.zeros([size_layer_2]))\n",
    "    layer_2 = tf.matmul(relu_1, w_2) + b_2\n",
    "    relu_2 = tf.nn.relu(layer_2)\n",
    "    \n",
    "    size_layer_3 = 256\n",
    "    w_3 = tf.Variable(\n",
    "        tf.truncated_normal([size_layer_2, size_layer_3], stddev = 0.01))\n",
    "    b_3 = tf.Variable(tf.zeros([size_layer_3]))\n",
    "    layer_3 = tf.matmul(relu_2, w_3) + b_3\n",
    "    relu_3 = tf.nn.relu(layer_3)\n",
    "    \n",
    "    drop_4 = tf.nn.dropout(relu_3, 0.2)\n",
    "    w_4 = tf.Variable(\n",
    "        tf.truncated_normal([size_layer_3, num_labels], stddev = 0.001))\n",
    "    b_4 = tf.Variable(tf.zeros([num_labels]))\n",
    "    logits = tf.matmul(drop_4, w_4) + b_4\n",
    "    \n",
    "    loss = tf.reduce_mean(\n",
    "        tf.nn.softmax_cross_entropy_with_logits(labels = tf_train_labels, \n",
    "        logits = logits) + \n",
    "        beta * tf.nn.l2_loss(w_1) +\n",
    "        beta * tf.nn.l2_loss(w_2) +\n",
    "        beta * tf.nn.l2_loss(w_3) +\n",
    "        beta * tf.nn.l2_loss(w_4))\n",
    "    \n",
    "    global_step = tf.Variable(0)\n",
    "    learning_rate = tf.train.exponential_decay(0.5, \n",
    "        global_step, decay_steps = 1000, decay_rate = 0.96)\n",
    "    optimizer = tf.train.GradientDescentOptimizer(learning_rate).minimize(loss, \n",
    "        global_step = global_step)\n",
    "    \n",
    "    train_prediction = tf.nn.softmax(logits)\n",
    "    valid_prediction = tf.nn.relu(tf.matmul(tf_valid_dataset, w_1) + b_1)\n",
    "    valid_prediction = tf.nn.relu(tf.matmul(valid_prediction, w_2) + b_2)\n",
    "    valid_prediction = tf.nn.relu(tf.matmul(valid_prediction, w_3) + b_3)\n",
    "    valid_prediction = tf.nn.softmax(tf.matmul(valid_prediction, w_4) + b_4)\n",
    "    \n",
    "    test_prediction = tf.nn.relu(tf.matmul(tf_test_dataset, w_1) + b_1)\n",
    "    test_prediction = tf.nn.relu(tf.matmul(test_prediction, w_2) + b_2)\n",
    "    test_prediction = tf.nn.relu(tf.matmul(test_prediction, w_3) + b_3)\n",
    "    test_prediction = tf.nn.softmax(tf.matmul(test_prediction, w_4) + b_4)"
   ]
  },
  {
   "cell_type": "code",
   "execution_count": 92,
   "metadata": {
    "collapsed": false,
    "deletable": true,
    "editable": true
   },
   "outputs": [
    {
     "name": "stdout",
     "output_type": "stream",
     "text": [
      "Initialized\n",
      "Minibatch loss at step 0: 2.324758\n",
      "Minibatch accuracy: 9%\n",
      "Validation accuracy: 10.0%\n",
      "Minibatch loss at step 500: 0.796208\n",
      "Minibatch accuracy: 78%\n",
      "Validation accuracy: 81.0%\n",
      "Minibatch loss at step 1000: 0.459511\n",
      "Minibatch accuracy: 88%\n",
      "Validation accuracy: 84.7%\n",
      "Minibatch loss at step 1500: 0.535201\n",
      "Minibatch accuracy: 85%\n",
      "Validation accuracy: 86.1%\n",
      "Minibatch loss at step 2000: 0.471013\n",
      "Minibatch accuracy: 87%\n",
      "Validation accuracy: 87.2%\n",
      "Minibatch loss at step 2500: 0.543292\n",
      "Minibatch accuracy: 87%\n",
      "Validation accuracy: 87.1%\n",
      "Minibatch loss at step 3000: 0.700882\n",
      "Minibatch accuracy: 80%\n",
      "Validation accuracy: 87.4%\n",
      "Test accuracy: 93.7%\n"
     ]
    }
   ],
   "source": [
    "num_steps = 3001\n",
    "\n",
    "with tf.Session(graph = graph) as session:\n",
    "    tf.global_variables_initializer().run()\n",
    "    print('Initialized')\n",
    "    for step in range(num_steps):\n",
    "        offset = (step * batch_size) % (train_labels.shape[0] - batch_size)\n",
    "        batch_data = train_dataset[offset:(offset + batch_size), :]\n",
    "        batch_labels = train_labels[offset:(offset + batch_size), :]\n",
    "        \n",
    "        feed_dict = {tf_train_dataset: batch_data, tf_train_labels: batch_labels}\n",
    "        _, l, predictions = session.run([optimizer, loss, train_prediction], \n",
    "            feed_dict = feed_dict)\n",
    "        if step % 500 == 0:\n",
    "            print('Minibatch loss at step %d: %f' % (step, l))\n",
    "            print('Minibatch accuracy: %.f%%' % accuracy(predictions, batch_labels))\n",
    "            print('Validation accuracy: %.1f%%' % accuracy(\n",
    "            valid_prediction.eval(), valid_labels))\n",
    "    \n",
    "    print('Test accuracy: %.1f%%' % accuracy(\n",
    "        test_prediction.eval(), test_labels))"
   ]
  },
  {
   "cell_type": "code",
   "execution_count": null,
   "metadata": {
    "collapsed": true,
    "deletable": true,
    "editable": true
   },
   "outputs": [],
   "source": []
  }
 ],
 "metadata": {
  "colab": {
   "default_view": {},
   "name": "3_regularization.ipynb",
   "provenance": [],
   "version": "0.3.2",
   "views": {}
  },
  "kernelspec": {
   "display_name": "Python 3",
   "language": "python",
   "name": "python3"
  },
  "language_info": {
   "codemirror_mode": {
    "name": "ipython",
    "version": 3
   },
   "file_extension": ".py",
   "mimetype": "text/x-python",
   "name": "python",
   "nbconvert_exporter": "python",
   "pygments_lexer": "ipython3",
   "version": "3.5.2"
  }
 },
 "nbformat": 4,
 "nbformat_minor": 0
}
