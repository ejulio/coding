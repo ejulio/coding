{
 "cells": [
  {
   "cell_type": "code",
   "execution_count": 29,
   "metadata": {
    "collapsed": true
   },
   "outputs": [],
   "source": [
    "import tensorflow as tf\n",
    "import numpy as np"
   ]
  },
  {
   "cell_type": "code",
   "execution_count": 2,
   "metadata": {
    "collapsed": false
   },
   "outputs": [
    {
     "name": "stdout",
     "output_type": "stream",
     "text": [
      "30.0\n",
      "30.0\n"
     ]
    }
   ],
   "source": [
    "a = tf.constant(5.0)\n",
    "b = tf.constant(6.0)\n",
    "c = a * b\n",
    "with tf.Session() as sess:\n",
    "    print(sess.run(c))\n",
    "    print(c.eval())"
   ]
  },
  {
   "cell_type": "code",
   "execution_count": 4,
   "metadata": {
    "collapsed": false
   },
   "outputs": [
    {
     "name": "stdout",
     "output_type": "stream",
     "text": [
      "[[ 1.  1.]\n",
      " [ 1.  1.]]\n",
      "[[ 0.  0.]\n",
      " [ 0.  0.]]\n"
     ]
    }
   ],
   "source": [
    "W1 = tf.ones((2, 2))\n",
    "W2 = tf.Variable(tf.zeros((2, 2)), name='weights')\n",
    "\n",
    "with tf.Session() as sess:\n",
    "    print(sess.run(W1))\n",
    "    sess.run(tf.global_variables_initializer())\n",
    "    print(sess.run(W2))"
   ]
  },
  {
   "cell_type": "code",
   "execution_count": 9,
   "metadata": {
    "collapsed": false
   },
   "outputs": [
    {
     "name": "stdout",
     "output_type": "stream",
     "text": [
      "0\n",
      "[1, 1]\n",
      "[2, 2]\n",
      "[3, 3]\n",
      "[4, 4]\n",
      "[5, 5]\n"
     ]
    }
   ],
   "source": [
    "state = tf.Variable(0, name='counter')\n",
    "new_value = tf.add(state, tf.constant(1))\n",
    "update = tf.assign(state, new_value)\n",
    "\n",
    "with tf.Session() as sess:\n",
    "    sess.run(tf.global_variables_initializer())\n",
    "    print(sess.run(state))\n",
    "    for _ in range(5):\n",
    "          value = sess.run([update, new_value])\n",
    "          print(value)"
   ]
  },
  {
   "cell_type": "code",
   "execution_count": 19,
   "metadata": {
    "collapsed": false
   },
   "outputs": [
    {
     "name": "stdout",
     "output_type": "stream",
     "text": [
      "[14.0]\n"
     ]
    }
   ],
   "source": [
    "input1 = tf.placeholder(tf.float32)\n",
    "input2 = tf.placeholder(tf.float32)\n",
    "output = input1 * input2\n",
    "\n",
    "with tf.Session() as sess:\n",
    "    result = sess.run([output], feed_dict={input1:7.0, input2:2.0})\n",
    "    print(result)"
   ]
  },
  {
   "cell_type": "code",
   "execution_count": 28,
   "metadata": {
    "collapsed": false
   },
   "outputs": [
    {
     "name": "stdout",
     "output_type": "stream",
     "text": [
      "[array([[ 0.54536271,  1.19627726]], dtype=float32)]\n"
     ]
    }
   ],
   "source": [
    "with tf.variable_scope('foo', reuse=False) as scope:\n",
    "    #scope.reuse_variables()\n",
    "    v = tf.get_variable('v2', [1, 2])\n",
    "\n",
    "with tf.Session() as sess:\n",
    "    sess.run(tf.global_variables_initializer())\n",
    "    result = sess.run([v])\n",
    "    print(result)"
   ]
  },
  {
   "cell_type": "code",
   "execution_count": 72,
   "metadata": {
    "collapsed": false
   },
   "outputs": [],
   "source": [
    "batch_size = 10\n",
    "num_unrollings = 5\n",
    "vocabulary_size = 7\n",
    "\n",
    "model = tf.Graph()\n",
    "with model.as_default():\n",
    "    def zeros(shape):\n",
    "        initial_value = tf.zeros(shape)\n",
    "        return tf.Variable(initial_value, trainable=False)\n",
    "    \n",
    "    saved_output = zeros((batch_size, vocabulary_size))\n",
    "    saved_state = zeros((batch_size, vocabulary_size))\n",
    "    \n",
    "    def cell(i, o, s):\n",
    "        return (i + o, i + s + 1)\n",
    "    \n",
    "    inputs = []\n",
    "    for _ in range(num_unrollings):\n",
    "        placeholder = tf.placeholder(tf.float32,\n",
    "                                     shape=(batch_size, vocabulary_size))\n",
    "        inputs.append(placeholder)\n",
    "    \n",
    "    o = saved_output\n",
    "    s = saved_state\n",
    "    outputs = []\n",
    "    for value in inputs:\n",
    "        (o, s) = cell(value, o, s)\n",
    "        outputs.append(o)\n",
    "    \n",
    "    #dependency = [saved_output.assign(o),\n",
    "    #              saved_state.assign(s)]\n",
    "    #with tf.control_dependencies(dependency):\n",
    "    x = tf.concat(outputs, 0)\n",
    "    y = tf.reduce_mean(x)"
   ]
  },
  {
   "cell_type": "code",
   "execution_count": 73,
   "metadata": {
    "collapsed": false
   },
   "outputs": [
    {
     "name": "stdout",
     "output_type": "stream",
     "text": [
      "Outputs\n",
      "[[ 0.  1.  2.  3.  4.  0.  0.]\n",
      " [ 0.  1.  2.  3.  4.  0.  0.]\n",
      " [ 0.  1.  2.  3.  4.  0.  0.]\n",
      " [ 0.  1.  2.  3.  4.  0.  0.]\n",
      " [ 0.  1.  2.  3.  4.  0.  0.]\n",
      " [ 0.  1.  2.  3.  4.  0.  0.]\n",
      " [ 0.  1.  2.  3.  4.  0.  0.]\n",
      " [ 0.  1.  2.  3.  4.  0.  0.]\n",
      " [ 0.  1.  2.  3.  4.  0.  0.]\n",
      " [ 0.  1.  2.  3.  4.  0.  0.]]\n",
      "State\n",
      "[[ 5.  6.  7.  8.  9.  5.  5.]\n",
      " [ 5.  6.  7.  8.  9.  5.  5.]\n",
      " [ 5.  6.  7.  8.  9.  5.  5.]\n",
      " [ 5.  6.  7.  8.  9.  5.  5.]\n",
      " [ 5.  6.  7.  8.  9.  5.  5.]\n",
      " [ 5.  6.  7.  8.  9.  5.  5.]\n",
      " [ 5.  6.  7.  8.  9.  5.  5.]\n",
      " [ 5.  6.  7.  8.  9.  5.  5.]\n",
      " [ 5.  6.  7.  8.  9.  5.  5.]\n",
      " [ 5.  6.  7.  8.  9.  5.  5.]]\n",
      "Mean\n",
      "0.571429\n",
      "################# ###################### #############\n",
      "Outputs\n",
      "[[ 0.  1.  2.  3.  4.  0.  0.]\n",
      " [ 0.  1.  2.  3.  4.  0.  0.]\n",
      " [ 0.  1.  2.  3.  4.  0.  0.]\n",
      " [ 0.  1.  2.  3.  4.  0.  0.]\n",
      " [ 0.  1.  2.  3.  4.  0.  0.]\n",
      " [ 0.  1.  2.  3.  4.  0.  0.]\n",
      " [ 0.  1.  2.  3.  4.  0.  0.]\n",
      " [ 0.  1.  2.  3.  4.  0.  0.]\n",
      " [ 0.  1.  2.  3.  4.  0.  0.]\n",
      " [ 0.  1.  2.  3.  4.  0.  0.]]\n",
      "State\n",
      "[[ 5.  6.  7.  8.  9.  5.  5.]\n",
      " [ 5.  6.  7.  8.  9.  5.  5.]\n",
      " [ 5.  6.  7.  8.  9.  5.  5.]\n",
      " [ 5.  6.  7.  8.  9.  5.  5.]\n",
      " [ 5.  6.  7.  8.  9.  5.  5.]\n",
      " [ 5.  6.  7.  8.  9.  5.  5.]\n",
      " [ 5.  6.  7.  8.  9.  5.  5.]\n",
      " [ 5.  6.  7.  8.  9.  5.  5.]\n",
      " [ 5.  6.  7.  8.  9.  5.  5.]\n",
      " [ 5.  6.  7.  8.  9.  5.  5.]]\n",
      "Mean\n",
      "0.571429\n",
      "################# ###################### #############\n",
      "Outputs\n",
      "[[ 0.  1.  2.  3.  4.  0.  0.]\n",
      " [ 0.  1.  2.  3.  4.  0.  0.]\n",
      " [ 0.  1.  2.  3.  4.  0.  0.]\n",
      " [ 0.  1.  2.  3.  4.  0.  0.]\n",
      " [ 0.  1.  2.  3.  4.  0.  0.]\n",
      " [ 0.  1.  2.  3.  4.  0.  0.]\n",
      " [ 0.  1.  2.  3.  4.  0.  0.]\n",
      " [ 0.  1.  2.  3.  4.  0.  0.]\n",
      " [ 0.  1.  2.  3.  4.  0.  0.]\n",
      " [ 0.  1.  2.  3.  4.  0.  0.]]\n",
      "State\n",
      "[[ 5.  6.  7.  8.  9.  5.  5.]\n",
      " [ 5.  6.  7.  8.  9.  5.  5.]\n",
      " [ 5.  6.  7.  8.  9.  5.  5.]\n",
      " [ 5.  6.  7.  8.  9.  5.  5.]\n",
      " [ 5.  6.  7.  8.  9.  5.  5.]\n",
      " [ 5.  6.  7.  8.  9.  5.  5.]\n",
      " [ 5.  6.  7.  8.  9.  5.  5.]\n",
      " [ 5.  6.  7.  8.  9.  5.  5.]\n",
      " [ 5.  6.  7.  8.  9.  5.  5.]\n",
      " [ 5.  6.  7.  8.  9.  5.  5.]]\n",
      "Mean\n",
      "0.571429\n",
      "################# ###################### #############\n",
      "Outputs\n",
      "[[ 0.  1.  2.  3.  4.  0.  0.]\n",
      " [ 0.  1.  2.  3.  4.  0.  0.]\n",
      " [ 0.  1.  2.  3.  4.  0.  0.]\n",
      " [ 0.  1.  2.  3.  4.  0.  0.]\n",
      " [ 0.  1.  2.  3.  4.  0.  0.]\n",
      " [ 0.  1.  2.  3.  4.  0.  0.]\n",
      " [ 0.  1.  2.  3.  4.  0.  0.]\n",
      " [ 0.  1.  2.  3.  4.  0.  0.]\n",
      " [ 0.  1.  2.  3.  4.  0.  0.]\n",
      " [ 0.  1.  2.  3.  4.  0.  0.]]\n",
      "State\n",
      "[[ 5.  6.  7.  8.  9.  5.  5.]\n",
      " [ 5.  6.  7.  8.  9.  5.  5.]\n",
      " [ 5.  6.  7.  8.  9.  5.  5.]\n",
      " [ 5.  6.  7.  8.  9.  5.  5.]\n",
      " [ 5.  6.  7.  8.  9.  5.  5.]\n",
      " [ 5.  6.  7.  8.  9.  5.  5.]\n",
      " [ 5.  6.  7.  8.  9.  5.  5.]\n",
      " [ 5.  6.  7.  8.  9.  5.  5.]\n",
      " [ 5.  6.  7.  8.  9.  5.  5.]\n",
      " [ 5.  6.  7.  8.  9.  5.  5.]]\n",
      "Mean\n",
      "0.571429\n",
      "################# ###################### #############\n",
      "Outputs\n",
      "[[ 0.  1.  2.  3.  4.  0.  0.]\n",
      " [ 0.  1.  2.  3.  4.  0.  0.]\n",
      " [ 0.  1.  2.  3.  4.  0.  0.]\n",
      " [ 0.  1.  2.  3.  4.  0.  0.]\n",
      " [ 0.  1.  2.  3.  4.  0.  0.]\n",
      " [ 0.  1.  2.  3.  4.  0.  0.]\n",
      " [ 0.  1.  2.  3.  4.  0.  0.]\n",
      " [ 0.  1.  2.  3.  4.  0.  0.]\n",
      " [ 0.  1.  2.  3.  4.  0.  0.]\n",
      " [ 0.  1.  2.  3.  4.  0.  0.]]\n",
      "State\n",
      "[[ 5.  6.  7.  8.  9.  5.  5.]\n",
      " [ 5.  6.  7.  8.  9.  5.  5.]\n",
      " [ 5.  6.  7.  8.  9.  5.  5.]\n",
      " [ 5.  6.  7.  8.  9.  5.  5.]\n",
      " [ 5.  6.  7.  8.  9.  5.  5.]\n",
      " [ 5.  6.  7.  8.  9.  5.  5.]\n",
      " [ 5.  6.  7.  8.  9.  5.  5.]\n",
      " [ 5.  6.  7.  8.  9.  5.  5.]\n",
      " [ 5.  6.  7.  8.  9.  5.  5.]\n",
      " [ 5.  6.  7.  8.  9.  5.  5.]]\n",
      "Mean\n",
      "0.571429\n",
      "################# ###################### #############\n",
      "Outputs\n",
      "[[ 0.  1.  2.  3.  4.  0.  0.]\n",
      " [ 0.  1.  2.  3.  4.  0.  0.]\n",
      " [ 0.  1.  2.  3.  4.  0.  0.]\n",
      " [ 0.  1.  2.  3.  4.  0.  0.]\n",
      " [ 0.  1.  2.  3.  4.  0.  0.]\n",
      " [ 0.  1.  2.  3.  4.  0.  0.]\n",
      " [ 0.  1.  2.  3.  4.  0.  0.]\n",
      " [ 0.  1.  2.  3.  4.  0.  0.]\n",
      " [ 0.  1.  2.  3.  4.  0.  0.]\n",
      " [ 0.  1.  2.  3.  4.  0.  0.]]\n",
      "State\n",
      "[[ 5.  6.  7.  8.  9.  5.  5.]\n",
      " [ 5.  6.  7.  8.  9.  5.  5.]\n",
      " [ 5.  6.  7.  8.  9.  5.  5.]\n",
      " [ 5.  6.  7.  8.  9.  5.  5.]\n",
      " [ 5.  6.  7.  8.  9.  5.  5.]\n",
      " [ 5.  6.  7.  8.  9.  5.  5.]\n",
      " [ 5.  6.  7.  8.  9.  5.  5.]\n",
      " [ 5.  6.  7.  8.  9.  5.  5.]\n",
      " [ 5.  6.  7.  8.  9.  5.  5.]\n",
      " [ 5.  6.  7.  8.  9.  5.  5.]]\n",
      "Mean\n",
      "0.571429\n",
      "################# ###################### #############\n",
      "Outputs\n",
      "[[ 0.  1.  2.  3.  4.  0.  0.]\n",
      " [ 0.  1.  2.  3.  4.  0.  0.]\n",
      " [ 0.  1.  2.  3.  4.  0.  0.]\n",
      " [ 0.  1.  2.  3.  4.  0.  0.]\n",
      " [ 0.  1.  2.  3.  4.  0.  0.]\n",
      " [ 0.  1.  2.  3.  4.  0.  0.]\n",
      " [ 0.  1.  2.  3.  4.  0.  0.]\n",
      " [ 0.  1.  2.  3.  4.  0.  0.]\n",
      " [ 0.  1.  2.  3.  4.  0.  0.]\n",
      " [ 0.  1.  2.  3.  4.  0.  0.]]\n",
      "State\n",
      "[[ 5.  6.  7.  8.  9.  5.  5.]\n",
      " [ 5.  6.  7.  8.  9.  5.  5.]\n",
      " [ 5.  6.  7.  8.  9.  5.  5.]\n",
      " [ 5.  6.  7.  8.  9.  5.  5.]\n",
      " [ 5.  6.  7.  8.  9.  5.  5.]\n",
      " [ 5.  6.  7.  8.  9.  5.  5.]\n",
      " [ 5.  6.  7.  8.  9.  5.  5.]\n",
      " [ 5.  6.  7.  8.  9.  5.  5.]\n",
      " [ 5.  6.  7.  8.  9.  5.  5.]\n",
      " [ 5.  6.  7.  8.  9.  5.  5.]]\n",
      "Mean\n",
      "0.571429\n",
      "################# ###################### #############\n",
      "Outputs\n",
      "[[ 0.  1.  2.  3.  4.  0.  0.]\n",
      " [ 0.  1.  2.  3.  4.  0.  0.]\n",
      " [ 0.  1.  2.  3.  4.  0.  0.]\n",
      " [ 0.  1.  2.  3.  4.  0.  0.]\n",
      " [ 0.  1.  2.  3.  4.  0.  0.]\n",
      " [ 0.  1.  2.  3.  4.  0.  0.]\n",
      " [ 0.  1.  2.  3.  4.  0.  0.]\n",
      " [ 0.  1.  2.  3.  4.  0.  0.]\n",
      " [ 0.  1.  2.  3.  4.  0.  0.]\n",
      " [ 0.  1.  2.  3.  4.  0.  0.]]\n",
      "State\n",
      "[[ 5.  6.  7.  8.  9.  5.  5.]\n",
      " [ 5.  6.  7.  8.  9.  5.  5.]\n",
      " [ 5.  6.  7.  8.  9.  5.  5.]\n",
      " [ 5.  6.  7.  8.  9.  5.  5.]\n",
      " [ 5.  6.  7.  8.  9.  5.  5.]\n",
      " [ 5.  6.  7.  8.  9.  5.  5.]\n",
      " [ 5.  6.  7.  8.  9.  5.  5.]\n",
      " [ 5.  6.  7.  8.  9.  5.  5.]\n",
      " [ 5.  6.  7.  8.  9.  5.  5.]\n",
      " [ 5.  6.  7.  8.  9.  5.  5.]]\n",
      "Mean\n",
      "0.571429\n",
      "################# ###################### #############\n",
      "Outputs\n",
      "[[ 0.  1.  2.  3.  4.  0.  0.]\n",
      " [ 0.  1.  2.  3.  4.  0.  0.]\n",
      " [ 0.  1.  2.  3.  4.  0.  0.]\n",
      " [ 0.  1.  2.  3.  4.  0.  0.]\n",
      " [ 0.  1.  2.  3.  4.  0.  0.]\n",
      " [ 0.  1.  2.  3.  4.  0.  0.]\n",
      " [ 0.  1.  2.  3.  4.  0.  0.]\n",
      " [ 0.  1.  2.  3.  4.  0.  0.]\n",
      " [ 0.  1.  2.  3.  4.  0.  0.]\n",
      " [ 0.  1.  2.  3.  4.  0.  0.]]\n",
      "State\n",
      "[[ 5.  6.  7.  8.  9.  5.  5.]\n",
      " [ 5.  6.  7.  8.  9.  5.  5.]\n",
      " [ 5.  6.  7.  8.  9.  5.  5.]\n",
      " [ 5.  6.  7.  8.  9.  5.  5.]\n",
      " [ 5.  6.  7.  8.  9.  5.  5.]\n",
      " [ 5.  6.  7.  8.  9.  5.  5.]\n",
      " [ 5.  6.  7.  8.  9.  5.  5.]\n",
      " [ 5.  6.  7.  8.  9.  5.  5.]\n",
      " [ 5.  6.  7.  8.  9.  5.  5.]\n",
      " [ 5.  6.  7.  8.  9.  5.  5.]]\n",
      "Mean\n",
      "0.571429\n",
      "################# ###################### #############\n",
      "Outputs\n",
      "[[ 0.  1.  2.  3.  4.  0.  0.]\n",
      " [ 0.  1.  2.  3.  4.  0.  0.]\n",
      " [ 0.  1.  2.  3.  4.  0.  0.]\n",
      " [ 0.  1.  2.  3.  4.  0.  0.]\n",
      " [ 0.  1.  2.  3.  4.  0.  0.]\n",
      " [ 0.  1.  2.  3.  4.  0.  0.]\n",
      " [ 0.  1.  2.  3.  4.  0.  0.]\n",
      " [ 0.  1.  2.  3.  4.  0.  0.]\n",
      " [ 0.  1.  2.  3.  4.  0.  0.]\n",
      " [ 0.  1.  2.  3.  4.  0.  0.]]\n",
      "State\n",
      "[[ 5.  6.  7.  8.  9.  5.  5.]\n",
      " [ 5.  6.  7.  8.  9.  5.  5.]\n",
      " [ 5.  6.  7.  8.  9.  5.  5.]\n",
      " [ 5.  6.  7.  8.  9.  5.  5.]\n",
      " [ 5.  6.  7.  8.  9.  5.  5.]\n",
      " [ 5.  6.  7.  8.  9.  5.  5.]\n",
      " [ 5.  6.  7.  8.  9.  5.  5.]\n",
      " [ 5.  6.  7.  8.  9.  5.  5.]\n",
      " [ 5.  6.  7.  8.  9.  5.  5.]\n",
      " [ 5.  6.  7.  8.  9.  5.  5.]]\n",
      "Mean\n",
      "0.571429\n",
      "################# ###################### #############\n"
     ]
    }
   ],
   "source": [
    "n_iters = 10\n",
    "\n",
    "with tf.Session(graph=model) as session:\n",
    "    session.run(tf.global_variables_initializer())\n",
    "    for _ in range(n_iters):\n",
    "        feed_dict = {}\n",
    "        for i in range(num_unrollings):\n",
    "            ith_batch = np.zeros((batch_size, vocabulary_size))\n",
    "            ith_batch[:, i] = i\n",
    "            feed_dict[inputs[i]] = ith_batch\n",
    "\n",
    "        result = session.run([o, s, y], feed_dict=feed_dict)\n",
    "        print('Outputs')\n",
    "        print(result[0])\n",
    "        print('State')\n",
    "        print(result[1])\n",
    "        print('Mean')\n",
    "        print(result[2])\n",
    "        print('################# ###################### #############')"
   ]
  },
  {
   "cell_type": "code",
   "execution_count": 76,
   "metadata": {
    "collapsed": false
   },
   "outputs": [
    {
     "data": {
      "text/plain": [
       "([1], [2], [3])"
      ]
     },
     "execution_count": 76,
     "metadata": {},
     "output_type": "execute_result"
    }
   ],
   "source": [
    "a = ()\n",
    "for i in (1, 2, 3):\n",
    "    a += ([i], )\n",
    "    \n",
    "a"
   ]
  },
  {
   "cell_type": "code",
   "execution_count": null,
   "metadata": {
    "collapsed": true
   },
   "outputs": [],
   "source": []
  }
 ],
 "metadata": {
  "kernelspec": {
   "display_name": "Python 2",
   "language": "python",
   "name": "python2"
  },
  "language_info": {
   "codemirror_mode": {
    "name": "ipython",
    "version": 2
   },
   "file_extension": ".py",
   "mimetype": "text/x-python",
   "name": "python",
   "nbconvert_exporter": "python",
   "pygments_lexer": "ipython2",
   "version": "2.7.12"
  }
 },
 "nbformat": 4,
 "nbformat_minor": 2
}
