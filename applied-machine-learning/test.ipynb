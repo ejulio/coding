{
 "cells": [
  {
   "cell_type": "code",
   "execution_count": 6,
   "metadata": {},
   "outputs": [],
   "source": [
    "import numpy as np\n",
    "import pandas as pd"
   ]
  },
  {
   "cell_type": "code",
   "execution_count": 13,
   "metadata": {},
   "outputs": [
    {
     "data": {
      "text/html": [
       "<div>\n",
       "<style scoped>\n",
       "    .dataframe tbody tr th:only-of-type {\n",
       "        vertical-align: middle;\n",
       "    }\n",
       "\n",
       "    .dataframe tbody tr th {\n",
       "        vertical-align: top;\n",
       "    }\n",
       "\n",
       "    .dataframe thead th {\n",
       "        text-align: right;\n",
       "    }\n",
       "</style>\n",
       "<table border=\"1\" class=\"dataframe\">\n",
       "  <thead>\n",
       "    <tr style=\"text-align: right;\">\n",
       "      <th></th>\n",
       "      <th>gender</th>\n",
       "      <th>height</th>\n",
       "      <th>age</th>\n",
       "    </tr>\n",
       "  </thead>\n",
       "  <tbody>\n",
       "    <tr>\n",
       "      <th>0</th>\n",
       "      <td>M</td>\n",
       "      <td>1.70</td>\n",
       "      <td>15.0</td>\n",
       "    </tr>\n",
       "    <tr>\n",
       "      <th>1</th>\n",
       "      <td>F</td>\n",
       "      <td>1.73</td>\n",
       "      <td>18.0</td>\n",
       "    </tr>\n",
       "    <tr>\n",
       "      <th>2</th>\n",
       "      <td>M</td>\n",
       "      <td>1.75</td>\n",
       "      <td>16.0</td>\n",
       "    </tr>\n",
       "    <tr>\n",
       "      <th>3</th>\n",
       "      <td>M</td>\n",
       "      <td>1.83</td>\n",
       "      <td>19.0</td>\n",
       "    </tr>\n",
       "    <tr>\n",
       "      <th>4</th>\n",
       "      <td>F</td>\n",
       "      <td>1.60</td>\n",
       "      <td>14.0</td>\n",
       "    </tr>\n",
       "    <tr>\n",
       "      <th>5</th>\n",
       "      <td>F</td>\n",
       "      <td>1.63</td>\n",
       "      <td>NaN</td>\n",
       "    </tr>\n",
       "    <tr>\n",
       "      <th>6</th>\n",
       "      <td>M</td>\n",
       "      <td>NaN</td>\n",
       "      <td>17.0</td>\n",
       "    </tr>\n",
       "    <tr>\n",
       "      <th>7</th>\n",
       "      <td>NaN</td>\n",
       "      <td>1.70</td>\n",
       "      <td>14.0</td>\n",
       "    </tr>\n",
       "  </tbody>\n",
       "</table>\n",
       "</div>"
      ],
      "text/plain": [
       "  gender  height   age\n",
       "0      M    1.70  15.0\n",
       "1      F    1.73  18.0\n",
       "2      M    1.75  16.0\n",
       "3      M    1.83  19.0\n",
       "4      F    1.60  14.0\n",
       "5      F    1.63   NaN\n",
       "6      M     NaN  17.0\n",
       "7    NaN    1.70  14.0"
      ]
     },
     "execution_count": 13,
     "metadata": {},
     "output_type": "execute_result"
    }
   ],
   "source": [
    "df = pd.DataFrame(data=[\n",
    "        ['M', 1.70, 15],\n",
    "        ['F', 1.73, 18],\n",
    "        ['M', 1.75, 16],\n",
    "        ['M', 1.83, 19],\n",
    "        ['F', 1.60, 14],\n",
    "        ['F', 1.63, np.nan],\n",
    "        ['M', np.nan, 17],\n",
    "        [np.nan, 1.70, 14],\n",
    "], columns=['gender', 'height', 'age'])\n",
    "df"
   ]
  },
  {
   "cell_type": "code",
   "execution_count": 22,
   "metadata": {},
   "outputs": [],
   "source": [
    "from sklearn.preprocessing import OneHotEncoder, StandardScaler\n",
    "from sklearn.compose import make_column_transformer\n",
    "from sklearn.impute import SimpleImputer\n",
    "from sklearn.pipeline import make_pipeline"
   ]
  },
  {
   "cell_type": "code",
   "execution_count": 29,
   "metadata": {},
   "outputs": [
    {
     "data": {
      "text/plain": [
       "array([[ 0.        ,  1.        ,  0.        , -0.66529914, -0.08642716],\n",
       "       [ 1.        ,  0.        ,  0.        ,  1.10883191,  0.36731544],\n",
       "       [ 0.        ,  1.        ,  0.        , -0.07392213,  0.66981051],\n",
       "       [ 0.        ,  1.        ,  0.        ,  1.70020892,  1.8797908 ],\n",
       "       [ 1.        ,  0.        ,  0.        , -1.25667616, -1.59890252],\n",
       "       [ 1.        ,  0.        ,  0.        , -0.07392213, -1.14515991],\n",
       "       [ 0.        ,  1.        ,  0.        ,  0.51745489,  0.        ],\n",
       "       [ 0.        ,  0.        ,  1.        , -1.25667616, -0.08642716]])"
      ]
     },
     "execution_count": 29,
     "metadata": {},
     "output_type": "execute_result"
    }
   ],
   "source": [
    "is_categorical = df.dtypes == object\n",
    "\n",
    "pipeline = make_pipeline(\n",
    "    make_column_transformer(\n",
    "        (SimpleImputer(strategy='constant', fill_value='U'), ['gender']),\n",
    "        (SimpleImputer(strategy='median'), ['age']),\n",
    "        (SimpleImputer(strategy='mean'), ['height']),\n",
    "    ),\n",
    "    make_column_transformer(\n",
    "        (OneHotEncoder(categories='auto'), is_categorical),\n",
    "        (StandardScaler(), ~is_categorical),\n",
    "    )\n",
    ")\n",
    "\n",
    "\n",
    "\n",
    "data = pipeline.fit_transform(df)\n",
    "data\n",
    "# ndf = pd.DataFrame(data, columns=df.columns)\n",
    "# ndf"
   ]
  },
  {
   "cell_type": "code",
   "execution_count": null,
   "metadata": {},
   "outputs": [],
   "source": []
  }
 ],
 "metadata": {
  "kernelspec": {
   "display_name": "Python 3",
   "language": "python",
   "name": "python3"
  },
  "language_info": {
   "codemirror_mode": {
    "name": "ipython",
    "version": 3
   },
   "file_extension": ".py",
   "mimetype": "text/x-python",
   "name": "python",
   "nbconvert_exporter": "python",
   "pygments_lexer": "ipython3",
   "version": "3.6.8"
  }
 },
 "nbformat": 4,
 "nbformat_minor": 2
}
