{
 "cells": [
  {
   "cell_type": "code",
   "execution_count": 1,
   "metadata": {},
   "outputs": [],
   "source": [
    "%matplotlib inline\n",
    "import pandas as pd\n",
    "import matplotlib.pyplot as plt\n",
    "import numpy as np"
   ]
  },
  {
   "cell_type": "code",
   "execution_count": 2,
   "metadata": {},
   "outputs": [],
   "source": [
    "df = pd.read_csv('./data/WA_Fn-UseC_-Telco-Customer-Churn.csv')"
   ]
  },
  {
   "cell_type": "code",
   "execution_count": 3,
   "metadata": {},
   "outputs": [
    {
     "name": "stdout",
     "output_type": "stream",
     "text": [
      "<class 'pandas.core.frame.DataFrame'>\n",
      "RangeIndex: 7043 entries, 0 to 7042\n",
      "Data columns (total 21 columns):\n",
      "customerID          7043 non-null object\n",
      "gender              7043 non-null object\n",
      "SeniorCitizen       7043 non-null int64\n",
      "Partner             7043 non-null object\n",
      "Dependents          7043 non-null object\n",
      "tenure              7043 non-null int64\n",
      "PhoneService        7043 non-null object\n",
      "MultipleLines       7043 non-null object\n",
      "InternetService     7043 non-null object\n",
      "OnlineSecurity      7043 non-null object\n",
      "OnlineBackup        7043 non-null object\n",
      "DeviceProtection    7043 non-null object\n",
      "TechSupport         7043 non-null object\n",
      "StreamingTV         7043 non-null object\n",
      "StreamingMovies     7043 non-null object\n",
      "Contract            7043 non-null object\n",
      "PaperlessBilling    7043 non-null object\n",
      "PaymentMethod       7043 non-null object\n",
      "MonthlyCharges      7043 non-null float64\n",
      "TotalCharges        7043 non-null object\n",
      "Churn               7043 non-null object\n",
      "dtypes: float64(1), int64(2), object(18)\n",
      "memory usage: 1.1+ MB\n"
     ]
    }
   ],
   "source": [
    "df.info()"
   ]
  },
  {
   "cell_type": "code",
   "execution_count": 4,
   "metadata": {},
   "outputs": [],
   "source": [
    "df.TotalCharges = df.TotalCharges.replace(' ', np.nan)\n",
    "df.TotalCharges = df.TotalCharges.astype(float)\n",
    "df.Churn = df.Churn.apply(lambda x: 1 if x.lower() == 'yes' else 0)"
   ]
  },
  {
   "cell_type": "code",
   "execution_count": 5,
   "metadata": {},
   "outputs": [
    {
     "data": {
      "text/plain": [
       "Text(0.5, 1.0, 'Distribution of Tenure')"
      ]
     },
     "execution_count": 5,
     "metadata": {},
     "output_type": "execute_result"
    },
    {
     "data": {
      "image/png": "[encoded data removed]",
      "text/plain": [
       "<Figure size 1080x360 with 3 Axes>"
      ]
     },
     "metadata": {
      "needs_background": "light"
     },
     "output_type": "display_data"
    }
   ],
   "source": [
    "(fig, axes) = plt.subplots(1, 3, figsize=(15, 5))\n",
    "\n",
    "axes[0].hist(df.MonthlyCharges, density=True)\n",
    "axes[0].set_title('Distribution of Monthly Charges')\n",
    "\n",
    "axes[1].hist(df.TotalCharges[~df.TotalCharges.isna()], density=True)\n",
    "axes[1].set_title('Distribution of Total Charges')\n",
    "\n",
    "axes[2].hist(df.tenure, density=True)\n",
    "axes[2].set_title('Distribution of Tenure')"
   ]
  },
  {
   "cell_type": "code",
   "execution_count": 6,
   "metadata": {},
   "outputs": [
    {
     "data": {
      "text/plain": [
       "Text(0.5, 1.0, 'Distribution of Churn')"
      ]
     },
     "execution_count": 6,
     "metadata": {},
     "output_type": "execute_result"
    },
    {
     "data": {
      "image/png": "[encoded data removed]",
      "text/plain": [
       "<Figure size 360x360 with 1 Axes>"
      ]
     },
     "metadata": {
      "needs_background": "light"
     },
     "output_type": "display_data"
    }
   ],
   "source": [
    "(fig, ax) = plt.subplots(1, 1, figsize=(5, 5))\n",
    "ax.hist(df.Churn)\n",
    "ax.set_title('Distribution of Churn')"
   ]
  },
  {
   "cell_type": "code",
   "execution_count": 7,
   "metadata": {},
   "outputs": [],
   "source": [
    "from sklearn.model_selection import train_test_split"
   ]
  },
  {
   "cell_type": "code",
   "execution_count": 8,
   "metadata": {},
   "outputs": [],
   "source": [
    "(train_df, test_df) = train_test_split(df, test_size=0.3, random_state=1)"
   ]
  },
  {
   "cell_type": "code",
   "execution_count": 9,
   "metadata": {},
   "outputs": [],
   "source": [
    "def df_to_features_and_labels(df):\n",
    "    y = df.Churn\n",
    "    X = df.drop(columns=['customerID', 'Churn'])\n",
    "    return (X, y)"
   ]
  },
  {
   "cell_type": "code",
   "execution_count": 10,
   "metadata": {},
   "outputs": [],
   "source": [
    "from sklearn.pipeline import make_pipeline\n",
    "from sklearn.compose import make_column_transformer\n",
    "from sklearn.impute import SimpleImputer\n",
    "from sklearn.preprocessing import OneHotEncoder"
   ]
  },
  {
   "cell_type": "code",
   "execution_count": 11,
   "metadata": {},
   "outputs": [],
   "source": [
    "def build_model_pipeline(model):\n",
    "    other_columns = ['customerID', 'Churn']\n",
    "\n",
    "    continuous_features = ['tenure', 'MonthlyCharges', 'TotalCharges']\n",
    "    continuous_features_processor = make_pipeline(\n",
    "        SimpleImputer(strategy='mean'),\n",
    "    )\n",
    "\n",
    "    categorical_features = [c for c in df.columns if c not in continuous_features + other_columns]\n",
    "    categorical_features_processor = OneHotEncoder()\n",
    "\n",
    "    return make_pipeline(\n",
    "        make_column_transformer(\n",
    "            (categorical_features_processor, categorical_features),\n",
    "            (continuous_features_processor, continuous_features)\n",
    "        ),\n",
    "        model\n",
    "    )"
   ]
  },
  {
   "cell_type": "code",
   "execution_count": 20,
   "metadata": {},
   "outputs": [],
   "source": [
    "from sklearn.linear_model import LogisticRegression\n",
    "from sklearn.svm import LinearSVC\n",
    "from sklearn.model_selection import GridSearchCV\n",
    "from sklearn.neighbors.nearest_centroid import NearestCentroid"
   ]
  },
  {
   "cell_type": "code",
   "execution_count": 13,
   "metadata": {},
   "outputs": [],
   "source": [
    "(X, y) = df_to_features_and_labels(train_df)"
   ]
  },
  {
   "cell_type": "code",
   "execution_count": 14,
   "metadata": {},
   "outputs": [],
   "source": [
    "def report_best_model(gscv):\n",
    "    results = gscv.cv_results_\n",
    "    best_index = results['rank_test_score'][0] - 1\n",
    "    score = round(results[\"mean_test_score\"][best_index], 4)\n",
    "    std = round(results[\"std_test_score\"][best_index], 4)\n",
    "    print(f'Score {score} +/- {std}')\n",
    "    print(f' Params: {results[\"params\"][best_index]}')"
   ]
  },
  {
   "cell_type": "code",
   "execution_count": 15,
   "metadata": {},
   "outputs": [
    {
     "name": "stdout",
     "output_type": "stream",
     "text": [
      "Score 0.594 +/- 0.031\n",
      " Params: {'logisticregression__C': 0.8}\n"
     ]
    }
   ],
   "source": [
    "# logistic regression cv\n",
    "pipeline = build_model_pipeline(\n",
    "    LogisticRegression(solver='lbfgs', max_iter=500)\n",
    ")\n",
    "gscv = GridSearchCV(\n",
    "    pipeline,\n",
    "    {'logisticregression__C': np.arange(0.1, 1.1, 0.1)},\n",
    "    scoring='f1',\n",
    "    cv=10\n",
    ")\n",
    "gscv.fit(X, y)\n",
    "report_best_model(gscv)"
   ]
  },
  {
   "cell_type": "code",
   "execution_count": 18,
   "metadata": {},
   "outputs": [
    {
     "name": "stderr",
     "output_type": "stream",
     "text": [
      "/home/julio/Projects/coding/applied-machine-learning/.venv/lib/python3.6/site-packages/sklearn/svm/base.py:929: ConvergenceWarning: Liblinear failed to converge, increase the number of iterations.\n",
      "  \"the number of iterations.\", ConvergenceWarning)\n",
      "/home/julio/Projects/coding/applied-machine-learning/.venv/lib/python3.6/site-packages/sklearn/svm/base.py:929: ConvergenceWarning: Liblinear failed to converge, increase the number of iterations.\n",
      "  \"the number of iterations.\", ConvergenceWarning)\n",
      "/home/julio/Projects/coding/applied-machine-learning/.venv/lib/python3.6/site-packages/sklearn/svm/base.py:929: ConvergenceWarning: Liblinear failed to converge, increase the number of iterations.\n",
      "  \"the number of iterations.\", ConvergenceWarning)\n",
      "/home/julio/Projects/coding/applied-machine-learning/.venv/lib/python3.6/site-packages/sklearn/svm/base.py:929: ConvergenceWarning: Liblinear failed to converge, increase the number of iterations.\n",
      "  \"the number of iterations.\", ConvergenceWarning)\n",
      "/home/julio/Projects/coding/applied-machine-learning/.venv/lib/python3.6/site-packages/sklearn/svm/base.py:929: ConvergenceWarning: Liblinear failed to converge, increase the number of iterations.\n",
      "  \"the number of iterations.\", ConvergenceWarning)\n",
      "/home/julio/Projects/coding/applied-machine-learning/.venv/lib/python3.6/site-packages/sklearn/svm/base.py:929: ConvergenceWarning: Liblinear failed to converge, increase the number of iterations.\n",
      "  \"the number of iterations.\", ConvergenceWarning)\n",
      "/home/julio/Projects/coding/applied-machine-learning/.venv/lib/python3.6/site-packages/sklearn/svm/base.py:929: ConvergenceWarning: Liblinear failed to converge, increase the number of iterations.\n",
      "  \"the number of iterations.\", ConvergenceWarning)\n",
      "/home/julio/Projects/coding/applied-machine-learning/.venv/lib/python3.6/site-packages/sklearn/svm/base.py:929: ConvergenceWarning: Liblinear failed to converge, increase the number of iterations.\n",
      "  \"the number of iterations.\", ConvergenceWarning)\n",
      "/home/julio/Projects/coding/applied-machine-learning/.venv/lib/python3.6/site-packages/sklearn/svm/base.py:929: ConvergenceWarning: Liblinear failed to converge, increase the number of iterations.\n",
      "  \"the number of iterations.\", ConvergenceWarning)\n",
      "/home/julio/Projects/coding/applied-machine-learning/.venv/lib/python3.6/site-packages/sklearn/svm/base.py:929: ConvergenceWarning: Liblinear failed to converge, increase the number of iterations.\n",
      "  \"the number of iterations.\", ConvergenceWarning)\n",
      "/home/julio/Projects/coding/applied-machine-learning/.venv/lib/python3.6/site-packages/sklearn/svm/base.py:929: ConvergenceWarning: Liblinear failed to converge, increase the number of iterations.\n",
      "  \"the number of iterations.\", ConvergenceWarning)\n",
      "/home/julio/Projects/coding/applied-machine-learning/.venv/lib/python3.6/site-packages/sklearn/svm/base.py:929: ConvergenceWarning: Liblinear failed to converge, increase the number of iterations.\n",
      "  \"the number of iterations.\", ConvergenceWarning)\n",
      "/home/julio/Projects/coding/applied-machine-learning/.venv/lib/python3.6/site-packages/sklearn/svm/base.py:929: ConvergenceWarning: Liblinear failed to converge, increase the number of iterations.\n",
      "  \"the number of iterations.\", ConvergenceWarning)\n",
      "/home/julio/Projects/coding/applied-machine-learning/.venv/lib/python3.6/site-packages/sklearn/svm/base.py:929: ConvergenceWarning: Liblinear failed to converge, increase the number of iterations.\n",
      "  \"the number of iterations.\", ConvergenceWarning)\n",
      "/home/julio/Projects/coding/applied-machine-learning/.venv/lib/python3.6/site-packages/sklearn/svm/base.py:929: ConvergenceWarning: Liblinear failed to converge, increase the number of iterations.\n",
      "  \"the number of iterations.\", ConvergenceWarning)\n",
      "/home/julio/Projects/coding/applied-machine-learning/.venv/lib/python3.6/site-packages/sklearn/svm/base.py:929: ConvergenceWarning: Liblinear failed to converge, increase the number of iterations.\n",
      "  \"the number of iterations.\", ConvergenceWarning)\n",
      "/home/julio/Projects/coding/applied-machine-learning/.venv/lib/python3.6/site-packages/sklearn/svm/base.py:929: ConvergenceWarning: Liblinear failed to converge, increase the number of iterations.\n",
      "  \"the number of iterations.\", ConvergenceWarning)\n",
      "/home/julio/Projects/coding/applied-machine-learning/.venv/lib/python3.6/site-packages/sklearn/svm/base.py:929: ConvergenceWarning: Liblinear failed to converge, increase the number of iterations.\n",
      "  \"the number of iterations.\", ConvergenceWarning)\n",
      "/home/julio/Projects/coding/applied-machine-learning/.venv/lib/python3.6/site-packages/sklearn/svm/base.py:929: ConvergenceWarning: Liblinear failed to converge, increase the number of iterations.\n",
      "  \"the number of iterations.\", ConvergenceWarning)\n",
      "/home/julio/Projects/coding/applied-machine-learning/.venv/lib/python3.6/site-packages/sklearn/metrics/classification.py:1437: UndefinedMetricWarning: F-score is ill-defined and being set to 0.0 due to no predicted samples.\n",
      "  'precision', 'predicted', average, warn_for)\n",
      "/home/julio/Projects/coding/applied-machine-learning/.venv/lib/python3.6/site-packages/sklearn/svm/base.py:929: ConvergenceWarning: Liblinear failed to converge, increase the number of iterations.\n",
      "  \"the number of iterations.\", ConvergenceWarning)\n",
      "/home/julio/Projects/coding/applied-machine-learning/.venv/lib/python3.6/site-packages/sklearn/svm/base.py:929: ConvergenceWarning: Liblinear failed to converge, increase the number of iterations.\n",
      "  \"the number of iterations.\", ConvergenceWarning)\n",
      "/home/julio/Projects/coding/applied-machine-learning/.venv/lib/python3.6/site-packages/sklearn/svm/base.py:929: ConvergenceWarning: Liblinear failed to converge, increase the number of iterations.\n",
      "  \"the number of iterations.\", ConvergenceWarning)\n",
      "/home/julio/Projects/coding/applied-machine-learning/.venv/lib/python3.6/site-packages/sklearn/svm/base.py:929: ConvergenceWarning: Liblinear failed to converge, increase the number of iterations.\n",
      "  \"the number of iterations.\", ConvergenceWarning)\n",
      "/home/julio/Projects/coding/applied-machine-learning/.venv/lib/python3.6/site-packages/sklearn/svm/base.py:929: ConvergenceWarning: Liblinear failed to converge, increase the number of iterations.\n",
      "  \"the number of iterations.\", ConvergenceWarning)\n",
      "/home/julio/Projects/coding/applied-machine-learning/.venv/lib/python3.6/site-packages/sklearn/svm/base.py:929: ConvergenceWarning: Liblinear failed to converge, increase the number of iterations.\n",
      "  \"the number of iterations.\", ConvergenceWarning)\n",
      "/home/julio/Projects/coding/applied-machine-learning/.venv/lib/python3.6/site-packages/sklearn/svm/base.py:929: ConvergenceWarning: Liblinear failed to converge, increase the number of iterations.\n",
      "  \"the number of iterations.\", ConvergenceWarning)\n",
      "/home/julio/Projects/coding/applied-machine-learning/.venv/lib/python3.6/site-packages/sklearn/svm/base.py:929: ConvergenceWarning: Liblinear failed to converge, increase the number of iterations.\n",
      "  \"the number of iterations.\", ConvergenceWarning)\n",
      "/home/julio/Projects/coding/applied-machine-learning/.venv/lib/python3.6/site-packages/sklearn/svm/base.py:929: ConvergenceWarning: Liblinear failed to converge, increase the number of iterations.\n",
      "  \"the number of iterations.\", ConvergenceWarning)\n",
      "/home/julio/Projects/coding/applied-machine-learning/.venv/lib/python3.6/site-packages/sklearn/svm/base.py:929: ConvergenceWarning: Liblinear failed to converge, increase the number of iterations.\n",
      "  \"the number of iterations.\", ConvergenceWarning)\n",
      "/home/julio/Projects/coding/applied-machine-learning/.venv/lib/python3.6/site-packages/sklearn/svm/base.py:929: ConvergenceWarning: Liblinear failed to converge, increase the number of iterations.\n",
      "  \"the number of iterations.\", ConvergenceWarning)\n",
      "/home/julio/Projects/coding/applied-machine-learning/.venv/lib/python3.6/site-packages/sklearn/svm/base.py:929: ConvergenceWarning: Liblinear failed to converge, increase the number of iterations.\n",
      "  \"the number of iterations.\", ConvergenceWarning)\n",
      "/home/julio/Projects/coding/applied-machine-learning/.venv/lib/python3.6/site-packages/sklearn/svm/base.py:929: ConvergenceWarning: Liblinear failed to converge, increase the number of iterations.\n",
      "  \"the number of iterations.\", ConvergenceWarning)\n"
     ]
    },
    {
     "name": "stderr",
     "output_type": "stream",
     "text": [
      "/home/julio/Projects/coding/applied-machine-learning/.venv/lib/python3.6/site-packages/sklearn/svm/base.py:929: ConvergenceWarning: Liblinear failed to converge, increase the number of iterations.\n",
      "  \"the number of iterations.\", ConvergenceWarning)\n",
      "/home/julio/Projects/coding/applied-machine-learning/.venv/lib/python3.6/site-packages/sklearn/svm/base.py:929: ConvergenceWarning: Liblinear failed to converge, increase the number of iterations.\n",
      "  \"the number of iterations.\", ConvergenceWarning)\n",
      "/home/julio/Projects/coding/applied-machine-learning/.venv/lib/python3.6/site-packages/sklearn/svm/base.py:929: ConvergenceWarning: Liblinear failed to converge, increase the number of iterations.\n",
      "  \"the number of iterations.\", ConvergenceWarning)\n",
      "/home/julio/Projects/coding/applied-machine-learning/.venv/lib/python3.6/site-packages/sklearn/svm/base.py:929: ConvergenceWarning: Liblinear failed to converge, increase the number of iterations.\n",
      "  \"the number of iterations.\", ConvergenceWarning)\n",
      "/home/julio/Projects/coding/applied-machine-learning/.venv/lib/python3.6/site-packages/sklearn/svm/base.py:929: ConvergenceWarning: Liblinear failed to converge, increase the number of iterations.\n",
      "  \"the number of iterations.\", ConvergenceWarning)\n",
      "/home/julio/Projects/coding/applied-machine-learning/.venv/lib/python3.6/site-packages/sklearn/svm/base.py:929: ConvergenceWarning: Liblinear failed to converge, increase the number of iterations.\n",
      "  \"the number of iterations.\", ConvergenceWarning)\n",
      "/home/julio/Projects/coding/applied-machine-learning/.venv/lib/python3.6/site-packages/sklearn/svm/base.py:929: ConvergenceWarning: Liblinear failed to converge, increase the number of iterations.\n",
      "  \"the number of iterations.\", ConvergenceWarning)\n",
      "/home/julio/Projects/coding/applied-machine-learning/.venv/lib/python3.6/site-packages/sklearn/metrics/classification.py:1437: UndefinedMetricWarning: F-score is ill-defined and being set to 0.0 due to no predicted samples.\n",
      "  'precision', 'predicted', average, warn_for)\n",
      "/home/julio/Projects/coding/applied-machine-learning/.venv/lib/python3.6/site-packages/sklearn/svm/base.py:929: ConvergenceWarning: Liblinear failed to converge, increase the number of iterations.\n",
      "  \"the number of iterations.\", ConvergenceWarning)\n",
      "/home/julio/Projects/coding/applied-machine-learning/.venv/lib/python3.6/site-packages/sklearn/svm/base.py:929: ConvergenceWarning: Liblinear failed to converge, increase the number of iterations.\n",
      "  \"the number of iterations.\", ConvergenceWarning)\n",
      "/home/julio/Projects/coding/applied-machine-learning/.venv/lib/python3.6/site-packages/sklearn/svm/base.py:929: ConvergenceWarning: Liblinear failed to converge, increase the number of iterations.\n",
      "  \"the number of iterations.\", ConvergenceWarning)\n",
      "/home/julio/Projects/coding/applied-machine-learning/.venv/lib/python3.6/site-packages/sklearn/svm/base.py:929: ConvergenceWarning: Liblinear failed to converge, increase the number of iterations.\n",
      "  \"the number of iterations.\", ConvergenceWarning)\n",
      "/home/julio/Projects/coding/applied-machine-learning/.venv/lib/python3.6/site-packages/sklearn/svm/base.py:929: ConvergenceWarning: Liblinear failed to converge, increase the number of iterations.\n",
      "  \"the number of iterations.\", ConvergenceWarning)\n",
      "/home/julio/Projects/coding/applied-machine-learning/.venv/lib/python3.6/site-packages/sklearn/svm/base.py:929: ConvergenceWarning: Liblinear failed to converge, increase the number of iterations.\n",
      "  \"the number of iterations.\", ConvergenceWarning)\n",
      "/home/julio/Projects/coding/applied-machine-learning/.venv/lib/python3.6/site-packages/sklearn/svm/base.py:929: ConvergenceWarning: Liblinear failed to converge, increase the number of iterations.\n",
      "  \"the number of iterations.\", ConvergenceWarning)\n",
      "/home/julio/Projects/coding/applied-machine-learning/.venv/lib/python3.6/site-packages/sklearn/svm/base.py:929: ConvergenceWarning: Liblinear failed to converge, increase the number of iterations.\n",
      "  \"the number of iterations.\", ConvergenceWarning)\n",
      "/home/julio/Projects/coding/applied-machine-learning/.venv/lib/python3.6/site-packages/sklearn/svm/base.py:929: ConvergenceWarning: Liblinear failed to converge, increase the number of iterations.\n",
      "  \"the number of iterations.\", ConvergenceWarning)\n",
      "/home/julio/Projects/coding/applied-machine-learning/.venv/lib/python3.6/site-packages/sklearn/svm/base.py:929: ConvergenceWarning: Liblinear failed to converge, increase the number of iterations.\n",
      "  \"the number of iterations.\", ConvergenceWarning)\n",
      "/home/julio/Projects/coding/applied-machine-learning/.venv/lib/python3.6/site-packages/sklearn/svm/base.py:929: ConvergenceWarning: Liblinear failed to converge, increase the number of iterations.\n",
      "  \"the number of iterations.\", ConvergenceWarning)\n",
      "/home/julio/Projects/coding/applied-machine-learning/.venv/lib/python3.6/site-packages/sklearn/svm/base.py:929: ConvergenceWarning: Liblinear failed to converge, increase the number of iterations.\n",
      "  \"the number of iterations.\", ConvergenceWarning)\n",
      "/home/julio/Projects/coding/applied-machine-learning/.venv/lib/python3.6/site-packages/sklearn/svm/base.py:929: ConvergenceWarning: Liblinear failed to converge, increase the number of iterations.\n",
      "  \"the number of iterations.\", ConvergenceWarning)\n",
      "/home/julio/Projects/coding/applied-machine-learning/.venv/lib/python3.6/site-packages/sklearn/svm/base.py:929: ConvergenceWarning: Liblinear failed to converge, increase the number of iterations.\n",
      "  \"the number of iterations.\", ConvergenceWarning)\n",
      "/home/julio/Projects/coding/applied-machine-learning/.venv/lib/python3.6/site-packages/sklearn/svm/base.py:929: ConvergenceWarning: Liblinear failed to converge, increase the number of iterations.\n",
      "  \"the number of iterations.\", ConvergenceWarning)\n",
      "/home/julio/Projects/coding/applied-machine-learning/.venv/lib/python3.6/site-packages/sklearn/svm/base.py:929: ConvergenceWarning: Liblinear failed to converge, increase the number of iterations.\n",
      "  \"the number of iterations.\", ConvergenceWarning)\n",
      "/home/julio/Projects/coding/applied-machine-learning/.venv/lib/python3.6/site-packages/sklearn/svm/base.py:929: ConvergenceWarning: Liblinear failed to converge, increase the number of iterations.\n",
      "  \"the number of iterations.\", ConvergenceWarning)\n",
      "/home/julio/Projects/coding/applied-machine-learning/.venv/lib/python3.6/site-packages/sklearn/svm/base.py:929: ConvergenceWarning: Liblinear failed to converge, increase the number of iterations.\n",
      "  \"the number of iterations.\", ConvergenceWarning)\n",
      "/home/julio/Projects/coding/applied-machine-learning/.venv/lib/python3.6/site-packages/sklearn/svm/base.py:929: ConvergenceWarning: Liblinear failed to converge, increase the number of iterations.\n",
      "  \"the number of iterations.\", ConvergenceWarning)\n",
      "/home/julio/Projects/coding/applied-machine-learning/.venv/lib/python3.6/site-packages/sklearn/svm/base.py:929: ConvergenceWarning: Liblinear failed to converge, increase the number of iterations.\n",
      "  \"the number of iterations.\", ConvergenceWarning)\n",
      "/home/julio/Projects/coding/applied-machine-learning/.venv/lib/python3.6/site-packages/sklearn/svm/base.py:929: ConvergenceWarning: Liblinear failed to converge, increase the number of iterations.\n",
      "  \"the number of iterations.\", ConvergenceWarning)\n",
      "/home/julio/Projects/coding/applied-machine-learning/.venv/lib/python3.6/site-packages/sklearn/svm/base.py:929: ConvergenceWarning: Liblinear failed to converge, increase the number of iterations.\n",
      "  \"the number of iterations.\", ConvergenceWarning)\n",
      "/home/julio/Projects/coding/applied-machine-learning/.venv/lib/python3.6/site-packages/sklearn/svm/base.py:929: ConvergenceWarning: Liblinear failed to converge, increase the number of iterations.\n",
      "  \"the number of iterations.\", ConvergenceWarning)\n",
      "/home/julio/Projects/coding/applied-machine-learning/.venv/lib/python3.6/site-packages/sklearn/svm/base.py:929: ConvergenceWarning: Liblinear failed to converge, increase the number of iterations.\n",
      "  \"the number of iterations.\", ConvergenceWarning)\n",
      "/home/julio/Projects/coding/applied-machine-learning/.venv/lib/python3.6/site-packages/sklearn/svm/base.py:929: ConvergenceWarning: Liblinear failed to converge, increase the number of iterations.\n",
      "  \"the number of iterations.\", ConvergenceWarning)\n"
     ]
    },
    {
     "name": "stderr",
     "output_type": "stream",
     "text": [
      "/home/julio/Projects/coding/applied-machine-learning/.venv/lib/python3.6/site-packages/sklearn/svm/base.py:929: ConvergenceWarning: Liblinear failed to converge, increase the number of iterations.\n",
      "  \"the number of iterations.\", ConvergenceWarning)\n",
      "/home/julio/Projects/coding/applied-machine-learning/.venv/lib/python3.6/site-packages/sklearn/svm/base.py:929: ConvergenceWarning: Liblinear failed to converge, increase the number of iterations.\n",
      "  \"the number of iterations.\", ConvergenceWarning)\n",
      "/home/julio/Projects/coding/applied-machine-learning/.venv/lib/python3.6/site-packages/sklearn/svm/base.py:929: ConvergenceWarning: Liblinear failed to converge, increase the number of iterations.\n",
      "  \"the number of iterations.\", ConvergenceWarning)\n",
      "/home/julio/Projects/coding/applied-machine-learning/.venv/lib/python3.6/site-packages/sklearn/svm/base.py:929: ConvergenceWarning: Liblinear failed to converge, increase the number of iterations.\n",
      "  \"the number of iterations.\", ConvergenceWarning)\n",
      "/home/julio/Projects/coding/applied-machine-learning/.venv/lib/python3.6/site-packages/sklearn/svm/base.py:929: ConvergenceWarning: Liblinear failed to converge, increase the number of iterations.\n",
      "  \"the number of iterations.\", ConvergenceWarning)\n",
      "/home/julio/Projects/coding/applied-machine-learning/.venv/lib/python3.6/site-packages/sklearn/svm/base.py:929: ConvergenceWarning: Liblinear failed to converge, increase the number of iterations.\n",
      "  \"the number of iterations.\", ConvergenceWarning)\n",
      "/home/julio/Projects/coding/applied-machine-learning/.venv/lib/python3.6/site-packages/sklearn/svm/base.py:929: ConvergenceWarning: Liblinear failed to converge, increase the number of iterations.\n",
      "  \"the number of iterations.\", ConvergenceWarning)\n",
      "/home/julio/Projects/coding/applied-machine-learning/.venv/lib/python3.6/site-packages/sklearn/svm/base.py:929: ConvergenceWarning: Liblinear failed to converge, increase the number of iterations.\n",
      "  \"the number of iterations.\", ConvergenceWarning)\n",
      "/home/julio/Projects/coding/applied-machine-learning/.venv/lib/python3.6/site-packages/sklearn/svm/base.py:929: ConvergenceWarning: Liblinear failed to converge, increase the number of iterations.\n",
      "  \"the number of iterations.\", ConvergenceWarning)\n",
      "/home/julio/Projects/coding/applied-machine-learning/.venv/lib/python3.6/site-packages/sklearn/svm/base.py:929: ConvergenceWarning: Liblinear failed to converge, increase the number of iterations.\n",
      "  \"the number of iterations.\", ConvergenceWarning)\n",
      "/home/julio/Projects/coding/applied-machine-learning/.venv/lib/python3.6/site-packages/sklearn/svm/base.py:929: ConvergenceWarning: Liblinear failed to converge, increase the number of iterations.\n",
      "  \"the number of iterations.\", ConvergenceWarning)\n",
      "/home/julio/Projects/coding/applied-machine-learning/.venv/lib/python3.6/site-packages/sklearn/svm/base.py:929: ConvergenceWarning: Liblinear failed to converge, increase the number of iterations.\n",
      "  \"the number of iterations.\", ConvergenceWarning)\n",
      "/home/julio/Projects/coding/applied-machine-learning/.venv/lib/python3.6/site-packages/sklearn/svm/base.py:929: ConvergenceWarning: Liblinear failed to converge, increase the number of iterations.\n",
      "  \"the number of iterations.\", ConvergenceWarning)\n",
      "/home/julio/Projects/coding/applied-machine-learning/.venv/lib/python3.6/site-packages/sklearn/svm/base.py:929: ConvergenceWarning: Liblinear failed to converge, increase the number of iterations.\n",
      "  \"the number of iterations.\", ConvergenceWarning)\n",
      "/home/julio/Projects/coding/applied-machine-learning/.venv/lib/python3.6/site-packages/sklearn/svm/base.py:929: ConvergenceWarning: Liblinear failed to converge, increase the number of iterations.\n",
      "  \"the number of iterations.\", ConvergenceWarning)\n",
      "/home/julio/Projects/coding/applied-machine-learning/.venv/lib/python3.6/site-packages/sklearn/svm/base.py:929: ConvergenceWarning: Liblinear failed to converge, increase the number of iterations.\n",
      "  \"the number of iterations.\", ConvergenceWarning)\n",
      "/home/julio/Projects/coding/applied-machine-learning/.venv/lib/python3.6/site-packages/sklearn/svm/base.py:929: ConvergenceWarning: Liblinear failed to converge, increase the number of iterations.\n",
      "  \"the number of iterations.\", ConvergenceWarning)\n",
      "/home/julio/Projects/coding/applied-machine-learning/.venv/lib/python3.6/site-packages/sklearn/svm/base.py:929: ConvergenceWarning: Liblinear failed to converge, increase the number of iterations.\n",
      "  \"the number of iterations.\", ConvergenceWarning)\n",
      "/home/julio/Projects/coding/applied-machine-learning/.venv/lib/python3.6/site-packages/sklearn/svm/base.py:929: ConvergenceWarning: Liblinear failed to converge, increase the number of iterations.\n",
      "  \"the number of iterations.\", ConvergenceWarning)\n",
      "/home/julio/Projects/coding/applied-machine-learning/.venv/lib/python3.6/site-packages/sklearn/svm/base.py:929: ConvergenceWarning: Liblinear failed to converge, increase the number of iterations.\n",
      "  \"the number of iterations.\", ConvergenceWarning)\n",
      "/home/julio/Projects/coding/applied-machine-learning/.venv/lib/python3.6/site-packages/sklearn/svm/base.py:929: ConvergenceWarning: Liblinear failed to converge, increase the number of iterations.\n",
      "  \"the number of iterations.\", ConvergenceWarning)\n",
      "/home/julio/Projects/coding/applied-machine-learning/.venv/lib/python3.6/site-packages/sklearn/svm/base.py:929: ConvergenceWarning: Liblinear failed to converge, increase the number of iterations.\n",
      "  \"the number of iterations.\", ConvergenceWarning)\n",
      "/home/julio/Projects/coding/applied-machine-learning/.venv/lib/python3.6/site-packages/sklearn/svm/base.py:929: ConvergenceWarning: Liblinear failed to converge, increase the number of iterations.\n",
      "  \"the number of iterations.\", ConvergenceWarning)\n",
      "/home/julio/Projects/coding/applied-machine-learning/.venv/lib/python3.6/site-packages/sklearn/svm/base.py:929: ConvergenceWarning: Liblinear failed to converge, increase the number of iterations.\n",
      "  \"the number of iterations.\", ConvergenceWarning)\n",
      "/home/julio/Projects/coding/applied-machine-learning/.venv/lib/python3.6/site-packages/sklearn/svm/base.py:929: ConvergenceWarning: Liblinear failed to converge, increase the number of iterations.\n",
      "  \"the number of iterations.\", ConvergenceWarning)\n",
      "/home/julio/Projects/coding/applied-machine-learning/.venv/lib/python3.6/site-packages/sklearn/svm/base.py:929: ConvergenceWarning: Liblinear failed to converge, increase the number of iterations.\n",
      "  \"the number of iterations.\", ConvergenceWarning)\n",
      "/home/julio/Projects/coding/applied-machine-learning/.venv/lib/python3.6/site-packages/sklearn/svm/base.py:929: ConvergenceWarning: Liblinear failed to converge, increase the number of iterations.\n",
      "  \"the number of iterations.\", ConvergenceWarning)\n",
      "/home/julio/Projects/coding/applied-machine-learning/.venv/lib/python3.6/site-packages/sklearn/svm/base.py:929: ConvergenceWarning: Liblinear failed to converge, increase the number of iterations.\n",
      "  \"the number of iterations.\", ConvergenceWarning)\n",
      "/home/julio/Projects/coding/applied-machine-learning/.venv/lib/python3.6/site-packages/sklearn/svm/base.py:929: ConvergenceWarning: Liblinear failed to converge, increase the number of iterations.\n",
      "  \"the number of iterations.\", ConvergenceWarning)\n",
      "/home/julio/Projects/coding/applied-machine-learning/.venv/lib/python3.6/site-packages/sklearn/svm/base.py:929: ConvergenceWarning: Liblinear failed to converge, increase the number of iterations.\n",
      "  \"the number of iterations.\", ConvergenceWarning)\n",
      "/home/julio/Projects/coding/applied-machine-learning/.venv/lib/python3.6/site-packages/sklearn/svm/base.py:929: ConvergenceWarning: Liblinear failed to converge, increase the number of iterations.\n",
      "  \"the number of iterations.\", ConvergenceWarning)\n",
      "/home/julio/Projects/coding/applied-machine-learning/.venv/lib/python3.6/site-packages/sklearn/svm/base.py:929: ConvergenceWarning: Liblinear failed to converge, increase the number of iterations.\n",
      "  \"the number of iterations.\", ConvergenceWarning)\n",
      "/home/julio/Projects/coding/applied-machine-learning/.venv/lib/python3.6/site-packages/sklearn/svm/base.py:929: ConvergenceWarning: Liblinear failed to converge, increase the number of iterations.\n",
      "  \"the number of iterations.\", ConvergenceWarning)\n",
      "/home/julio/Projects/coding/applied-machine-learning/.venv/lib/python3.6/site-packages/sklearn/svm/base.py:929: ConvergenceWarning: Liblinear failed to converge, increase the number of iterations.\n",
      "  \"the number of iterations.\", ConvergenceWarning)\n"
     ]
    },
    {
     "name": "stderr",
     "output_type": "stream",
     "text": [
      "/home/julio/Projects/coding/applied-machine-learning/.venv/lib/python3.6/site-packages/sklearn/svm/base.py:929: ConvergenceWarning: Liblinear failed to converge, increase the number of iterations.\n",
      "  \"the number of iterations.\", ConvergenceWarning)\n",
      "/home/julio/Projects/coding/applied-machine-learning/.venv/lib/python3.6/site-packages/sklearn/metrics/classification.py:1437: UndefinedMetricWarning: F-score is ill-defined and being set to 0.0 due to no predicted samples.\n",
      "  'precision', 'predicted', average, warn_for)\n",
      "/home/julio/Projects/coding/applied-machine-learning/.venv/lib/python3.6/site-packages/sklearn/svm/base.py:929: ConvergenceWarning: Liblinear failed to converge, increase the number of iterations.\n",
      "  \"the number of iterations.\", ConvergenceWarning)\n"
     ]
    },
    {
     "name": "stdout",
     "output_type": "stream",
     "text": [
      "Score 0.4428 +/- 0.1695\n",
      " Params: {'linearsvc__C': 0.8}\n"
     ]
    },
    {
     "name": "stderr",
     "output_type": "stream",
     "text": [
      "/home/julio/Projects/coding/applied-machine-learning/.venv/lib/python3.6/site-packages/sklearn/svm/base.py:929: ConvergenceWarning: Liblinear failed to converge, increase the number of iterations.\n",
      "  \"the number of iterations.\", ConvergenceWarning)\n"
     ]
    }
   ],
   "source": [
    "# linear svc cv\n",
    "pipeline = build_model_pipeline(\n",
    "    LinearSVC(max_iter=500)\n",
    ")\n",
    "gscv = GridSearchCV(\n",
    "    pipeline,\n",
    "    {'linearsvc__C': np.arange(0.1, 1.1, 0.1)},\n",
    "    scoring='f1',\n",
    "    cv=10\n",
    ")\n",
    "gscv.fit(X, y)\n",
    "report_best_model(gscv)"
   ]
  },
  {
   "cell_type": "code",
   "execution_count": 21,
   "metadata": {},
   "outputs": [
    {
     "name": "stdout",
     "output_type": "stream",
     "text": [
      "Score 0.4469 +/- 0.0209\n",
      " Params: {}\n"
     ]
    }
   ],
   "source": [
    "# nearest centroid\n",
    "pipeline = build_model_pipeline(\n",
    "    NearestCentroid()\n",
    ")\n",
    "gscv = GridSearchCV(\n",
    "    pipeline,\n",
    "    {},\n",
    "    scoring='f1',\n",
    "    cv=10\n",
    ")\n",
    "gscv.fit(X, y)\n",
    "report_best_model(gscv)"
   ]
  },
  {
   "cell_type": "code",
   "execution_count": 22,
   "metadata": {},
   "outputs": [],
   "source": [
    "from sklearn.preprocessing import StandardScaler"
   ]
  },
  {
   "cell_type": "code",
   "execution_count": 23,
   "metadata": {},
   "outputs": [],
   "source": [
    "def build_model_pipeline(model):\n",
    "    other_columns = ['customerID', 'Churn']\n",
    "\n",
    "    continuous_features = ['tenure', 'MonthlyCharges', 'TotalCharges']\n",
    "    continuous_features_processor = make_pipeline(\n",
    "        SimpleImputer(strategy='mean'),\n",
    "        StandardScaler()\n",
    "    )\n",
    "\n",
    "    categorical_features = [c for c in df.columns if c not in continuous_features + other_columns]\n",
    "    categorical_features_processor = OneHotEncoder()\n",
    "\n",
    "    return make_pipeline(\n",
    "        make_column_transformer(\n",
    "            (categorical_features_processor, categorical_features),\n",
    "            (continuous_features_processor, continuous_features)\n",
    "        ),\n",
    "        model\n",
    "    )"
   ]
  },
  {
   "cell_type": "code",
   "execution_count": 63,
   "metadata": {},
   "outputs": [],
   "source": [
    "def plot_model_performance(results, param_key, param_name):\n",
    "    (fig, ax) = plt.subplots(1, 1, figsize=(8, 5))\n",
    "\n",
    "    ax.plot(results[param_key].data, results['mean_test_score'])\n",
    "    high = results['mean_test_score'] + results['std_test_score']\n",
    "    low = results['mean_test_score'] - results['std_test_score']\n",
    "    ax.fill_between(results[param_key].data.astype(float), high, low, alpha=0.5)\n",
    "    ax.set_ylim(0, 1)\n",
    "    ax.set_ylabel('mean score')\n",
    "    ax.set_xlabel(param_name)\n",
    "    ax.set_title('Model performance on test set as function of ' + param_name)"
   ]
  },
  {
   "cell_type": "code",
   "execution_count": 64,
   "metadata": {},
   "outputs": [
    {
     "name": "stdout",
     "output_type": "stream",
     "text": [
      "Score 0.6006 +/- 0.0301\n",
      " Params: {'logisticregression__C': 1.0}\n"
     ]
    },
    {
     "data": {
      "image/png": "[encoded data removed]",
      "text/plain": [
       "<Figure size 576x360 with 1 Axes>"
      ]
     },
     "metadata": {
      "needs_background": "light"
     },
     "output_type": "display_data"
    }
   ],
   "source": [
    "# logistic regression cv\n",
    "pipeline = build_model_pipeline(\n",
    "    LogisticRegression(solver='lbfgs', max_iter=500)\n",
    ")\n",
    "gscv = GridSearchCV(\n",
    "    pipeline,\n",
    "    {'logisticregression__C': np.arange(0.1, 1.1, 0.1)},\n",
    "    scoring='f1',\n",
    "    cv=10\n",
    ")\n",
    "gscv.fit(X, y)\n",
    "report_best_model(gscv)\n",
    "plot_model_performance(gscv.cv_results_, 'param_logisticregression__C', 'C')"
   ]
  },
  {
   "cell_type": "code",
   "execution_count": 65,
   "metadata": {},
   "outputs": [
    {
     "name": "stdout",
     "output_type": "stream",
     "text": [
      "Score 0.5892 +/- 0.0176\n",
      " Params: {'linearsvc__C': 1.0}\n"
     ]
    },
    {
     "data": {
      "image/png": "[encoded data removed]",
      "text/plain": [
       "<Figure size 576x360 with 1 Axes>"
      ]
     },
     "metadata": {
      "needs_background": "light"
     },
     "output_type": "display_data"
    }
   ],
   "source": [
    "# linear svc cv\n",
    "pipeline = build_model_pipeline(\n",
    "    LinearSVC(max_iter=1500)\n",
    ")\n",
    "gscv = GridSearchCV(\n",
    "    pipeline,\n",
    "    {'linearsvc__C': np.arange(0.1, 1.1, 0.1)},\n",
    "    scoring='f1',\n",
    "    cv=10\n",
    ")\n",
    "gscv.fit(X, y)\n",
    "report_best_model(gscv)\n",
    "plot_model_performance(gscv.cv_results_, 'param_linearsvc__C', 'C')"
   ]
  },
  {
   "cell_type": "code",
   "execution_count": 27,
   "metadata": {},
   "outputs": [
    {
     "name": "stdout",
     "output_type": "stream",
     "text": [
      "Score 0.6112 +/- 0.0248\n",
      " Params: {}\n"
     ]
    }
   ],
   "source": [
    "# nearest centroid\n",
    "pipeline = build_model_pipeline(\n",
    "    NearestCentroid()\n",
    ")\n",
    "gscv = GridSearchCV(\n",
    "    pipeline,\n",
    "    {},\n",
    "    scoring='f1',\n",
    "    cv=10\n",
    ")\n",
    "gscv.fit(X, y)\n",
    "report_best_model(gscv)"
   ]
  },
  {
   "cell_type": "code",
   "execution_count": 66,
   "metadata": {},
   "outputs": [],
   "source": [
    "from sklearn.model_selection import KFold"
   ]
  },
  {
   "cell_type": "code",
   "execution_count": 68,
   "metadata": {},
   "outputs": [
    {
     "name": "stdout",
     "output_type": "stream",
     "text": [
      "Score 0.5977 +/- 0.0252\n",
      " Params: {'logisticregression__C': 1.0}\n"
     ]
    },
    {
     "data": {
      "image/png": "[encoded data removed]",
      "text/plain": [
       "<Figure size 576x360 with 1 Axes>"
      ]
     },
     "metadata": {
      "needs_background": "light"
     },
     "output_type": "display_data"
    }
   ],
   "source": [
    "# logistic regression cv\n",
    "pipeline = build_model_pipeline(\n",
    "    LogisticRegression(solver='lbfgs', max_iter=500)\n",
    ")\n",
    "gscv = GridSearchCV(\n",
    "    pipeline,\n",
    "    {'logisticregression__C': np.arange(0.1, 1.1, 0.1)},\n",
    "    scoring='f1',\n",
    "    cv=KFold(n_splits=10, shuffle=True, random_state=5)\n",
    ")\n",
    "gscv.fit(X, y)\n",
    "report_best_model(gscv)\n",
    "plot_model_performance(gscv.cv_results_, 'param_logisticregression__C', 'C')"
   ]
  },
  {
   "cell_type": "code",
   "execution_count": 69,
   "metadata": {},
   "outputs": [
    {
     "name": "stdout",
     "output_type": "stream",
     "text": [
      "Score 0.601 +/- 0.0261\n",
      " Params: {'logisticregression__C': 1.0}\n"
     ]
    },
    {
     "data": {
      "image/png": "[encoded data removed]",
      "text/plain": [
       "<Figure size 576x360 with 1 Axes>"
      ]
     },
     "metadata": {
      "needs_background": "light"
     },
     "output_type": "display_data"
    }
   ],
   "source": [
    "# logistic regression cv\n",
    "pipeline = build_model_pipeline(\n",
    "    LogisticRegression(solver='lbfgs', max_iter=500)\n",
    ")\n",
    "gscv = GridSearchCV(\n",
    "    pipeline,\n",
    "    {'logisticregression__C': np.arange(0.1, 1.1, 0.1)},\n",
    "    scoring='f1',\n",
    "    cv=KFold(n_splits=10, shuffle=False, random_state=5)\n",
    ")\n",
    "gscv.fit(X, y)\n",
    "report_best_model(gscv)\n",
    "plot_model_performance(gscv.cv_results_, 'param_logisticregression__C', 'C')"
   ]
  },
  {
   "cell_type": "code",
   "execution_count": 89,
   "metadata": {},
   "outputs": [
    {
     "name": "stdout",
     "output_type": "stream",
     "text": [
      "Score 0.5999 +/- 0.0494\n",
      " Params: {'logisticregression__C': 1.0}\n"
     ]
    },
    {
     "data": {
      "image/png": "[encoded data removed]",
      "text/plain": [
       "<Figure size 576x360 with 1 Axes>"
      ]
     },
     "metadata": {
      "needs_background": "light"
     },
     "output_type": "display_data"
    }
   ],
   "source": [
    "# logistic regression cv\n",
    "pipeline = build_model_pipeline(\n",
    "    LogisticRegression(solver='lbfgs', max_iter=500)\n",
    ")\n",
    "gscv = GridSearchCV(\n",
    "    pipeline,\n",
    "    {'logisticregression__C': np.arange(0.1, 1.1, 0.1)},\n",
    "    scoring='f1',\n",
    "    cv=KFold(n_splits=10, shuffle=True, random_state=7)\n",
    ")\n",
    "gscv.fit(X, y)\n",
    "report_best_model(gscv)\n",
    "plot_model_performance(gscv.cv_results_, 'param_logisticregression__C', 'C')"
   ]
  },
  {
   "cell_type": "code",
   "execution_count": 90,
   "metadata": {},
   "outputs": [
    {
     "data": {
      "text/plain": [
       "Text(0.5, 0, 'Feature')"
      ]
     },
     "execution_count": 90,
     "metadata": {},
     "output_type": "execute_result"
    },
    {
     "data": {
      "image/png": "[encoded data removed]",
      "text/plain": [
       "<Figure size 1080x360 with 1 Axes>"
      ]
     },
     "metadata": {
      "needs_background": "light"
     },
     "output_type": "display_data"
    }
   ],
   "source": [
    "(fig, ax) = plt.subplots(1, 1, figsize=(15, 5))\n",
    "model = gscv.best_estimator_.named_steps['logisticregression']\n",
    "features = list(range(model.coef_.shape[1]))\n",
    "ax.bar(features, model.coef_[0, :])\n",
    "ax.set_title('Feature importance')\n",
    "ax.set_ylabel('Magnitude/strength')\n",
    "ax.set_xlabel('Feature')"
   ]
  },
  {
   "cell_type": "code",
   "execution_count": 71,
   "metadata": {},
   "outputs": [
    {
     "name": "stdout",
     "output_type": "stream",
     "text": [
      "Score 0.59 +/- 0.0234\n",
      " Params: {'linearsvc__C': 0.30000000000000004}\n"
     ]
    },
    {
     "data": {
      "image/png": "[encoded data removed]",
      "text/plain": [
       "<Figure size 576x360 with 1 Axes>"
      ]
     },
     "metadata": {
      "needs_background": "light"
     },
     "output_type": "display_data"
    }
   ],
   "source": [
    "# linear svc cv\n",
    "pipeline = build_model_pipeline(\n",
    "    LinearSVC(max_iter=1500)\n",
    ")\n",
    "gscv = GridSearchCV(\n",
    "    pipeline,\n",
    "    {'linearsvc__C': np.arange(0.1, 1.1, 0.1)},\n",
    "    scoring='f1',\n",
    "    cv=KFold(n_splits=10, shuffle=True, random_state=5)\n",
    ")\n",
    "gscv.fit(X, y)\n",
    "report_best_model(gscv)\n",
    "plot_model_performance(gscv.cv_results_, 'param_linearsvc__C', 'C')"
   ]
  },
  {
   "cell_type": "code",
   "execution_count": 73,
   "metadata": {},
   "outputs": [
    {
     "name": "stdout",
     "output_type": "stream",
     "text": [
      "Score 0.5879 +/- 0.0157\n",
      " Params: {'linearsvc__C': 1.0}\n"
     ]
    },
    {
     "data": {
      "image/png": "[encoded data removed]",
      "text/plain": [
       "<Figure size 576x360 with 1 Axes>"
      ]
     },
     "metadata": {
      "needs_background": "light"
     },
     "output_type": "display_data"
    }
   ],
   "source": [
    "# linear svc cv\n",
    "pipeline = build_model_pipeline(\n",
    "    LinearSVC(max_iter=1500)\n",
    ")\n",
    "gscv = GridSearchCV(\n",
    "    pipeline,\n",
    "    {'linearsvc__C': np.arange(0.1, 1.1, 0.1)},\n",
    "    scoring='f1',\n",
    "    cv=KFold(n_splits=10, shuffle=False, random_state=5)\n",
    ")\n",
    "gscv.fit(X, y)\n",
    "report_best_model(gscv)\n",
    "plot_model_performance(gscv.cv_results_, 'param_linearsvc__C', 'C')"
   ]
  },
  {
   "cell_type": "code",
   "execution_count": 74,
   "metadata": {},
   "outputs": [
    {
     "name": "stdout",
     "output_type": "stream",
     "text": [
      "Score 0.5887 +/- 0.0497\n",
      " Params: {'linearsvc__C': 0.6}\n"
     ]
    },
    {
     "data": {
      "image/png": "[encoded data removed]",
      "text/plain": [
       "<Figure size 576x360 with 1 Axes>"
      ]
     },
     "metadata": {
      "needs_background": "light"
     },
     "output_type": "display_data"
    }
   ],
   "source": [
    "# linear svc cv\n",
    "pipeline = build_model_pipeline(\n",
    "    LinearSVC(max_iter=1500)\n",
    ")\n",
    "gscv = GridSearchCV(\n",
    "    pipeline,\n",
    "    {'linearsvc__C': np.arange(0.1, 1.1, 0.1)},\n",
    "    scoring='f1',\n",
    "    cv=KFold(n_splits=10, shuffle=True, random_state=7)\n",
    ")\n",
    "gscv.fit(X, y)\n",
    "report_best_model(gscv)\n",
    "plot_model_performance(gscv.cv_results_, 'param_linearsvc__C', 'C')"
   ]
  },
  {
   "cell_type": "code",
   "execution_count": 77,
   "metadata": {},
   "outputs": [
    {
     "data": {
      "text/plain": [
       "{'columntransformer': ColumnTransformer(n_jobs=None, remainder='drop', sparse_threshold=0.3,\n",
       "                   transformer_weights=None,\n",
       "                   transformers=[('onehotencoder',\n",
       "                                  OneHotEncoder(categorical_features=None,\n",
       "                                                categories=None, drop=None,\n",
       "                                                dtype=<class 'numpy.float64'>,\n",
       "                                                handle_unknown='error',\n",
       "                                                n_values=None, sparse=True),\n",
       "                                  ['gender', 'SeniorCitizen', 'Partner',\n",
       "                                   'Dependents', 'PhoneService', 'MultipleLines',\n",
       "                                   '...\n",
       "                                   'PaperlessBilling', 'PaymentMethod']),\n",
       "                                 ('pipeline',\n",
       "                                  Pipeline(memory=None,\n",
       "                                           steps=[('simpleimputer',\n",
       "                                                   SimpleImputer(add_indicator=False,\n",
       "                                                                 copy=True,\n",
       "                                                                 fill_value=None,\n",
       "                                                                 missing_values=nan,\n",
       "                                                                 strategy='mean',\n",
       "                                                                 verbose=0)),\n",
       "                                                  ('standardscaler',\n",
       "                                                   StandardScaler(copy=True,\n",
       "                                                                  with_mean=True,\n",
       "                                                                  with_std=True))],\n",
       "                                           verbose=False),\n",
       "                                  ['tenure', 'MonthlyCharges', 'TotalCharges'])],\n",
       "                   verbose=False),\n",
       " 'linearsvc': LinearSVC(C=1.0, class_weight=None, dual=True, fit_intercept=True,\n",
       "           intercept_scaling=1, loss='squared_hinge', max_iter=1500,\n",
       "           multi_class='ovr', penalty='l2', random_state=None, tol=0.0001,\n",
       "           verbose=0)}"
      ]
     },
     "execution_count": 77,
     "metadata": {},
     "output_type": "execute_result"
    }
   ],
   "source": [
    "gscv.best_estimator_.named_steps"
   ]
  },
  {
   "cell_type": "code",
   "execution_count": 87,
   "metadata": {},
   "outputs": [
    {
     "data": {
      "text/plain": [
       "Text(0.5, 0, 'Feature')"
      ]
     },
     "execution_count": 87,
     "metadata": {},
     "output_type": "execute_result"
    },
    {
     "data": {
      "image/png": "[encoded data removed]",
      "text/plain": [
       "<Figure size 1080x360 with 1 Axes>"
      ]
     },
     "metadata": {
      "needs_background": "light"
     },
     "output_type": "display_data"
    }
   ],
   "source": [
    "(fig, ax) = plt.subplots(1, 1, figsize=(15, 5))\n",
    "model = gscv.best_estimator_.named_steps['linearsvc']\n",
    "features = list(range(model.coef_.shape[1]))\n",
    "ax.bar(features, model.coef_[0, :])\n",
    "ax.set_title('Feature importance')\n",
    "ax.set_ylabel('Magnitude/strength')\n",
    "ax.set_xlabel('Feature')"
   ]
  },
  {
   "cell_type": "code",
   "execution_count": null,
   "metadata": {},
   "outputs": [],
   "source": []
  }
 ],
 "metadata": {
  "kernelspec": {
   "display_name": "Python 3",
   "language": "python",
   "name": "python3"
  },
  "language_info": {
   "codemirror_mode": {
    "name": "ipython",
    "version": 3
   },
   "file_extension": ".py",
   "mimetype": "text/x-python",
   "name": "python",
   "nbconvert_exporter": "python",
   "pygments_lexer": "ipython3",
   "version": "3.6.8"
  }
 },
 "nbformat": 4,
 "nbformat_minor": 2
}
