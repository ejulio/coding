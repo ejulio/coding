{
 "cells": [
  {
   "cell_type": "markdown",
   "metadata": {},
   "source": [
    "Following the tutorial in http://www.marcosantoni.com/2016/05/15/bayesian-ab-testing-in-python.html"
   ]
  },
  {
   "cell_type": "code",
   "execution_count": 1,
   "metadata": {},
   "outputs": [],
   "source": [
    "%matplotlib inline\n",
    "from matplotlib import pyplot as plt\n",
    "import numpy as np\n",
    "from pymc import Uniform, rbernoulli, Bernoulli, MCMC, deterministic"
   ]
  },
  {
   "cell_type": "markdown",
   "metadata": {},
   "source": [
    "We want to model\n",
    "\n",
    "$$\n",
    "P(\\text{click}|\\text{page} = A) = \\left\\{ \n",
    "\\begin{aligned}\n",
    "& p_A && \\text{click} = 1 \\\\\n",
    "& 1 - p_A && \\text{click} = 0\n",
    "\\end{aligned}\n",
    "\\right.\n",
    "$$"
   ]
  },
  {
   "cell_type": "markdown",
   "metadata": {},
   "source": [
    "Here we simulate some occurrences of users clicking on \"buy\" in page A"
   ]
  },
  {
   "cell_type": "code",
   "execution_count": 2,
   "metadata": {},
   "outputs": [
    {
     "name": "stdout",
     "output_type": "stream",
     "text": [
      "('Click-BUY', 64)\n",
      "('Observed frequency', 0.042666666666666665)\n"
     ]
    }
   ],
   "source": [
    "p_A_true = 0.05 # this is unknown (what we want to find)\n",
    "N = 1500\n",
    "occurrences = rbernoulli(p_A_true, N)\n",
    "\n",
    "print('Click-BUY', occurrences.sum())\n",
    "print('Observed frequency', occurrences.sum() / float(N))"
   ]
  },
  {
   "cell_type": "markdown",
   "metadata": {},
   "source": [
    "Now we define a prior on $p_A$.\n",
    "This is the first step and is our prior belief in the variable."
   ]
  },
  {
   "cell_type": "code",
   "execution_count": 3,
   "metadata": {},
   "outputs": [],
   "source": [
    "# an uniform distribution\n",
    "p_A = Uniform('p_A', lower=0, upper=1)\n",
    "\n",
    "# the observations of the click events\n",
    "obs = Bernoulli('obs', p_A, value=occurrences, observed=True)"
   ]
  },
  {
   "cell_type": "markdown",
   "metadata": {},
   "source": [
    "Now we simulate using Monte Carlo simulations to fit the data\n",
    "to the prior belief."
   ]
  },
  {
   "cell_type": "code",
   "execution_count": 4,
   "metadata": {},
   "outputs": [
    {
     "name": "stdout",
     "output_type": "stream",
     "text": [
      " [-----------------100%-----------------] 20000 of 20000 complete in 1.5 sec[0.04191058 0.04191058 0.04191058 ... 0.03801481 0.03801481 0.03801481]\n"
     ]
    }
   ],
   "source": [
    "mcmc = MCMC([p_A, obs]) # Monte Carlo Markov Chain\n",
    "\n",
    "mcmc.sample(20000, 1000) \n",
    "\n",
    "print(mcmc.trace('p_A')[:]) # posterior"
   ]
  },
  {
   "cell_type": "code",
   "execution_count": 5,
   "metadata": {},
   "outputs": [
    {
     "name": "stderr",
     "output_type": "stream",
     "text": [
      "/home/julio/miniconda3/envs/science/lib/python2.7/site-packages/matplotlib/axes/_axes.py:6571: UserWarning: The 'normed' kwarg is deprecated, and has been replaced by the 'density' kwarg.\n",
      "  warnings.warn(\"The 'normed' kwarg is deprecated, and has been \"\n"
     ]
    },
    {
     "data": {
      "image/png": "[encoded data removed]",
      "text/plain": [
       "<Figure size 576x504 with 1 Axes>"
      ]
     },
     "metadata": {
      "needs_background": "light"
     },
     "output_type": "display_data"
    }
   ],
   "source": [
    "plt.figure(figsize=(8, 7))\n",
    "plt.hist(mcmc.trace('p_A')[:], bins=35, histtype='stepfilled', normed=True)\n",
    "plt.xlabel('Probability pf Clicking BUY')\n",
    "plt.ylabel('Density')\n",
    "plt.vlines(p_A_true, 0, 90, linestyle='--', label='True p_A')\n",
    "plt.legend()\n",
    "plt.show()"
   ]
  },
  {
   "cell_type": "markdown",
   "metadata": {},
   "source": [
    "What if we want to know the 90% confidence interval for $p_A$?"
   ]
  },
  {
   "cell_type": "code",
   "execution_count": 6,
   "metadata": {},
   "outputs": [
    {
     "name": "stdout",
     "output_type": "stream",
     "text": [
      "There is 90% probability that p_A is between 0.03532761508751441 and 0.05185333909621951\n"
     ]
    }
   ],
   "source": [
    "p_A_samples = mcmc.trace('p_A')[:]\n",
    "lower_bound = np.percentile(p_A_samples, 5)\n",
    "upper_bound = np.percentile(p_A_samples, 95)\n",
    "print('There is 90%% probability that p_A is between %s and %s' % (lower_bound, upper_bound))"
   ]
  },
  {
   "cell_type": "markdown",
   "metadata": {},
   "source": [
    "Comparing $p_A$ and $p_B$"
   ]
  },
  {
   "cell_type": "code",
   "execution_count": 7,
   "metadata": {},
   "outputs": [
    {
     "name": "stdout",
     "output_type": "stream",
     "text": [
      "('Observed frequency A ', 0.058)\n",
      "('Observed frequency B ', 0.03333333333333333)\n",
      " [-----------------100%-----------------] 25000 of 25000 complete in 3.3 sec"
     ]
    },
    {
     "name": "stderr",
     "output_type": "stream",
     "text": [
      "/home/julio/miniconda3/envs/science/lib/python2.7/site-packages/matplotlib/axes/_axes.py:6571: UserWarning: The 'normed' kwarg is deprecated, and has been replaced by the 'density' kwarg.\n",
      "  warnings.warn(\"The 'normed' kwarg is deprecated, and has been \"\n",
      "/home/julio/miniconda3/envs/science/lib/python2.7/site-packages/matplotlib/axes/_axes.py:6571: UserWarning: The 'normed' kwarg is deprecated, and has been replaced by the 'density' kwarg.\n",
      "  warnings.warn(\"The 'normed' kwarg is deprecated, and has been \"\n",
      "/home/julio/miniconda3/envs/science/lib/python2.7/site-packages/matplotlib/axes/_axes.py:6571: UserWarning: The 'normed' kwarg is deprecated, and has been replaced by the 'density' kwarg.\n",
      "  warnings.warn(\"The 'normed' kwarg is deprecated, and has been \"\n"
     ]
    },
    {
     "data": {
      "text/plain": [
       "Text(0.5,0,'p_A - p_B')"
      ]
     },
     "execution_count": 7,
     "metadata": {},
     "output_type": "execute_result"
    },
    {
     "data": {
      "image/png": "[encoded data removed]",
      "text/plain": [
       "<Figure size 432x288 with 3 Axes>"
      ]
     },
     "metadata": {
      "needs_background": "light"
     },
     "output_type": "display_data"
    }
   ],
   "source": [
    "p_A_true = 0.05\n",
    "p_B_true = 0.04\n",
    "N_A = 1500\n",
    "N_B = 750\n",
    "\n",
    "occurrences_A = rbernoulli(p_A_true, N_A)\n",
    "occurrences_B = rbernoulli(p_B_true, N_B)\n",
    "\n",
    "print('Observed frequency A ', occurrences_A.sum() / float(N_A))\n",
    "print('Observed frequency B ', occurrences_B.sum() / float(N_B))\n",
    "\n",
    "p_A = Uniform('p_A', lower=0, upper=1)\n",
    "p_B = Uniform('p_B', lower=0, upper=1)\n",
    "\n",
    "@deterministic\n",
    "def delta(p_A=p_A, p_B=p_B):\n",
    "    return p_A - p_B\n",
    "\n",
    "obs_A = Bernoulli('obs_A', p_A, value=occurrences_A, observed=True)\n",
    "obs_B = Bernoulli('obs_B', p_B, value=occurrences_B, observed=True)\n",
    "\n",
    "mcmc = MCMC([p_A, p_B, obs_A, obs_B, delta])\n",
    "mcmc.sample(25000, 5000)\n",
    "\n",
    "p_A_samples = mcmc.trace('p_A')[:]\n",
    "p_B_samples = mcmc.trace('p_B')[:]\n",
    "delta_samples = mcmc.trace('delta')[:]\n",
    "\n",
    "plt.subplot(3, 1, 1)\n",
    "plt.xlim(0, 0.1)\n",
    "plt.hist(p_A_samples, bins=35, histtype='stepfilled', normed=True, color='blue', label='Posterior of p_A')\n",
    "plt.vlines(p_A_true, 0, 90, linestyle='--', label='True p_A (unknown)')\n",
    "plt.xlabel('Probability of clicking BUY via A')\n",
    "plt.legend()\n",
    "\n",
    "plt.subplot(3, 1, 2)\n",
    "plt.xlim(0, 0.1)\n",
    "plt.hist(p_B_samples, bins=35, histtype='stepfilled', normed=True, color='green', label='Posterior of p_A')\n",
    "plt.vlines(p_B_true, 0, 90, linestyle='--', label='True p_B (unknown)')\n",
    "plt.xlabel('Probability of clicking BUY via B')\n",
    "\n",
    "plt.subplot(3, 1, 3)\n",
    "plt.xlim(0, 0.1)\n",
    "plt.hist(delta_samples, bins=35, histtype='stepfilled', normed=True, color='blue', label='Posterior of delta')\n",
    "plt.vlines(p_A_true - p_B_true, 0, 90, linestyle='--', label='True delta (unknown)')\n",
    "plt.xlabel('p_A - p_B')"
   ]
  },
  {
   "cell_type": "code",
   "execution_count": null,
   "metadata": {},
   "outputs": [],
   "source": []
  }
 ],
 "metadata": {
  "kernelspec": {
   "display_name": "Python 2",
   "language": "python",
   "name": "python2"
  },
  "language_info": {
   "codemirror_mode": {
    "name": "ipython",
    "version": 2
   },
   "file_extension": ".py",
   "mimetype": "text/x-python",
   "name": "python",
   "nbconvert_exporter": "python",
   "pygments_lexer": "ipython2",
   "version": "2.7.15"
  }
 },
 "nbformat": 4,
 "nbformat_minor": 2
}
