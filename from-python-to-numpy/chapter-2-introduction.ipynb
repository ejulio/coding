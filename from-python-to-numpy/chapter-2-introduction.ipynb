{
 "cells": [
  {
   "cell_type": "code",
   "execution_count": 3,
   "metadata": {},
   "outputs": [
    {
     "name": "stdout",
     "output_type": "stream",
     "text": [
      "1.33 ms ± 101 µs per loop (mean ± std. dev. of 7 runs, 1000 loops each)\n"
     ]
    }
   ],
   "source": [
    "# object oriented approach\n",
    "import random\n",
    "\n",
    "\n",
    "class RandomWalker:\n",
    "    \n",
    "    def __init__(self):\n",
    "        self.position = 0\n",
    "    \n",
    "    def walk(self, n):\n",
    "        self.position = 0\n",
    "        for i in range(n):\n",
    "            yield self.position\n",
    "            self.position += 2 * random.randint(0, 1) - 1\n",
    "\n",
    "walker = RandomWalker()\n",
    "%timeit walk = list(walker.walk(1000))"
   ]
  },
  {
   "cell_type": "code",
   "execution_count": 4,
   "metadata": {},
   "outputs": [
    {
     "name": "stdout",
     "output_type": "stream",
     "text": [
      "1.14 ms ± 5.85 µs per loop (mean ± std. dev. of 7 runs, 1000 loops each)\n"
     ]
    }
   ],
   "source": [
    "# procedural approach\n",
    "\n",
    "def random_walk(n):\n",
    "    position = 0\n",
    "    walk = [position]\n",
    "    for i in range(n):\n",
    "        position += 2 * random.randint(0, 1) - 1\n",
    "        walk.append(position)\n",
    "    return walk\n",
    "\n",
    "%timeit walk = random_walk(1000)"
   ]
  },
  {
   "cell_type": "code",
   "execution_count": 6,
   "metadata": {},
   "outputs": [
    {
     "name": "stdout",
     "output_type": "stream",
     "text": [
      "201 µs ± 2.69 µs per loop (mean ± std. dev. of 7 runs, 1000 loops each)\n"
     ]
    }
   ],
   "source": [
    "# itertools vectorized approach\n",
    "from itertools import accumulate\n",
    "\n",
    "def random_walk_faster(n):\n",
    "    steps = random.choices([-1, 1], k=n)\n",
    "    return [0] + list(accumulate(steps))\n",
    "\n",
    "%timeit walk = random_walk_faster(1000)"
   ]
  },
  {
   "cell_type": "code",
   "execution_count": 8,
   "metadata": {},
   "outputs": [
    {
     "name": "stdout",
     "output_type": "stream",
     "text": [
      "21.9 µs ± 153 ns per loop (mean ± std. dev. of 7 runs, 10000 loops each)\n"
     ]
    }
   ],
   "source": [
    "# numpy vectorized approach\n",
    "import numpy as np\n",
    "\n",
    "def random_walk_fastest(n):\n",
    "    steps = np.random.choice([-1, 1], n)\n",
    "    return np.cumsum(steps)\n",
    "\n",
    "%timeit walk = random_walk_fastest(1000)"
   ]
  },
  {
   "cell_type": "code",
   "execution_count": null,
   "metadata": {},
   "outputs": [],
   "source": []
  }
 ],
 "metadata": {
  "kernelspec": {
   "display_name": "Python 3",
   "language": "python",
   "name": "python3"
  },
  "language_info": {
   "codemirror_mode": {
    "name": "ipython",
    "version": 3
   },
   "file_extension": ".py",
   "mimetype": "text/x-python",
   "name": "python",
   "nbconvert_exporter": "python",
   "pygments_lexer": "ipython3",
   "version": "3.6.7"
  }
 },
 "nbformat": 4,
 "nbformat_minor": 2
}
