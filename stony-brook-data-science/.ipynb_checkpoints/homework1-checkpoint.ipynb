{
 "cells": [
  {
   "cell_type": "markdown",
   "metadata": {},
   "source": [
    "# HOMEWORK 1\n",
    "\n",
    "* Work on New York Taxi Data (https://www.kaggle.com/c/new-york-city-taxi-fare-prediction/data)\n",
    "* https://docs.google.com/document/d/1T6YSc5Iy5Bg7giua8UjWgj222nLAwpKFg1ZLVtrFDVg/edit\n",
    "\n",
    "#### FROM THE SPEC ABOVE (Copied here for easy reference)\n",
    "1. Take a look at the training data. There may be anomalies in the data that you may need to factor in before you start on the other tasks. Clean the data first to handle these issues. Explain what you did to clean the data (in bulleted form). (10 pt)\n",
    "\n",
    "2. Compute the Pearson correlation between the following: (9 pt)\n",
    "    * Euclidean distance of the ride and the taxi fare\n",
    "    * time of day and distance traveled\n",
    "    * time of day and the taxi fare\n",
    "    * Which has the highest correlation?\n",
    "\n",
    "3. For each subtask of (2), create a plot visualizing the relation between the variables. Comment on whether you see non-linear or any other interesting relations. (9 pt)\n",
    "\n",
    "4. Create an exciting plot of your own using the dataset that you think reveals something very interesting.   Explain what it is, and anything else you learned. (15 pt)\n",
    "\n",
    "5. Generate additional features like those from (2) from the given data set. What additional features can you create? (10 pt)\n",
    "\n",
    "6. Set up a simple linear regression model to predict taxi fare. Use your generated features from the previous task if applicable. How well/badly does it work? What are the coefficients for your features? Which variable(s) are the most important one? (12 pt)\n",
    "\n",
    "7. Consider external datasets that may be helpful to expand your feature set. Give bullet points explaining all the datasets you could identify that would help improve your predictions. If possible, try finding such datasets online to incorporate into your training. List any that you were able to use in your analysis. (10 pt)\n",
    "\n",
    "8. Now, try to build a better prediction model that works harder to solve the task. Perhaps it will still use linear regression but with new features. Perhaps it will preprocess features better (e.g. normalize or scale the input vector, convert non-numerical value into float, or do a special treatment of missing values). Perhaps it will use a different machine learning approach (e.g. nearest neighbors, random forests, etc). Briefly explain what you did differently here versus the simple model. Which of your models minimizes the squared error? (10 pt)\n",
    "\n",
    "9. Predict all the taxi fares for instances at file “sample_submission.csv”. Write the result into a csv file and submit it to the website. You should do this for every model you develop. Report the rank, score, number of entries, for your highest rank. Include a snapshot of your best score on the leaderboard as confirmation. (15 pt)\n"
   ]
  },
  {
   "cell_type": "code",
   "execution_count": 1,
   "metadata": {},
   "outputs": [],
   "source": [
    "%matplotlib inline\n",
    "\n",
    "from collections import defaultdict\n",
    "\n",
    "import pandas as pd\n",
    "from tqdm import tqdm\n",
    "import matplotlib.pyplot as plt"
   ]
  },
  {
   "cell_type": "code",
   "execution_count": 2,
   "metadata": {},
   "outputs": [],
   "source": [
    "# some optimizations from https://www.kaggle.com/szelee/how-to-import-a-csv-file-of-55-million-rows\n",
    "# other approach would be to use dask http://docs.dask.org/en/latest/dataframe.html\n",
    "\n",
    "def read_train_in_chunks(chunk_size=1000000):\n",
    "    FILE_PATH = './homework1_data/train.csv'\n",
    "    \n",
    "    column_types = {\n",
    "        'fare_amount': 'float32',\n",
    "        'pickup_datetime': 'str', \n",
    "        'pickup_longitude': 'float32',\n",
    "        'pickup_latitude': 'float32',\n",
    "        'dropoff_longitude': 'float32',\n",
    "        'dropoff_latitude': 'float32',\n",
    "        'passenger_count': 'uint8'\n",
    "    }\n",
    "\n",
    "    return pd.read_csv(\n",
    "        FILE_PATH,\n",
    "        usecols=list(column_types.keys()),\n",
    "        dtype=column_types,\n",
    "        chunksize=chunk_size\n",
    "    )"
   ]
  },
  {
   "cell_type": "markdown",
   "metadata": {},
   "source": [
    "# Understanding/looking through the data\n",
    "\n",
    "Go through each chunk and identify anomalies.\n",
    "\n",
    "Questions:\n",
    "\n",
    "* What does `passenger_count <= 0` mean?\n",
    "* What does `fare_amount <= 0` mean?\n",
    "* What does `dropoff_latitude == NaN` mean?\n",
    "* What does it mean when _pickup location_ is the same as _dropoff location_?\n",
    "\n",
    "* Some basic info about taxi fares https://www1.nyc.gov/site/tlc/passengers/taxi-fare.page"
   ]
  },
  {
   "cell_type": "code",
   "execution_count": 3,
   "metadata": {},
   "outputs": [],
   "source": [
    "chunks = enumerate(read_train_in_chunks())"
   ]
  },
  {
   "cell_type": "code",
   "execution_count": 4,
   "metadata": {},
   "outputs": [
    {
     "name": "stdout",
     "output_type": "stream",
     "text": [
      "chunk 0\n"
     ]
    },
    {
     "data": {
      "text/html": [
       "<div>\n",
       "<style scoped>\n",
       "    .dataframe tbody tr th:only-of-type {\n",
       "        vertical-align: middle;\n",
       "    }\n",
       "\n",
       "    .dataframe tbody tr th {\n",
       "        vertical-align: top;\n",
       "    }\n",
       "\n",
       "    .dataframe thead th {\n",
       "        text-align: right;\n",
       "    }\n",
       "</style>\n",
       "<table border=\"1\" class=\"dataframe\">\n",
       "  <thead>\n",
       "    <tr style=\"text-align: right;\">\n",
       "      <th></th>\n",
       "      <th>fare_amount</th>\n",
       "      <th>pickup_longitude</th>\n",
       "      <th>pickup_latitude</th>\n",
       "      <th>dropoff_longitude</th>\n",
       "      <th>dropoff_latitude</th>\n",
       "      <th>passenger_count</th>\n",
       "    </tr>\n",
       "  </thead>\n",
       "  <tbody>\n",
       "    <tr>\n",
       "      <th>count</th>\n",
       "      <td>1000000.000000</td>\n",
       "      <td>1000000.000000</td>\n",
       "      <td>1000000.000000</td>\n",
       "      <td>999990.000000</td>\n",
       "      <td>999990.000000</td>\n",
       "      <td>1000000.000000</td>\n",
       "    </tr>\n",
       "    <tr>\n",
       "      <th>mean</th>\n",
       "      <td>11.348081</td>\n",
       "      <td>-72.526642</td>\n",
       "      <td>39.929008</td>\n",
       "      <td>-72.527840</td>\n",
       "      <td>39.919964</td>\n",
       "      <td>1.684924</td>\n",
       "    </tr>\n",
       "    <tr>\n",
       "      <th>std</th>\n",
       "      <td>9.822090</td>\n",
       "      <td>12.057937</td>\n",
       "      <td>7.626154</td>\n",
       "      <td>11.324494</td>\n",
       "      <td>8.201418</td>\n",
       "      <td>1.323911</td>\n",
       "    </tr>\n",
       "    <tr>\n",
       "      <th>min</th>\n",
       "      <td>-44.900002</td>\n",
       "      <td>-3377.680908</td>\n",
       "      <td>-3116.285400</td>\n",
       "      <td>-3383.296631</td>\n",
       "      <td>-3114.338623</td>\n",
       "      <td>0.000000</td>\n",
       "    </tr>\n",
       "    <tr>\n",
       "      <th>25%</th>\n",
       "      <td>6.000000</td>\n",
       "      <td>-73.992058</td>\n",
       "      <td>40.734966</td>\n",
       "      <td>-73.991386</td>\n",
       "      <td>40.734047</td>\n",
       "      <td>1.000000</td>\n",
       "    </tr>\n",
       "    <tr>\n",
       "      <th>50%</th>\n",
       "      <td>8.500000</td>\n",
       "      <td>-73.981789</td>\n",
       "      <td>40.752693</td>\n",
       "      <td>-73.980133</td>\n",
       "      <td>40.753166</td>\n",
       "      <td>1.000000</td>\n",
       "    </tr>\n",
       "    <tr>\n",
       "      <th>75%</th>\n",
       "      <td>12.500000</td>\n",
       "      <td>-73.967094</td>\n",
       "      <td>40.767155</td>\n",
       "      <td>-73.963654</td>\n",
       "      <td>40.768127</td>\n",
       "      <td>2.000000</td>\n",
       "    </tr>\n",
       "    <tr>\n",
       "      <th>max</th>\n",
       "      <td>500.000000</td>\n",
       "      <td>2522.271240</td>\n",
       "      <td>2621.628418</td>\n",
       "      <td>45.581619</td>\n",
       "      <td>1651.553467</td>\n",
       "      <td>208.000000</td>\n",
       "    </tr>\n",
       "  </tbody>\n",
       "</table>\n",
       "</div>"
      ],
      "text/plain": [
       "          fare_amount  pickup_longitude  pickup_latitude  dropoff_longitude  \\\n",
       "count  1000000.000000    1000000.000000   1000000.000000      999990.000000   \n",
       "mean        11.348081        -72.526642        39.929008         -72.527840   \n",
       "std          9.822090         12.057937         7.626154          11.324494   \n",
       "min        -44.900002      -3377.680908     -3116.285400       -3383.296631   \n",
       "25%          6.000000        -73.992058        40.734966         -73.991386   \n",
       "50%          8.500000        -73.981789        40.752693         -73.980133   \n",
       "75%         12.500000        -73.967094        40.767155         -73.963654   \n",
       "max        500.000000       2522.271240      2621.628418          45.581619   \n",
       "\n",
       "       dropoff_latitude  passenger_count  \n",
       "count     999990.000000   1000000.000000  \n",
       "mean          39.919964         1.684924  \n",
       "std            8.201418         1.323911  \n",
       "min        -3114.338623         0.000000  \n",
       "25%           40.734047         1.000000  \n",
       "50%           40.753166         1.000000  \n",
       "75%           40.768127         2.000000  \n",
       "max         1651.553467       208.000000  "
      ]
     },
     "execution_count": 4,
     "metadata": {},
     "output_type": "execute_result"
    }
   ],
   "source": [
    "# re-run this cell to get an idea of all the chunks\n",
    "(i, df) = next(chunks, None)\n",
    "print(f'chunk {i}')\n",
    "df.describe()"
   ]
  },
  {
   "cell_type": "code",
   "execution_count": 5,
   "metadata": {},
   "outputs": [
    {
     "name": "stderr",
     "output_type": "stream",
     "text": [
      "56it [01:32,  1.40s/it]\n"
     ]
    }
   ],
   "source": [
    "data = []\n",
    "for df in tqdm(read_train_in_chunks()):\n",
    "    data.append(df.fare_amount)"
   ]
  },
  {
   "cell_type": "code",
   "execution_count": 7,
   "metadata": {},
   "outputs": [],
   "source": [
    "d = pd.concat(data)"
   ]
  },
  {
   "cell_type": "code",
   "execution_count": 26,
   "metadata": {},
   "outputs": [
    {
     "data": {
      "text/plain": [
       "<matplotlib.axes._subplots.AxesSubplot at 0x7fb5d28ab358>"
      ]
     },
     "execution_count": 26,
     "metadata": {},
     "output_type": "execute_result"
    },
    {
     "data": {
      "image/png": "[encoded data removed]",
      "text/plain": [
       "<Figure size 432x288 with 1 Axes>"
      ]
     },
     "metadata": {
      "needs_background": "light"
     },
     "output_type": "display_data"
    }
   ],
   "source": [
    "d[d < 1000].hist(bins=100, log=True)"
   ]
  },
  {
   "cell_type": "code",
   "execution_count": 28,
   "metadata": {},
   "outputs": [
    {
     "name": "stderr",
     "output_type": "stream",
     "text": [
      "56it [01:43,  1.45s/it]\n"
     ]
    }
   ],
   "source": [
    "data = []\n",
    "for df in tqdm(read_train_in_chunks()):\n",
    "    data.append(df[df.fare_amount >= 1000])"
   ]
  },
  {
   "cell_type": "code",
   "execution_count": 29,
   "metadata": {},
   "outputs": [],
   "source": [
    "d = pd.concat(data)"
   ]
  },
  {
   "cell_type": "code",
   "execution_count": 30,
   "metadata": {},
   "outputs": [
    {
     "data": {
      "text/html": [
       "<div>\n",
       "<style scoped>\n",
       "    .dataframe tbody tr th:only-of-type {\n",
       "        vertical-align: middle;\n",
       "    }\n",
       "\n",
       "    .dataframe tbody tr th {\n",
       "        vertical-align: top;\n",
       "    }\n",
       "\n",
       "    .dataframe thead th {\n",
       "        text-align: right;\n",
       "    }\n",
       "</style>\n",
       "<table border=\"1\" class=\"dataframe\">\n",
       "  <thead>\n",
       "    <tr style=\"text-align: right;\">\n",
       "      <th></th>\n",
       "      <th>fare_amount</th>\n",
       "      <th>pickup_datetime</th>\n",
       "      <th>pickup_longitude</th>\n",
       "      <th>pickup_latitude</th>\n",
       "      <th>dropoff_longitude</th>\n",
       "      <th>dropoff_latitude</th>\n",
       "      <th>passenger_count</th>\n",
       "    </tr>\n",
       "  </thead>\n",
       "  <tbody>\n",
       "    <tr>\n",
       "      <th>1144706</th>\n",
       "      <td>1273.310059</td>\n",
       "      <td>2015-03-09 15:12:00 UTC</td>\n",
       "      <td>0.000000</td>\n",
       "      <td>0.000000</td>\n",
       "      <td>0.000000</td>\n",
       "      <td>0.000000</td>\n",
       "      <td>1</td>\n",
       "    </tr>\n",
       "    <tr>\n",
       "      <th>18592729</th>\n",
       "      <td>2010.900024</td>\n",
       "      <td>2010-03-21 10:03:32 UTC</td>\n",
       "      <td>-73.986267</td>\n",
       "      <td>40.774845</td>\n",
       "      <td>-73.971542</td>\n",
       "      <td>40.743950</td>\n",
       "      <td>1</td>\n",
       "    </tr>\n",
       "    <tr>\n",
       "      <th>18859340</th>\n",
       "      <td>61550.859375</td>\n",
       "      <td>2013-08-20 11:52:52 UTC</td>\n",
       "      <td>-73.967712</td>\n",
       "      <td>40.755966</td>\n",
       "      <td>-73.945572</td>\n",
       "      <td>40.747665</td>\n",
       "      <td>1</td>\n",
       "    </tr>\n",
       "    <tr>\n",
       "      <th>22703574</th>\n",
       "      <td>3130.300049</td>\n",
       "      <td>2015-03-09 15:28:56 UTC</td>\n",
       "      <td>-74.005417</td>\n",
       "      <td>40.664413</td>\n",
       "      <td>-74.005417</td>\n",
       "      <td>40.664413</td>\n",
       "      <td>1</td>\n",
       "    </tr>\n",
       "    <tr>\n",
       "      <th>27825660</th>\n",
       "      <td>1097.479980</td>\n",
       "      <td>2015-03-11 13:19:00 UTC</td>\n",
       "      <td>0.000000</td>\n",
       "      <td>0.000000</td>\n",
       "      <td>0.000000</td>\n",
       "      <td>0.000000</td>\n",
       "      <td>1</td>\n",
       "    </tr>\n",
       "    <tr>\n",
       "      <th>30823273</th>\n",
       "      <td>2004.500000</td>\n",
       "      <td>2010-03-20 12:24:52 UTC</td>\n",
       "      <td>-73.963135</td>\n",
       "      <td>40.777855</td>\n",
       "      <td>-73.975433</td>\n",
       "      <td>40.782146</td>\n",
       "      <td>1</td>\n",
       "    </tr>\n",
       "    <tr>\n",
       "      <th>37879397</th>\n",
       "      <td>2023.699951</td>\n",
       "      <td>2010-03-21 14:43:02 UTC</td>\n",
       "      <td>-73.790054</td>\n",
       "      <td>40.647064</td>\n",
       "      <td>-73.917976</td>\n",
       "      <td>40.656940</td>\n",
       "      <td>1</td>\n",
       "    </tr>\n",
       "    <tr>\n",
       "      <th>39374511</th>\n",
       "      <td>9000.410156</td>\n",
       "      <td>2010-02-19 17:10:00 UTC</td>\n",
       "      <td>-73.993744</td>\n",
       "      <td>40.746105</td>\n",
       "      <td>-73.989807</td>\n",
       "      <td>40.738976</td>\n",
       "      <td>1</td>\n",
       "    </tr>\n",
       "    <tr>\n",
       "      <th>41032263</th>\n",
       "      <td>93963.359375</td>\n",
       "      <td>2015-02-24 08:57:37 UTC</td>\n",
       "      <td>-73.994461</td>\n",
       "      <td>40.712353</td>\n",
       "      <td>-74.012543</td>\n",
       "      <td>40.702904</td>\n",
       "      <td>2</td>\n",
       "    </tr>\n",
       "    <tr>\n",
       "      <th>41186018</th>\n",
       "      <td>75747.023438</td>\n",
       "      <td>2015-05-03 09:35:20 UTC</td>\n",
       "      <td>-73.967949</td>\n",
       "      <td>40.792355</td>\n",
       "      <td>-73.990898</td>\n",
       "      <td>40.738976</td>\n",
       "      <td>1</td>\n",
       "    </tr>\n",
       "    <tr>\n",
       "      <th>43692053</th>\n",
       "      <td>1021.299988</td>\n",
       "      <td>2010-02-09 15:54:00 UTC</td>\n",
       "      <td>0.000000</td>\n",
       "      <td>0.000000</td>\n",
       "      <td>0.000000</td>\n",
       "      <td>0.000000</td>\n",
       "      <td>5</td>\n",
       "    </tr>\n",
       "    <tr>\n",
       "      <th>45003632</th>\n",
       "      <td>1564.500000</td>\n",
       "      <td>2010-02-20 17:38:00 UTC</td>\n",
       "      <td>-73.937782</td>\n",
       "      <td>40.758255</td>\n",
       "      <td>-73.937752</td>\n",
       "      <td>40.758232</td>\n",
       "      <td>1</td>\n",
       "    </tr>\n",
       "  </tbody>\n",
       "</table>\n",
       "</div>"
      ],
      "text/plain": [
       "           fare_amount          pickup_datetime  pickup_longitude  \\\n",
       "1144706    1273.310059  2015-03-09 15:12:00 UTC          0.000000   \n",
       "18592729   2010.900024  2010-03-21 10:03:32 UTC        -73.986267   \n",
       "18859340  61550.859375  2013-08-20 11:52:52 UTC        -73.967712   \n",
       "22703574   3130.300049  2015-03-09 15:28:56 UTC        -74.005417   \n",
       "27825660   1097.479980  2015-03-11 13:19:00 UTC          0.000000   \n",
       "30823273   2004.500000  2010-03-20 12:24:52 UTC        -73.963135   \n",
       "37879397   2023.699951  2010-03-21 14:43:02 UTC        -73.790054   \n",
       "39374511   9000.410156  2010-02-19 17:10:00 UTC        -73.993744   \n",
       "41032263  93963.359375  2015-02-24 08:57:37 UTC        -73.994461   \n",
       "41186018  75747.023438  2015-05-03 09:35:20 UTC        -73.967949   \n",
       "43692053   1021.299988  2010-02-09 15:54:00 UTC          0.000000   \n",
       "45003632   1564.500000  2010-02-20 17:38:00 UTC        -73.937782   \n",
       "\n",
       "          pickup_latitude  dropoff_longitude  dropoff_latitude  \\\n",
       "1144706          0.000000           0.000000          0.000000   \n",
       "18592729        40.774845         -73.971542         40.743950   \n",
       "18859340        40.755966         -73.945572         40.747665   \n",
       "22703574        40.664413         -74.005417         40.664413   \n",
       "27825660         0.000000           0.000000          0.000000   \n",
       "30823273        40.777855         -73.975433         40.782146   \n",
       "37879397        40.647064         -73.917976         40.656940   \n",
       "39374511        40.746105         -73.989807         40.738976   \n",
       "41032263        40.712353         -74.012543         40.702904   \n",
       "41186018        40.792355         -73.990898         40.738976   \n",
       "43692053         0.000000           0.000000          0.000000   \n",
       "45003632        40.758255         -73.937752         40.758232   \n",
       "\n",
       "          passenger_count  \n",
       "1144706                 1  \n",
       "18592729                1  \n",
       "18859340                1  \n",
       "22703574                1  \n",
       "27825660                1  \n",
       "30823273                1  \n",
       "37879397                1  \n",
       "39374511                1  \n",
       "41032263                2  \n",
       "41186018                1  \n",
       "43692053                5  \n",
       "45003632                1  "
      ]
     },
     "execution_count": 30,
     "metadata": {},
     "output_type": "execute_result"
    }
   ],
   "source": [
    "d"
   ]
  },
  {
   "cell_type": "markdown",
   "metadata": {},
   "source": [
    "Let's check for stats about the anomalies in the dataset"
   ]
  },
  {
   "cell_type": "code",
   "execution_count": 26,
   "metadata": {},
   "outputs": [
    {
     "name": "stderr",
     "output_type": "stream",
     "text": [
      "0it [00:00, ?it/s]"
     ]
    },
    {
     "name": "stdout",
     "output_type": "stream",
     "text": [
      "Computing stats\n"
     ]
    },
    {
     "name": "stderr",
     "output_type": "stream",
     "text": [
      "56it [01:34,  1.44s/it]"
     ]
    },
    {
     "name": "stdout",
     "output_type": "stream",
     "text": [
      "Stats\n",
      "size: 55423856\n",
      "fare_amount < 2.5: 4747\n",
      "passenger_count <= 0: 195416\n",
      "passenger_count > 6: 116\n",
      "no dropoff: 376\n",
      "no pickup: 0\n",
      "same location: 1591119\n"
     ]
    },
    {
     "name": "stderr",
     "output_type": "stream",
     "text": [
      "\n"
     ]
    }
   ],
   "source": [
    "stats = defaultdict(lambda: 0)\n",
    "for df in tqdm(read_train_in_chunks()):\n",
    "    stats['size'] += len(df)\n",
    "    stats['fare_amount < 2.5'] += len(df.query('fare_amount < 2.5'))\n",
    "    stats['fare_amount < 2.5'] += len(df.query('fare_amount >= 1000'))\n",
    "    stats['passenger_count <= 0'] += len(df.query('passenger_count <= 0'))\n",
    "    stats['passenger_count > 6'] += len(df.query('passenger_count > 6'))\n",
    "    stats['no dropoff'] += len(df.query('dropoff_latitude != dropoff_latitude'))\n",
    "    stats['no pickup'] += len(df.query('pickup_longitude != pickup_longitude'))\n",
    "    stats['same location'] += len(df.query('dropoff_latitude == pickup_latitude and dropoff_longitude == pickup_longitude'))\n",
    "\n",
    "for (k, v) in stats.items():\n",
    "    print(f'{k}: {v}')"
   ]
  },
  {
   "cell_type": "code",
   "execution_count": null,
   "metadata": {},
   "outputs": [],
   "source": []
  }
 ],
 "metadata": {
  "kernelspec": {
   "display_name": "Python 3",
   "language": "python",
   "name": "python3"
  },
  "language_info": {
   "codemirror_mode": {
    "name": "ipython",
    "version": 3
   },
   "file_extension": ".py",
   "mimetype": "text/x-python",
   "name": "python",
   "nbconvert_exporter": "python",
   "pygments_lexer": "ipython3",
   "version": "3.6.7"
  }
 },
 "nbformat": 4,
 "nbformat_minor": 2
}
