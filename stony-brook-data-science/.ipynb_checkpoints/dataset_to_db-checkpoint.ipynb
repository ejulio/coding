{
 "cells": [
  {
   "cell_type": "code",
   "execution_count": 2,
   "metadata": {},
   "outputs": [],
   "source": [
    "import psycopg2\n",
    "from tqdm import tqdm\n",
    "import pandas as pd\n",
    "from psycopg2.extras import execute_values"
   ]
  },
  {
   "cell_type": "code",
   "execution_count": 3,
   "metadata": {},
   "outputs": [],
   "source": [
    "connection_str = f'host=localhost port=5432 dbname=nyc_taxi_fare user=postgres password=unsdatasets'\n",
    "connection = psycopg2.connect(connection_str)\n",
    "cursor = connection.cursor()"
   ]
  },
  {
   "cell_type": "code",
   "execution_count": 13,
   "metadata": {},
   "outputs": [],
   "source": [
    "create_table = '''\n",
    "create table train (\n",
    "    id serial primary key unique not null,\n",
    "    fare_amount real not null,\n",
    "    pickup_datetime timestamp,\n",
    "    passenger_count int,\n",
    "    pickup_longitude decimal,\n",
    "    pickup_latitude decimal,\n",
    "    dropoff_longitude decimal,\n",
    "    dropoff_latitude decimal\n",
    ")\n",
    "'''\n",
    "\n",
    "cursor.execute(create_table)\n",
    "connection.commit()"
   ]
  },
  {
   "cell_type": "code",
   "execution_count": 31,
   "metadata": {},
   "outputs": [],
   "source": [
    "insert = '''\n",
    "insert into train\n",
    "    (fare_amount, pickup_datetime, pickup_longitude, pickup_latitude, dropoff_longitude, dropoff_latitude, passenger_count)\n",
    "values\n",
    "    %s\n",
    "'''"
   ]
  },
  {
   "cell_type": "code",
   "execution_count": 34,
   "metadata": {},
   "outputs": [
    {
     "data": {
      "text/plain": [
       "(2,\n",
       " 4.5,\n",
       " datetime.datetime(2009, 6, 15, 17, 26, 21),\n",
       " 1,\n",
       " Decimal('-73.84431457519531'),\n",
       " Decimal('40.721317291259766'),\n",
       " Decimal('-73.84161376953125'),\n",
       " Decimal('40.712276458740234'))"
      ]
     },
     "execution_count": 34,
     "metadata": {},
     "output_type": "execute_result"
    }
   ],
   "source": [
    "cursor.execute('select * from train')\n",
    "cursor.fetchone()"
   ]
  },
  {
   "cell_type": "code",
   "execution_count": 35,
   "metadata": {},
   "outputs": [],
   "source": [
    "cursor.execute('delete from train')\n",
    "connection.commit()"
   ]
  },
  {
   "cell_type": "code",
   "execution_count": 3,
   "metadata": {},
   "outputs": [],
   "source": [
    "# some optimizations from https://www.kaggle.com/szelee/how-to-import-a-csv-file-of-55-million-rows\n",
    "# other approach would be to use dask http://docs.dask.org/en/latest/dataframe.html\n",
    "\n",
    "def read_train_in_chunks(chunk_size=1000000):\n",
    "    FILE_PATH = './homework1_data/train.csv'\n",
    "    \n",
    "    column_types = {\n",
    "        'fare_amount': 'float32',\n",
    "        'pickup_datetime': 'str',\n",
    "        'pickup_longitude': 'float32',\n",
    "        'pickup_latitude': 'float32',\n",
    "        'dropoff_longitude': 'float32',\n",
    "        'dropoff_latitude': 'float32',\n",
    "        'passenger_count': 'uint8'\n",
    "    }\n",
    "\n",
    "    return pd.read_csv(\n",
    "        FILE_PATH,\n",
    "        usecols=list(column_types.keys()),\n",
    "        dtype=column_types,\n",
    "        chunksize=chunk_size\n",
    "    )"
   ]
  },
  {
   "cell_type": "code",
   "execution_count": 36,
   "metadata": {},
   "outputs": [
    {
     "name": "stderr",
     "output_type": "stream",
     "text": [
      "\n",
      "0it [00:00, ?it/s]\u001b[A\n",
      "1it [00:29, 29.45s/it]\u001b[A\n",
      "2it [00:58, 29.29s/it]\u001b[A\n",
      "3it [01:26, 28.91s/it]\u001b[A\n",
      "4it [01:54, 28.66s/it]\u001b[A\n",
      "5it [02:23, 28.78s/it]\u001b[A\n",
      "6it [02:54, 29.38s/it]\u001b[A\n",
      "7it [03:24, 29.60s/it]\u001b[A\n",
      "8it [03:51, 28.98s/it]\u001b[A\n",
      "9it [04:18, 28.25s/it]\u001b[A\n",
      "10it [04:45, 28.00s/it]\u001b[A\n",
      "11it [05:12, 27.53s/it]\u001b[A\n",
      "12it [05:39, 27.30s/it]\u001b[A\n",
      "13it [06:05, 27.01s/it]\u001b[A\n",
      "14it [06:33, 27.35s/it]\u001b[A\n",
      "15it [07:01, 27.65s/it]\u001b[A\n",
      "16it [07:29, 27.54s/it]\u001b[A\n",
      "17it [07:55, 27.24s/it]\u001b[A\n",
      "18it [08:24, 27.64s/it]\u001b[A\n",
      "19it [08:51, 27.56s/it]\u001b[A\n",
      "20it [09:18, 27.44s/it]\u001b[A\n",
      "21it [09:46, 27.57s/it]\u001b[A\n",
      "22it [10:16, 28.14s/it]\u001b[A\n",
      "23it [10:44, 28.12s/it]\u001b[A\n",
      "24it [11:11, 27.99s/it]\u001b[A\n",
      "25it [11:38, 27.64s/it]\u001b[A\n",
      "26it [12:05, 27.28s/it]\u001b[A\n",
      "27it [12:31, 27.06s/it]\u001b[A\n",
      "28it [12:58, 26.85s/it]\u001b[A\n",
      "29it [13:25, 26.93s/it]\u001b[A\n",
      "30it [13:51, 26.71s/it]\u001b[A\n",
      "31it [14:19, 26.97s/it]\u001b[A\n",
      "32it [14:48, 27.63s/it]\u001b[A\n",
      "33it [15:15, 27.52s/it]\u001b[A\n",
      "34it [15:43, 27.58s/it]\u001b[A\n",
      "35it [16:11, 27.92s/it]\u001b[A\n",
      "36it [16:39, 27.82s/it]\u001b[A\n",
      "37it [17:06, 27.62s/it]\u001b[A\n",
      "38it [17:32, 27.20s/it]\u001b[A\n",
      "39it [18:02, 27.94s/it]\u001b[A\n",
      "40it [18:30, 27.85s/it]\u001b[A\n",
      "41it [18:57, 27.62s/it]\u001b[A\n",
      "42it [19:26, 28.26s/it]\u001b[A\n",
      "43it [19:57, 28.89s/it]\u001b[A\n",
      "44it [20:28, 29.69s/it]\u001b[A\n",
      "45it [20:56, 29.06s/it]\u001b[A\n",
      "46it [21:22, 28.24s/it]\u001b[A\n",
      "47it [21:48, 27.52s/it]\u001b[A\n",
      "48it [22:14, 27.04s/it]\u001b[A\n",
      "49it [22:40, 26.85s/it]\u001b[A\n",
      "50it [23:08, 26.95s/it]\u001b[A\n",
      "51it [23:35, 26.94s/it]\u001b[A\n",
      "52it [24:01, 26.80s/it]\u001b[A\n",
      "53it [24:27, 26.52s/it]\u001b[A\n",
      "54it [24:53, 26.42s/it]\u001b[A\n",
      "55it [25:19, 26.28s/it]\u001b[A\n",
      "56it [25:30, 21.68s/it]\u001b[A"
     ]
    }
   ],
   "source": [
    "for df in tqdm(read_train_in_chunks()):\n",
    "    execute_values(cursor, insert, df.values)\n",
    "    connection.commit()"
   ]
  },
  {
   "cell_type": "code",
   "execution_count": 37,
   "metadata": {},
   "outputs": [
    {
     "data": {
      "text/plain": [
       "(55423856,)"
      ]
     },
     "execution_count": 37,
     "metadata": {},
     "output_type": "execute_result"
    }
   ],
   "source": [
    "cursor.execute('select count(*) from train')\n",
    "cursor.fetchone()"
   ]
  },
  {
   "cell_type": "code",
   "execution_count": null,
   "metadata": {},
   "outputs": [],
   "source": []
  }
 ],
 "metadata": {
  "kernelspec": {
   "display_name": "Python 3",
   "language": "python",
   "name": "python3"
  },
  "language_info": {
   "codemirror_mode": {
    "name": "ipython",
    "version": 3
   },
   "file_extension": ".py",
   "mimetype": "text/x-python",
   "name": "python",
   "nbconvert_exporter": "python",
   "pygments_lexer": "ipython3",
   "version": "3.6.7"
  }
 },
 "nbformat": 4,
 "nbformat_minor": 2
}
