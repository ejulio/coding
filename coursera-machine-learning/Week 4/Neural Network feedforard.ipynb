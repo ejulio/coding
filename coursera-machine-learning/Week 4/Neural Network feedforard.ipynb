{
 "cells": [
  {
   "cell_type": "code",
   "execution_count": 1,
   "metadata": {
    "collapsed": true
   },
   "outputs": [],
   "source": [
    "from scipy.io import loadmat\n",
    "import numpy as np"
   ]
  },
  {
   "cell_type": "code",
   "execution_count": 40,
   "metadata": {
    "collapsed": false
   },
   "outputs": [
    {
     "name": "stdout",
     "output_type": "stream",
     "text": [
      "dict_keys(['Theta1', '__header__', '__globals__', '__version__', 'Theta2'])\n"
     ]
    }
   ],
   "source": [
    "# load weights\n",
    "mat = loadmat('ex3weights.mat')\n",
    "theta1 = mat['Theta1']\n",
    "theta2 = mat['Theta2']"
   ]
  },
  {
   "cell_type": "code",
   "execution_count": 84,
   "metadata": {
    "collapsed": true
   },
   "outputs": [],
   "source": [
    "#load images, labels\n",
    "mat = loadmat('ex3data1.mat')\n",
    "raw_X = mat['X']\n",
    "raw_y = mat['y']\n",
    "\n",
    "X = raw_X.copy()\n",
    "y = raw_y.copy()\n",
    "\n",
    "bias = np.ones((X.shape[0], 1))\n",
    "X = np.hstack([bias, X])"
   ]
  },
  {
   "cell_type": "code",
   "execution_count": 85,
   "metadata": {
    "collapsed": true
   },
   "outputs": [],
   "source": [
    "def sigmoid(z):\n",
    "    return 1.0 / (1 + np.exp(-z))\n",
    "\n",
    "g = sigmoid"
   ]
  },
  {
   "cell_type": "code",
   "execution_count": 99,
   "metadata": {
    "collapsed": false
   },
   "outputs": [
    {
     "name": "stdout",
     "output_type": "stream",
     "text": [
      "(5000, 401) (5000, 1) (25, 401) (10, 26)\n"
     ]
    }
   ],
   "source": [
    "print(X.shape, y.shape, theta1.shape, theta2.shape)"
   ]
  },
  {
   "cell_type": "code",
   "execution_count": 100,
   "metadata": {
    "collapsed": true
   },
   "outputs": [],
   "source": [
    "# transpose\n",
    "a1 = X.T\n",
    "\n",
    "# compute layer 2\n",
    "z2 = theta1.dot(a1)\n",
    "a2 = g(z2)\n",
    "# add bias term\n",
    "a2 = np.vstack([np.ones((1, a2.shape[1])), a2])\n",
    "\n",
    "# compute layer 3\n",
    "z3 = theta2.dot(a2)\n",
    "a3 = g(z3)"
   ]
  },
  {
   "cell_type": "code",
   "execution_count": 105,
   "metadata": {
    "collapsed": false
   },
   "outputs": [
    {
     "name": "stdout",
     "output_type": "stream",
     "text": [
      "Accuracy 0.975\n"
     ]
    }
   ],
   "source": [
    "predictions = a3.T\n",
    "m = predictions.shape[0]\n",
    "\n",
    "y_hat = (np.argmax(predictions, axis=1) + 1) % 10\n",
    "correct = [a == b for (a, b) in zip(y[:, 0], y_hat)]\n",
    "correct = float(sum(correct))\n",
    "print('Accuracy {:.3f}'.format(correct / m))"
   ]
  }
 ],
 "metadata": {
  "kernelspec": {
   "display_name": "Python 3",
   "language": "python",
   "name": "python3"
  },
  "language_info": {
   "codemirror_mode": {
    "name": "ipython",
    "version": 3
   },
   "file_extension": ".py",
   "mimetype": "text/x-python",
   "name": "python",
   "nbconvert_exporter": "python",
   "pygments_lexer": "ipython3",
   "version": "3.5.2"
  }
 },
 "nbformat": 4,
 "nbformat_minor": 2
}
