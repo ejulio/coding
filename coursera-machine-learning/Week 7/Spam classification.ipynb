{
 "cells": [
  {
   "cell_type": "code",
   "execution_count": 59,
   "metadata": {
    "collapsed": false
   },
   "outputs": [],
   "source": [
    "from nltk import word_tokenize\n",
    "from nltk.stem.porter import PorterStemmer\n",
    "import re\n",
    "import numpy as np\n",
    "from scipy.io import loadmat\n",
    "import numpy as np\n",
    "from sklearn.svm import LinearSVC, SVC"
   ]
  },
  {
   "cell_type": "code",
   "execution_count": 40,
   "metadata": {
    "collapsed": false
   },
   "outputs": [],
   "source": [
    "html_regex = re.compile('<[^<>]+>')\n",
    "numbers_regex = re.compile('[0-9]+')\n",
    "urls_regex = re.compile('(http|https)://[^\\s]*')\n",
    "emails_regex = re.compile('[^\\s]+@[^\\s]+')\n",
    "money_regex = re.compile('[$]+')\n",
    "non_alpha_numeric_regex = re.compile('[^a-zA-Z0-9]')\n",
    "stemmer = PorterStemmer()\n",
    "\n",
    "def process_email(text):\n",
    "    text = text.lower()\n",
    "    text = html_regex.sub(' ', text)\n",
    "    text = numbers_regex.sub('number', text)\n",
    "    text = urls_regex.sub('httpaddr', text)\n",
    "    text = emails_regex.sub('emailaddr', text)\n",
    "    text = money_regex.sub('dollar', text)\n",
    "    \n",
    "    tokens = word_tokenize(text)\n",
    "    tokens = [non_alpha_numeric_regex.sub('', t) for t in tokens]\n",
    "    tokens = [stemmer.stem(t) for t in tokens]\n",
    "    \n",
    "    return tokens"
   ]
  },
  {
   "cell_type": "code",
   "execution_count": 44,
   "metadata": {
    "collapsed": false
   },
   "outputs": [
    {
     "name": "stdout",
     "output_type": "stream",
     "text": [
      "anyon\n",
      "do you want to make dollarnumb or more per week  if you are a motiv and qualifi individu  i will person demonstr to you a system that will make you dollarnumb  number per week or more  thi is not mlm  call our number hour prerecord number to get the detail  numbernumbernumb i need peopl who want to make seriou money  make the call and get the fact  invest number minut in yourself now  numbernumbernumb look forward to your call and i will introduc you to peopl like yourself who are current make dollarnumb  number plu per week  numbernumbernumb numberljgvnumbernumberleannumberlrmsnumbernumberwxhonumberqiytnumbernumberrjuvnumberhqcfnumbernumbereidbnumberdmtvlnumb\n",
      "\n",
      "## ## ## ## ##\n",
      "\n",
      "best buy viagra gener onlin viagra numbermg x number pill dollarnumb  free pill  reorder discount  top sell number  qualiti  satisfact guarante  we accept visa  master  echeck payment  number satisfi custom  httpaddr\n"
     ]
    }
   ],
   "source": [
    "print(stemmer.stem('anyone'))\n",
    "\n",
    "with open('spamSample1.txt', 'r') as f:\n",
    "    content = f.read()\n",
    "\n",
    "print(' '.join(process_email(content)))\n",
    "\n",
    "print('')\n",
    "print('## ## ## ## ##')\n",
    "print('')\n",
    "\n",
    "with open('spamSample2.txt', 'r') as f:\n",
    "    content = f.read()\n",
    "    \n",
    "print(' '.join(process_email(content)))"
   ]
  },
  {
   "cell_type": "code",
   "execution_count": 43,
   "metadata": {
    "collapsed": false
   },
   "outputs": [
    {
     "name": "stdout",
     "output_type": "stream",
     "text": [
      "{'archiv': 104, 'press': 1294, 'english': 545, 'instanc': 848, 'done': 482, 'ultim': 1743, 'gnu': 716, 'remov': 1398, 'trust': 1733, 'urgent': 1764, 'pudg': 1339, 'wait': 1805, 'five': 654, 'patch': 1222, 'artist': 115, 'pc': 1228, 'ensur': 549, 'pictur': 1250, 'plan': 1258, 'their': 1668, 'declin': 415, 'auto': 136, 'space': 1558, 'king': 913, 'ascii': 117, 'numberth': 1152, 'blog': 190, 'impress': 823, 'bb': 159, 'aug': 133, 'access': 11, 'size': 1526, 'much': 1077, 'xp': 1885, 'seven': 1496, 'histori': 784, 'diet': 451, 'warranti': 1813, 'similar': 1516, 'even': 571, 'confus': 343, 'anyon': 86, 'brand': 210, 'anywai': 88, 'futur': 698, 'eat': 509, 'wealth': 1820, 'advanc': 28, 'land': 921, 'outsid': 1195, 'ca': 229, 'aol': 90, 'speech': 1569, 'reg': 1383, 'attornei': 130, 'member': 1025, 'wai': 1804, 'gcc': 705, 'loss': 978, 'comput': 330, 'differ': 452, 'spend': 1571, 'rest': 1414, 'repres': 1403, 'el': 526, 'know': 916, 'awar': 143, 'by': 227, 'code': 305, 'wake': 1806, 'bank': 153, 'york': 1892, 'world': 1871, 'deserv': 435, 'involv': 873, 'fit': 653, 'list': 961, 'pop': 1274, 'regist': 1386, 'link': 959, 'parti': 1213, 'button': 226, 'just': 902, 'posit': 1278, 'approach': 100, 'interfac': 861, 'mani': 1002, 'live': 964, 'offer': 1164, 'uk': 1742, 'behind': 172, 'speed': 1570, 'opinion': 1177, 'percentag': 1233, 'star': 1583, 'show': 1511, 'court': 377, 'justin': 903, 'hand': 748, 'ticket': 1692, 'support': 1623, 'difficult': 453, 'continu': 355, 'arial': 108, 'hack': 744, 'sort': 1554, 'fund': 696, 'optim': 1180, 'panel': 1208, 'her': 773, 'mistak': 1050, 'invest': 869, 'cabl': 230, 'to': 1699, 'nation': 1087, 'both': 204, 'pai': 1204, 'mile': 1040, 'someth': 1547, 'sum': 1617, 'pass': 1219, 'target': 1640, 'classifi': 294, 'take': 1636, 'whatev': 1836, 'civil': 291, 'mean': 1019, 'flag': 656, 'staff': 1579, 'custom': 388, 'expect': 592, 'name': 1086, 'fat': 620, 'signatur': 1514, 'displai': 465, 'new': 1099, 'come': 311, 'technolog': 1648, 'ireland': 875, 'usdollarnumb': 1771, 'reason': 1372, 'easili': 508, 'summer': 1619, 'weblog': 1823, 'were': 1833, 'letter': 948, 'expir': 596, 'america': 66, 'log': 973, 'releas': 1392, 'final': 643, 'connect': 345, 'snumber': 1537, 'inform': 840, 'univers': 1751, 'jame': 887, 'de': 405, 'ftoc': 690, 'white': 1842, 'well': 1831, 'clear': 296, 'numberctd': 1133, 'remot': 1397, 'most': 1067, 'guarante': 739, 'zero': 1898, 'profil': 1317, 'port': 1277, 'master': 1012, 'nextpart': 1102, 'procedur': 1310, 'lock': 971, 'task': 1641, 'descript': 434, 'though': 1682, 'bf': 180, 'jim': 889, 'small': 1533, 'pain': 1206, 'cross': 385, 'across': 16, 'insert': 845, 'never': 1098, 'binari': 185, 'copi': 364, 'european': 570, 'produc': 1314, 'known': 918, 'should': 1510, 'check': 280, 'prevent': 1296, 'sign': 1513, 'deliveri': 426, 'encourag': 539, 'stream': 1597, 'dark': 397, 'discount': 460, 'iso': 880, 'unit': 1750, 'focu': 660, 'cnet': 302, 'player': 1263, 'role': 1430, 'busi': 224, 'numberpx': 1150, 'feel': 631, 'bin': 184, 'investor': 871, 'award': 144, 'competit': 326, 'lower': 983, 'agent': 44, 'print': 1301, 'integr': 855, 'respond': 1412, 'stock': 1591, 'san': 1448, 'pub': 1336, 'path': 1224, 'rel': 1389, 'gift': 710, 'dure': 496, 'act': 17, 'like': 956, 'collect': 306, 'util': 1776, 'express': 599, 'noth': 1115, 'kingdom': 914, 'incom': 828, 'choos': 287, 'attempt': 128, 'medic': 1023, 'dial': 448, 'an': 71, 'wasn': 1815, 'china': 284, 'garrigu': 703, 'ever': 574, 'grant': 730, 'understand': 1746, 'toward': 1715, 'vs': 1801, 'mayb': 1017, 'same': 1446, 'asset': 119, 'match': 1013, 'vnumber': 1798, 'modem': 1054, 'site': 1523, 'softwar': 1541, 'lifetim': 954, 'am': 64, 'amp': 70, 'valuabl': 1780, 'ag': 40, 'faster': 618, 'particular': 1215, 'ce': 260, 'daili': 394, 'aid': 48, 'variabl': 1782, 'around': 110, 'user': 1773, 'profession': 1316, 'citi': 289, 'mike': 1039, 'next': 1101, 'paragraph': 1210, 'avoid': 141, 'up': 1760, 'cell': 261, 'did': 449, 'question': 1349, 'els': 529, 'af': 34, 'process': 1311, 'atol': 125, 'conflict': 342, 'too': 1708, 'kei': 905, 'off': 1163, 'blank': 188, 'expand': 591, 'wouldn': 1877, 'plu': 1265, 'promis': 1323, 'byte': 228, 'decor': 416, 'level': 949, 'appear': 95, 'canon': 241, 'cover': 378, 'sa': 1441, 'famili': 614, 'token': 1702, 'desir': 437, 'get': 708, 'franc': 680, 'phone': 1244, 'journal': 895, 'itself': 885, 'major': 996, 'gt': 738, 'suse': 1627, 'numberdari': 1135, 'membership': 1026, 'analysi': 72, 'washington': 1814, 'hit': 785, 'charact': 275, 'ey': 605, 'product': 1315, 'transfer': 1722, 'mostli': 1068, 'terrorist': 1659, 'prefer': 1289, 'befor': 168, 'seminar': 1476, 'system': 1631, 'honor': 788, 'amount': 69, 'my': 1084, 'them': 1669, 'earli': 502, 'extend': 600, 'doubt': 485, 'resid': 1409, 'regular': 1388, 'earth': 505, 'degre': 422, 'whether': 1839, 'first': 652, 'without': 1862, 'red': 1378, 'principl': 1300, 'ebai': 511, 'numberf': 1138, 'minimum': 1047, 'sep': 1484, 'obvious': 1158, 'centuri': 265, 'you': 1893, 'instead': 850, 'dream': 490, 'worst': 1874, 'three': 1687, 'lt': 985, 'bar': 154, 'cd': 259, 'tool': 1710, 'fee': 628, 'written': 1879, 'tire': 1696, 'msg': 1076, 'ban': 152, 'pacif': 1200, 'canada': 239, 'folk': 662, 'initi': 841, 'contact': 352, 'time': 1694, 'worker': 1870, 'dead': 406, 'back': 147, 'drive': 491, 'usb': 1769, 'oct': 1160, 'programm': 1320, 'educ': 520, 'statement': 1586, 'se': 1461, 'determin': 442, 'longer': 975, 'dagga': 392, 'version': 1790, 'enough': 548, 'toll': 1704, 'abov': 6, 'trial': 1727, 'about': 5, 'numberenumb': 1137, 'warm': 1811, 'kevin': 908, 'what': 1835, 'keyboard': 909, 'ximian': 1883, 'michael': 1035, 'easi': 506, 'but': 225, 'fun': 694, 'gnome': 715, 'marshal': 1010, 'ani': 75, 'amaz': 65, 'oper': 1176, 'window': 1855, 'gone': 723, 'beberg': 164, 'newslett': 1100, 'have': 756, 'be': 162, 'dvd': 497, 'creativ': 382, 'paul': 1226, 'flash': 657, 'confid': 337, 'hardwar': 753, 'previou': 1297, 'choic': 286, 'whitelist': 1843, 'laptop': 923, 'wnumberp': 1863, 'seed': 1469, 'spammer': 1563, 'gain': 700, 'kernel': 907, 'quarter': 1348, 'usd': 1770, 'sensit': 1482, 'year': 1889, 'among': 68, 'lender': 943, 'boi': 196, 'numberffont': 1141, 'confirm': 341, 'boss': 201, 'numberk': 1144, 'water': 1818, 'potenti': 1281, 'weight': 1829, 'afford': 37, 'progress': 1321, 'repositori': 1402, 'dai': 393, 'ibm': 803, 'bring': 213, 'vacat': 1777, 'job': 891, 'particip': 1214, 'tell': 1652, 'me': 1018, 'bill': 182, 'achiev': 14, 'toner': 1706, 'librari': 951, 'ha': 743, 'speak': 1564, 'rememb': 1396, 'women': 1865, 'photo': 1245, 'telephon': 1651, 'forget': 670, 'term': 1656, 'sit': 1522, 'took': 1709, 'switch': 1630, 'razornumb': 1363, 'chanc': 271, 'proxi': 1335, 'part': 1212, 'few': 633, 'within': 1861, 'graphic': 731, 'powershot': 1285, 'thought': 1683, 'yahoo': 1886, 'box': 208, 'announc': 77, 'rais': 1356, 'as': 116, 'result': 1415, 'guid': 742, 'botan': 203, 'style': 1606, 'touch': 1714, 'enhanc': 546, 'return': 1417, 'art': 113, 'sampl': 1447, 'investig': 870, 'todai': 1700, 'tm': 1698, 'exchang': 584, 'meet': 1024, 'alb': 51, 'let': 947, 'popular': 1276, 'gpl': 728, 'absolut': 7, 'reliabl': 1394, 'random': 1357, 'two': 1740, 'pretti': 1295, 'compet': 325, 'channel': 273, 'despit': 439, 'war': 1810, 'highlight': 782, 'light': 955, 'would': 1876, 'ti': 1691, 'incred': 830, 'ie': 809, 'score': 1458, 'god': 720, 'intellig': 857, 'insid': 846, 'tag': 1635, 'dont': 483, 'along': 57, 'market': 1009, 'room': 1434, 'revok': 1422, 'begin': 169, 'goe': 721, 'step': 1588, 'wednesdai': 1826, 'unfortun': 1747, 'see': 1468, 'error': 560, 'numbercli': 1130, 'becom': 166, 'purchas': 1341, 'of': 1162, 'trade': 1717, 'numberdnumb': 1136, 'handl': 749, 'php': 1246, 'free': 681, 'steve': 1589, 'palm': 1207, 'right': 1425, 'avail': 139, 'is': 877, 'cb': 257, 'independ': 832, 'variou': 1784, 'employ': 534, 'young': 1894, 'manufactur': 1004, 'crash': 380, 'state': 1585, 'activ': 19, 'password': 1220, 'train': 1720, 'via': 1791, 'oz': 1199, 'quick': 1350, 'ec': 512, 'anywher': 89, 'wish': 1859, 'spamassassin': 1561, 'anoth': 80, 'freedom': 682, 'instal': 847, 'topic': 1712, 'strong': 1601, 'team': 1644, 'commun': 320, 'schedul': 1455, 'sweet': 1629, 'effect': 522, 'numberam': 1122, 'domain': 480, 'california': 233, 'gif': 709, 'verifi': 1789, 'project': 1322, 'low': 982, 'game': 701, 'apolog': 92, 'accord': 12, 'enter': 550, 'lib': 950, 'behalf': 170, 'capabl': 242, 'appli': 97, 'payment': 1227, 'discov': 461, 'said': 1444, 'super': 1621, 'suffer': 1614, 'zdnet': 1897, 'theori': 1672, 'numberpm': 1149, 'notic': 1116, 'vendor': 1786, 'again': 41, 'screen': 1459, 'dynam': 499, 'option': 1181, 'iii': 813, 'thank': 1664, 'couldn': 372, 'quickli': 1351, 'popul': 1275, 'from': 688, 'firewal': 650, 'success': 1612, 'each': 501, 'monthli': 1063, 'son': 1549, 'countri': 374, 'secret': 1465, 'sequenc': 1487, 'tuesdai': 1737, 'intern': 862, 'numbermb': 1146, 'capit': 244, 'through': 1688, 'sex': 1499, 'dave': 402, 'microsoft': 1036, 'altern': 61, 'thing': 1677, 'charg': 276, 'printer': 1303, 'cost': 370, 'permiss': 1241, 'prospect': 1329, 'type': 1741, 'favorit': 622, 'grow': 736, 'due': 495, 'oh': 1168, 'parent': 1211, 'forward': 676, 'server': 1492, 'expens': 593, 'everyon': 576, 'redhat': 1379, 'brain': 209, 'there': 1673, 'pattern': 1225, 'wide': 1849, 'import': 822, 'approv': 101, 'ip': 874, 'listen': 962, 'health': 762, 'under': 1745, 'win': 1854, 'william': 1853, 'note': 1114, 'wife': 1851, 'fax': 623, 'model': 1053, 'annual': 78, 'os': 1187, 'font': 664, 'probabl': 1308, 'measur': 1020, 'enenkio': 542, 'answer': 81, 'advantag': 29, 'expert': 595, 'sincer': 1520, 'certainli': 268, 'exclus': 586, 'who': 1844, 'partner': 1218, 'guess': 740, 'togeth': 1701, 'fd': 625, 'no': 1106, 'advic': 31, 'onlin': 1174, 'put': 1343, 'numberbit': 1125, 'constitut': 348, 'present': 1292, 'digit': 454, 'behavior': 171, 'protocol': 1331, 'rather': 1360, 'subscript': 1610, 'fridai': 686, 'more': 1064, 'line': 958, 'per': 1231, 'walk': 1807, 'brian': 212, 'indian': 835, 'board': 194, 'analyst': 73, 'move': 1071, 'concern': 333, 'thu': 1689, 'for': 666, 'partit': 1217, 'servic': 1493, 'doubl': 484, 'fb': 624, 'identifi': 807, 'latest': 931, 'normal': 1111, 'fact': 608, 'man': 1000, 'south': 1557, 'cartridg': 250, 'cheap': 279, 'document': 473, 'updat': 1761, 'million': 1042, 'di': 447, 'perform': 1236, 'higher': 780, 'confer': 336, 'locat': 970, 'com': 309, 'main': 994, 'summari': 1618, 'mark': 1008, 'treat': 1724, 'requir': 1406, 'soon': 1552, 'week': 1827, 'intend': 858, 'explain': 597, 'until': 1759, 'download': 487, 'agenc': 43, 'temperatur': 1653, 'polic': 1270, 'law': 933, 'ba': 145, 'devic': 446, 'tim': 1693, 'monitor': 1061, 'develop': 445, 'kind': 912, 'ac': 9, 'front': 689, 'matter': 1015, 'loan': 968, 'yeah': 1888, 'depend': 431, 'individu': 837, 'perl': 1239, 'extra': 602, 'numberp': 1147, 'trip': 1729, 'fals': 613, 'ham': 747, 'multipl': 1080, 'ad': 21, 'vote': 1800, 'adam': 22, 'al': 50, 'true': 1731, 'yourself': 1896, 'he': 758, 'receiv': 1373, 'enemi': 541, 'design': 436, 'reserv': 1408, 'equal': 557, 'appar': 94, 'beat': 163, 'evid': 578, 'least': 939, 'string': 1599, 'mass': 1011, 'valid': 1778, 'articl': 114, 'we': 1819, 'section': 1466, 'nigeria': 1104, 'sinc': 1519, 'unless': 1753, 'care': 247, 'when': 1837, 'although': 62, 'editor': 519, 'merchant': 1031, 'config': 339, 'dell': 427, 'proprietari': 1328, 'cultur': 386, 'radio': 1354, 'other': 1189, 'map': 1005, 'comment': 314, 'our': 1191, 'templ': 1654, 'browser': 216, 'morn': 1065, 'submit': 1608, 'modifi': 1055, 'numberx': 1154, 'joe': 892, 'otherwis': 1190, 'privat': 1305, 'extrem': 604, 'and': 74, 'lose': 977, 'some': 1545, 'center': 263, 'anti': 82, 'round': 1436, 'shop': 1507, 'stori': 1595, 'technic': 1646, 'fortun': 675, 'less': 945, 'research': 1407, 'pro': 1307, 'plug': 1266, 'total': 1713, 'folder': 661, 'suit': 1616, 'host': 790, 'increas': 829, 'keep': 904, 'comfort': 312, 'pre': 1287, 'privaci': 1304, 'made': 989, 'hei': 767, 'bottom': 206, 'end': 540, 'big': 181, 'ae': 33, 'than': 1663, 'institut': 851, 'suppli': 1622, 'agre': 46, 'offic': 1165, 'processor': 1312, 'worldwid': 1872, 'emailaddr': 531, 'replac': 1399, 'pick': 1249, 'foreign': 668, 'desktop': 438, 'coverag': 379, 'pound': 1282, 'adult': 27, 'construct': 349, 'feedback': 630, 'spain': 1559, 'network': 1097, 'cnumber': 303, 'given': 713, 'procmail': 1313, 'later': 930, 'island': 878, 'occur': 1159, 'ma': 986, 'mention': 1029, 'implement': 821, 'perfectli': 1235, 'manual': 1003, 'six': 1525, 'numbercp': 1132, 'hettinga': 777, 'intel': 856, 'weekli': 1828, 'alon': 56, 'visa': 1795, 'chri': 288, 'sever': 1498, 'wa': 1803, 'mime': 1043, 'gari': 702, 'drop': 493, 'distribut': 468, 'propos': 1327, 'compat': 324, 'govern': 727, 'repli': 1400, 'fix': 655, 'texa': 1661, 'skeptic': 1527, 'shell': 1505, 'forev': 669, 'went': 1832, 'httpaddr': 799, 'draw': 489, 'aren': 106, 'virtual': 1794, 'planta': 1261, 'tabl': 1633, 'maintain': 995, 'sell': 1475, 'regard': 1384, 'matthia': 1016, 'extract': 603, 'seem': 1471, 'numberanumb': 1123, 'juli': 899, 'upgrad': 1762, 'stabl': 1578, 'piec': 1251, 'regul': 1387, 'lead': 936, 'fall': 612, 'web': 1822, 'interest': 860, 'unlik': 1754, 'mac': 987, 're': 1364, 'skip': 1530, 'feed': 629, 'paper': 1209, 'dn': 469, 'irish': 876, 'sai': 1443, 'build': 219, 'sender': 1478, 'close': 300, 'minut': 1048, 'won': 1866, 'on': 1171, 'ground': 734, 'spec': 1565, 'serv': 1491, 'larg': 924, 'subscrib': 1609, 'finish': 648, 'ffnumber': 635, 'car': 245, 'charset': 277, 'numberst': 1151, 'pipe': 1253, 'huge': 800, 'tv': 1739, 'cooper': 363, 'estim': 565, 'unsolicit': 1757, 'caus': 256, 'substanti': 1611, 'numbercbr': 1128, 'width': 1850, 'telecom': 1650, 'break': 211, 'into': 865, 'suggest': 1615, 'clearli': 297, 'calcul': 232, 'launch': 932, 'sound': 1555, 'fine': 647, 'so': 1538, 'here': 775, 'invok': 872, 'far': 616, 'leader': 937, 'standard': 1582, 'kid': 910, 'talk': 1638, 'ok': 1169, 'gnupg': 717, 'numbertnumb': 1153, 'dollarnumb': 479, 'laser': 927, 'control': 358, 'david': 403, 'structur': 1602, 'fulli': 693, 'header': 760, 'benefit': 175, 'organ': 1185, 'www': 1882, 'netscap': 1096, 'flow': 658, 'alwai': 63, 'do': 471, 'thi': 1676, 'class': 293, 'societi': 1540, 'set': 1494, 'person': 1242, 'attent': 129, 'not': 1113, 'numberm': 1145, 'possibl': 1279, 'hope': 789, 'prove': 1332, 'democrat': 429, 'short': 1508, 'air': 49, 'hello': 770, 'sleep': 1531, 'chief': 282, 'hold': 786, 'backup': 149, 'smart': 1534, 'purpos': 1342, 'larger': 925, 'categori': 255, 'exist': 589, 'wireless': 1858, 'work': 1869, 'often': 1167, 'address': 25, 'tablet': 1634, 'head': 759, 'report': 1401, 'tri': 1726, 'termin': 1657, 'python': 1344, 'cach': 231, 'stuff': 1604, 'enabl': 537, 'apt': 102, 'cash': 252, 'traffic': 1719, 'power': 1284, 'problem': 1309, 'arm': 109, 'worth': 1875, 'real': 1369, 'mpnumber': 1073, 'basi': 157, 'card': 246, 'websit': 1824, 'plain': 1257, 'usag': 1768, 'edg': 517, 'the': 1666, 'french': 683, 'cc': 258, 'scan': 1454, 'jnumberiiiiiiihepihepihf': 890, 'robert': 1428, 'dc': 404, 'presid': 1293, 'effici': 523, 'techniqu': 1647, 'delai': 423, 'ask': 118, 'addit': 24, 'howev': 795, 'http': 798, 'exactli': 580, 'attach': 126, 'with': 1860, 'default': 417, 'eb': 510, 'file': 639, 'phrase': 1247, 'input': 844, 'director': 457, 'hear': 763, 'thousand': 1684, 'ident': 806, 'open': 1175, 'self': 1474, 'storag': 1593, 'camera': 236, 'roll': 1431, 'don': 481, 'driver': 492, 'stupid': 1605, 'conf': 335, 'solut': 1543, 'un': 1744, 'separ': 1485, 'environ': 556, 'numberpd': 1148, 'includ': 827, 'everi': 575, 'plai': 1256, 'season': 1463, 'commentari': 315, 'anyth': 87, 'broadcast': 214, 'text': 1662, 'burn': 222, 'action': 18, 'multipart': 1079, 'confidenti': 338, 'learn': 938, 'life': 953, 'bush': 223, 'dw': 498, 'men': 1028, 'machin': 988, 'soni': 1551, 'miss': 1049, 'definit': 421, 'compar': 322, 'reveal': 1418, 'upon': 1763, 'suspect': 1628, 'opportun': 1178, 'bnumber': 193, 'if': 810, 'opt': 1179, 'bad': 150, 'helvetica': 772, 'packag': 1202, 'autom': 137, 'argument': 107, 'advis': 32, 'broker': 215, 'skin': 1529, 'africa': 38, 'earlier': 503, 'pocket': 1268, 'fail': 610, 'consolid': 347, 'impact': 820, 'aa': 1, 'indic': 836, 'tax': 1642, 'truli': 1732, 'practic': 1286, 'disposit': 466, 'doesn': 476, 'stand': 1581, 'economi': 515, 'myself': 1085, 'someon': 1546, 'octob': 1161, 'enumb': 555, 'tape': 1639, 'html': 797, 'ship': 1506, 'annuiti': 79, 'direct': 455, 'area': 105, 'im': 816, 'outlook': 1193, 'datapow': 400, 'solv': 1544, 'congress': 344, 'wrote': 1881, 'us': 1766, 'correct': 368, 'left': 941, 'herba': 774, 'tradit': 1718, 'simpli': 1518, 'leav': 940, 'human': 801, 'media': 1022, 'euro': 568, 'fast': 617, 'interview': 864, 'output': 1194, 'which': 1840, 'those': 1681, 'qualiti': 1347, 'color': 308, 'record': 1377, 'find': 646, 'travel': 1723, 'nor': 1110, 'hate': 755, 'disabl': 459, 'directli': 456, 'blood': 191, 'in': 825, 'risk': 1426, 'built': 220, 'click': 298, 'number': 1120, 'saou': 1449, 'ratio': 1361, 'seventh': 1497, 'count': 373, 'et': 566, 'relat': 1390, 'american': 67, 'freshrpm': 684, 'sorri': 1553, 'judgment': 897, 'varieti': 1783, 'further': 697, 'knowledg': 917, 'rang': 1358, 'forc': 667, 'inlin': 842, 'account': 13, 'between': 179, 'roman': 1433, 'attract': 131, 'book': 198, 'valu': 1779, 'seek': 1470, 'need': 1093, 'four': 679, 'former': 674, 'ventur': 1787, 'usa': 1767, 'anybodi': 84, 'whose': 1846, 'decad': 411, 'threat': 1686, 'doc': 472, 'surpris': 1626, 'polici': 1271, 'ga': 699, 'militari': 1041, 'mailer': 993, 'track': 1716, 'stai': 1580, 'rule': 1439, 'nice': 1103, 'perhap': 1237, 'margin': 1007, 'prize': 1306, 'spamd': 1562, 'try': 1735, 'appl': 96, 'extens': 601, 'girl': 711, 'highli': 781, 'realli': 1371, 'anymor': 85, 'commerci': 316, 'paid': 1205, 'request': 1405, 'can': 238, 'whole': 1845, 'road': 1427, 'distanc': 467, 'largest': 926, 'sometim': 1548, 'strip': 1600, 'fastest': 619, 'sale': 1445, 'compani': 321, 'song': 1550, 'video': 1792, 'height': 768, 'seriou': 1490, 'must': 1083, 'faq': 615, 'econom': 514, 'peopl': 1230, 'root': 1435, 'inumb': 868, 'xml': 1884, 'empir': 533, 'anumb': 83, 'eventu': 573, 'spot': 1574, 'heard': 764, 'fnumber': 659, 'configur': 340, 'function': 695, 'date': 401, 'deal': 407, 'bc': 160, 'hot': 791, 'yet': 1891, 'then': 1671, 'reduc': 1380, 'clue': 301, 'second': 1464, 'test': 1660, 'pleas': 1264, 'bui': 218, 'face': 607, 'simpl': 1517, 'seen': 1472, 'pgp': 1243, 'natur': 1088, 'hat': 754, 'geek': 706, 'border': 200, 'lawrenc': 934, 'truth': 1734, 'cut': 389, 'start': 1584, 'explor': 598, 'winner': 1857, 'ffffff': 634, 'love': 981, 'happen': 750, 'complet': 328, 'provid': 1334, 'exmh': 590, 'motiv': 1070, 'good': 724, 'entir': 553, 'convers': 360, 'arrai': 111, 'premium': 1290, 'delet': 424, 'came': 235, 'isp': 881, 'introduc': 867, 'add': 23, 'central': 264, 'lack': 920, 'imag': 817, 'senior': 1480, 'mon': 1058, 'idea': 805, 'visual': 1797, 'magazin': 990, 'compil': 327, 'friend': 687, 'combin': 310, 'growth': 737, 'teach': 1643, 'weapon': 1821, 'figur': 638, 'make': 997, 'help': 771, 'allow': 54, 'fight': 637, 'go': 718, 'specifi': 1568, 'terror': 1658, 'therefor': 1674, 'catch': 254, 'smtp': 1536, 'isn': 879, 'june': 901, 'unix': 1752, 'current': 387, 'innov': 843, 'filter': 642, 'judg': 896, 'intro': 866, 'look': 976, 'down': 486, 'advertis': 30, 'drug': 494, 'career': 248, 'energi': 543, 'll': 965, 'toni': 1707, 'boundari': 207, 'detect': 441, 'internet': 863, 'entri': 554, 'depart': 430, 'emerg': 532, 'earn': 504, 'happi': 751, 'bit': 186, 'femal': 632, 'sport': 1573, 'all': 53, 'align': 52, 'elimin': 528, 'danger': 396, 'instant': 849, 'critic': 384, 'inde': 831, 'better': 178, 'select': 1473, 'specif': 1567, 'becaus': 165, 'read': 1366, 'manag': 1001, 'da': 391, 'alsa': 59, 'mode': 1052, 'char': 274, 'social': 1539, 'net': 1095, 'offici': 1166, 'shot': 1509, 'subject': 1607, 'refer': 1381, 'associ': 121, 'osdn': 1188, 'issu': 882, 'top': 1711, 'la': 919, 'correspond': 369, 'safe': 1442, 'gave': 704, 'publish': 1338, 'proven': 1333, 'save': 1452, 'org': 1184, 'skill': 1528, 'tom': 1705, 'sent': 1483, 'defin': 420, 'consult': 350, 'origin': 1186, 'fair': 611, 'visit': 1796, 'wast': 1816, 'detail': 440, 'mechan': 1021, 'prompt': 1325, 'encod': 538, 'featur': 626, 'your': 1895, 'thread': 1685, 'secur': 1467, 'august': 134, 'especi': 561, 'ragga': 1355, 'still': 1590, 'dear': 408, 'client': 299, 'coupl': 375, 'mini': 1046, 'bd': 161, 'owner': 1198, 'databas': 399, 'assur': 123, 'held': 769, 'properti': 1326, 'night': 1105, 'want': 1809, 'comprehens': 329, 'heart': 765, 'id': 804, 'male': 999, 'awai': 142, 'bottl': 205, 'greater': 733, 'citizen': 290, 'recent': 1374, 'dnumber': 470, 'debt': 410, 'discuss': 463, 'below': 174, 'content': 354, 'numberd': 1134, 'word': 1868, 'either': 525, 'unsubscrib': 1758, 'republ': 1404, 'littl': 963, 'refin': 1382, 'particularli': 1216, 'while': 1841, 'write': 1878, 'appreci': 99, 'modul': 1056, 'printabl': 1302, 'public': 1337, 'interact': 859, 'poor': 1273, 'knew': 915, 'sexual': 1500, 'rate': 1359, 'execut': 587, 'realiz': 1370, 'length': 944, 'anim': 76, 'convert': 361, 'situat': 1524, 'planet': 1259, 'object': 1155, 'welcom': 1830, 'eff': 521, 'numberb': 1124, 'employe': 535, 'numbercnumb': 1131, 'transact': 1721, 'cannot': 240, 'st': 1577, 'easier': 507, 'basic': 158, 'bulk': 221, 'illeg': 815, 'mh': 1034, 'recommend': 1376, 'wing': 1856, 'jabber': 886, 'credit': 383, 'directori': 458, 'resourc': 1410, 'devel': 444, 'certain': 267, 'own': 1197, 'linux': 960, 'commit': 318, 'long': 974, 'lo': 966, 'base': 155, 'fire': 649, 'affili': 36, 'lot': 980, 'predict': 1288, 'edit': 518, 'claim': 292, 'respons': 1413, 'spam': 1560, 'dollar': 477, 'search': 1462, 'school': 1456, 'rom': 1432, 'lockergnom': 972, 'deposit': 432, 'nt': 1118, 'had': 745, 'serif': 1489, 'obtain': 1157, 'menu': 1030, 'hour': 792, 'pm': 1267, 'messag': 1032, 'colleg': 307, 'hundr': 802, 'sponsor': 1572, 'woman': 1864, 'wrong': 1880, 'rock': 1429, 'tue': 1736, 'seri': 1488, 'tree': 1725, 'dev': 443, 'mother': 1069, 'abil': 3, 'comparison': 323, 'affect': 35, 'headlin': 761, 'cours': 376, 'out': 1192, 'wi': 1848, 'that': 1665, 'themselv': 1670, 'establish': 563, 'razor': 1362, 'balanc': 151, 'pack': 1201, 'revenu': 1419, 'jul': 898, 'unison': 1749, 'ftp': 691, 'null': 1119, 'multi': 1078, 'copyright': 365, 'excel': 582, 'sure': 1625, 'block': 189, 'industri': 838, 'store': 1594, 'materi': 1014, 'wed': 1825, 'voic': 1799, 'dan': 395, 'exercis': 588, 'numbercb': 1127, 'chat': 278, 'trick': 1728, 'also': 60, 'tab': 1632, 'necessari': 1092, 'java': 888, 'almost': 55, 'hi': 778, 'decid': 412, 'ssh': 1576, 'averag': 140, 'consid': 346, 'declar': 414, 'defend': 418, 'fill': 640, 'capillari': 243, 'review': 1421, 'src': 1575, 'administr': 26, 'engin': 544, 'father': 621, 'insur': 853, 'ea': 500, 'page': 1203, 'at': 124, 'run': 1440, 'conveni': 359, 'mine': 1045, 'such': 1613, 'contract': 356, 'inc': 826, 'bug': 217, 'great': 732, 'oblig': 1156, 'enjoi': 547, 'jump': 900, 'goal': 719, 'usual': 1775, 'mobil': 1051, 'suppos': 1624, 'west': 1834, 'agreement': 47, 'ap': 91, 'rpm': 1437, 'concept': 332, 'home': 787, 'march': 1006, 'qualifi': 1346, 'hermio': 776, 'estat': 564, 'last': 928, 'condit': 334, 'warn': 1812, 'factor': 609, 'or': 1182, 'useless': 1772, 'mail': 992, 'turn': 1738, 'protect': 1330, 'ignor': 811, 'perfect': 1234, 'half': 746, 'rss': 1438, 'var': 1781, 'slow': 1532, 'food': 665, 'troubl': 1730, 'acquir': 15, 'int': 854, 'sun': 1620, 'form': 672, 'sourc': 1556, 'doer': 475, 'googl': 725, 'sendmail': 1479, 'relationship': 1391, 'platform': 1262, 'sold': 1542, 'describ': 433, 'assum': 122, 'north': 1112, 'sf': 1501, 'scienc': 1457, 'why': 1847, 'carri': 249, 'bonu': 197, 'consum': 351, 'ed': 516, 'yesterdai': 1890, 'doe': 474, 'respect': 1411, 'quit': 1352, 'death': 409, 'setup': 1495, 'promot': 1324, 'improv': 824, 'told': 1703, 'reader': 1367, 'common': 319, 'format': 673, 'author': 135, 'mortgag': 1066, 'hard': 752, 'retail': 1416, 'it': 883, 'third': 1680, 'method': 1033, 'qnumber': 1345, 'group': 735, 'share': 1503, 'non': 1108, 'essenti': 562, 'immedi': 819, 'en': 536, 'powel': 1283, 'babi': 146, 'old': 1170, 'legal': 942, 'could': 371, 'follow': 663, 'actual': 20, 'call': 234, 'blue': 192, 'found': 677, 'discoveri': 462, 'view': 1793, 'cent': 262, 'abus': 8, 'mai': 991, 'clean': 295, 'sens': 1481, 'monei': 1060, 'none': 1109, 'field': 636, 'previous': 1298, 'full': 692, 'load': 967, 'creat': 381, 'campaign': 237, 'him': 783, 'heaven': 766, 'wall': 1808, 'feder': 627, 'concentr': 331, 'deliv': 425, 'automat': 138, 'reach': 1365, 'local': 969, 'satellit': 1451, 'etc': 567, 'event': 572, 'basenumb': 156, 'attack': 127, 'singl': 1521, 've': 1785, 'black': 187, 'plant': 1260, 'dollarac': 478, 'believ': 173, 'wonder': 1867, 'maker': 998, 'india': 834, 'ii': 812, 'challeng': 270, 'cv': 390, 'late': 929, 'idnumb': 808, 'thei': 1667, 'street': 1598, 'uniqu': 1748, 'financ': 644, 'chip': 285, 'rh': 1423, 'against': 42, 'demand': 428, 'numberff': 1140, 'didn': 450, 'after': 39, 'email': 530, 'where': 1838, 'onli': 1173, 'children': 283, 'commiss': 317, 'septemb': 1486, 'except': 583, 'music': 1082, 'thursdai': 1690, 'shape': 1502, 'ten': 1655, 'co': 304, 'rich': 1424, 'relev': 1393, 'tip': 1695, 'imagin': 818, 'she': 1504, 'global': 714, 'equip': 558, 'month': 1062, 'statu': 1587, 'nobodi': 1107, 'abl': 4, 'tel': 1649, 'grand': 729, 'thinkgeek': 1679, 'case': 251, 'onc': 1172, 'worri': 1873, 'data': 398, 'neg': 1094, 'send': 1477, 'instruct': 852, 'fork': 671, 'command': 313, 'how': 794, 'entertain': 552, 'stop': 1592, 'core': 366, 'titl': 1697, 'lost': 979, 'iiiiiiihnumberjnumberhnumberjnumberhnumb': 814, 'join': 894, 'middl': 1037, 'firm': 651, 'think': 1678, 'polit': 1272, 'hous': 793, 'haven': 757, 'mr': 1074, 'ab': 2, 'contain': 353, 'excit': 585, 'arriv': 112, 'experi': 594, 'signific': 1515, 'film': 641, 'program': 1319, 'zip': 1899, 'will': 1852, 'kept': 906, 'hp': 796, 'might': 1038, 'evil': 579, 'defens': 419, 'numberfb': 1139, 'equival': 559, 'billion': 183, 'physic': 1248, 'app': 93, 'taken': 1637, 'peac': 1229, 'europ': 569, 'fri': 685, 'corpor': 367, 'gui': 741, 'fa': 606, 'nbsp': 1089, 'point': 1269, 'profit': 1318, 'cool': 362, 'memori': 1027, 'enterpris': 551, 'ms': 1075, 'chang': 272, 'numbercfont': 1129, 'post': 1280, 'cheer': 281, 'moment': 1057, 'exampl': 581, 'percent': 1232, 'contribut': 357, 'place': 1255, 'ar': 103, 'numberfp': 1142, 'lowest': 984, 'info': 839, 'lesson': 946, 'studi': 1603, 'near': 1090, 'mind': 1044, 'foundat': 678, 'kill': 911, 'beta': 177, 'boot': 199, 'boston': 202, 'assist': 120, 'url': 1765, 'effort': 524, 'sat': 1450, 'electron': 527, 'gener': 707, 'strategi': 1596, 'piiiiiiii': 1252, 'price': 1299, 'nearli': 1091, 'high': 779, 'tech': 1645, 'patent': 1223, 'usr': 1774, 'john': 893, 'readi': 1368, 'past': 1221, 'decis': 413, 'dr': 488, 'over': 1196, 'best': 176, 'recipi': 1375, 'pull': 1340, 'ago': 45, 'background': 148, 'watch': 1817, 'alreadi': 58, 'disk': 464, 'index': 833, 'item': 884, 'audio': 132, 'revers': 1420, 'got': 726, 'script': 1460, 'now': 1117, 'licens': 952, 'special': 1566, 'cf': 269, 'unlimit': 1755, 'prepar': 1291, 'side': 1512, 'numberc': 1126, 'financi': 645, 'gold': 722, 'remain': 1395, 'echo': 513, 'quot': 1353, 'vulner': 1802, 'accept': 10, 'these': 1675, 'ceo': 266, 'bodi': 195, 'pjnumber': 1254, 'smoke': 1535, 'unseen': 1756, 'perman': 1240, 'cat': 253, 'everyth': 577, 'order': 1183, 'murphi': 1081, 'limit': 957, 'numbera': 1121, 'mondai': 1059, 'saw': 1453, 'le': 935, 'region': 1385, 'period': 1238, 'numberftd': 1143, 'give': 712, 'ye': 1887, 'movi': 1072, 'veri': 1788, 'applic': 98, 'languag': 922, 'been': 167}\n"
     ]
    }
   ],
   "source": [
    "with open('vocab.txt', 'r') as f:\n",
    "    content = f.read().splitlines()\n",
    "\n",
    "content = map(lambda l: l.split('\\t'), content)\n",
    "vocab = dict((word, int(index)) for (index, word) in content)\n",
    "print(vocab)"
   ]
  },
  {
   "cell_type": "code",
   "execution_count": 45,
   "metadata": {
    "collapsed": true
   },
   "outputs": [],
   "source": [
    "def map_words_to_ids(tokens):\n",
    "    for word in tokens:\n",
    "        if word in vocab:\n",
    "            yield vocab[word]"
   ]
  },
  {
   "cell_type": "code",
   "execution_count": 47,
   "metadata": {
    "collapsed": false
   },
   "outputs": [
    {
     "name": "stdout",
     "output_type": "stream",
     "text": [
      "[176, 707, 1174, 1120, 479, 681, 460, 1711, 1475, 1120, 1347, 739, 1819, 10, 1795, 1012, 1227, 1120, 388, 799]\n"
     ]
    }
   ],
   "source": [
    "print(list(map_words_to_ids(process_email(content))))"
   ]
  },
  {
   "cell_type": "code",
   "execution_count": 48,
   "metadata": {
    "collapsed": true
   },
   "outputs": [],
   "source": [
    "def bag_of_words(word_ids):\n",
    "    feature_vector = np.zeros((len(vocab), 1))\n",
    "    for word_id in word_ids:\n",
    "        feature_vector[word_id, 0] = 1\n",
    "    return feature_vector"
   ]
  },
  {
   "cell_type": "code",
   "execution_count": 52,
   "metadata": {
    "collapsed": false
   },
   "outputs": [
    {
     "name": "stdout",
     "output_type": "stream",
     "text": [
      "1899\n",
      "[[ 0.]\n",
      " [ 0.]\n",
      " [ 0.]\n",
      " ..., \n",
      " [ 0.]\n",
      " [ 0.]\n",
      " [ 0.]]\n"
     ]
    }
   ],
   "source": [
    "feature_vector = bag_of_words(map_words_to_ids(process_email(content)))\n",
    "print(len(feature_vector))\n",
    "print(feature_vector)"
   ]
  },
  {
   "cell_type": "code",
   "execution_count": 67,
   "metadata": {
    "collapsed": false
   },
   "outputs": [],
   "source": [
    "train_data = loadmat('spamTrain.mat')\n",
    "X = train_data['X']\n",
    "y = train_data['y'].squeeze()\n",
    "\n",
    "train_data = loadmat('spamTest.mat')\n",
    "Xtest = train_data['Xtest']\n",
    "ytest = train_data['ytest'].squeeze()"
   ]
  },
  {
   "cell_type": "code",
   "execution_count": 68,
   "metadata": {
    "collapsed": false
   },
   "outputs": [
    {
     "data": {
      "text/plain": [
       "LinearSVC(C=1, class_weight=None, dual=True, fit_intercept=True,\n",
       "     intercept_scaling=1, loss='hinge', max_iter=1000, multi_class='ovr',\n",
       "     penalty='l2', random_state=42, tol=0.0001, verbose=0)"
      ]
     },
     "execution_count": 68,
     "metadata": {},
     "output_type": "execute_result"
    }
   ],
   "source": [
    "svm = LinearSVC(penalty='l2', loss='hinge', C=1, dual=True,\n",
    "                random_state=42)\n",
    "svm.fit(X, y)"
   ]
  },
  {
   "cell_type": "code",
   "execution_count": 69,
   "metadata": {
    "collapsed": false
   },
   "outputs": [
    {
     "name": "stdout",
     "output_type": "stream",
     "text": [
      "0.99975\n",
      "0.977\n"
     ]
    }
   ],
   "source": [
    "print(svm.score(X, y))\n",
    "print(svm.score(Xtest, ytest))"
   ]
  },
  {
   "cell_type": "code",
   "execution_count": 81,
   "metadata": {
    "collapsed": false
   },
   "outputs": [
    {
     "name": "stdout",
     "output_type": "stream",
     "text": [
      "our flash wi numberb instruct remov visit click bodi guarante\n"
     ]
    }
   ],
   "source": [
    "weights_indices = [(i, w) for (i, w) in enumerate(svm.coef_[0])]\n",
    "weights_indices = sorted(weights_indices, key=lambda x: x[1], reverse=True)\n",
    "inv_vocab = {v: k for (k, v) in vocab.items()}\n",
    "\n",
    "words = [inv_vocab[i + 1] for (i, _) in weights_indices[:10]]\n",
    "print(' '.join(words))"
   ]
  },
  {
   "cell_type": "code",
   "execution_count": null,
   "metadata": {
    "collapsed": true
   },
   "outputs": [],
   "source": []
  }
 ],
 "metadata": {
  "kernelspec": {
   "display_name": "Python 3",
   "language": "python",
   "name": "python3"
  },
  "language_info": {
   "codemirror_mode": {
    "name": "ipython",
    "version": 3
   },
   "file_extension": ".py",
   "mimetype": "text/x-python",
   "name": "python",
   "nbconvert_exporter": "python",
   "pygments_lexer": "ipython3",
   "version": "3.5.2"
  }
 },
 "nbformat": 4,
 "nbformat_minor": 2
}
